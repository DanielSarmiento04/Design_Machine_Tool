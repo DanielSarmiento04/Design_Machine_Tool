{
 "cells": [
  {
   "attachments": {},
   "cell_type": "markdown",
   "metadata": {},
   "source": [
    "# Enunciado \n",
    "\n",
    "Determine un tamaño adecuado del perno y la precarga para la junta de\n",
    "la figura 11-23 (repetida aquí). \n",
    "\n",
    "![](./imgs/figure_11_23.png)\n",
    "\n",
    "Calcule el factor de seguridad contra la\n",
    "fluencia y separación. Determine la precarga óptima, como un porcentaje\n",
    "de la resistencia de prueba, para maximizar los factores de seguridad.\n",
    "\n",
    "Las dimensiones de la junta son D = 1 in y l = 2 in. La carga aplicada es\n",
    "P = 2000 lb."
   ]
  },
  {
   "cell_type": "code",
   "execution_count": 42,
   "metadata": {},
   "outputs": [],
   "source": [
    "import pandas as pd\n",
    "import numpy as np"
   ]
  },
  {
   "cell_type": "code",
   "execution_count": 43,
   "metadata": {},
   "outputs": [],
   "source": [
    "# Datos\n",
    "\n",
    "P = 2000 #lb\n",
    "l = 2 # in\n",
    "D = 1 # in\n",
    "E = 30e6 # psi"
   ]
  },
  {
   "cell_type": "code",
   "execution_count": 44,
   "metadata": {},
   "outputs": [
    {
     "data": {
      "text/plain": [
       "('5/16', 0.3125, 18, 0.2403, 0.0524)"
      ]
     },
     "execution_count": 44,
     "metadata": {},
     "output_type": "execute_result"
    }
   ],
   "source": [
    "# Suposición considere un material acero SAE 5\n",
    "# con diámetro 5/16 UNC \n",
    "table_11_1 = pd.read_csv('table_11_1.csv')\n",
    "\n",
    "tornillo_esp = table_11_1[table_11_1['Tamaño'] == '5/16']\n",
    "tamano, d_max, num_cuerdas, dr, a_t,  *_ = tornillo_esp.values[0]\n",
    "tamano, d_max, num_cuerdas, dr, a_t"
   ]
  },
  {
   "cell_type": "code",
   "execution_count": 45,
   "metadata": {},
   "outputs": [
    {
     "name": "stdout",
     "output_type": "stream",
     "text": [
      "   Num SAE intervalo diametro [in]  SP  SY   SU             Material\n",
      "4      5.0                0.25–1.0  85  92  120  medio carbono, Q&T*\n",
      "5      5.0               1.125–1.5  74  81  105   medio carbono, Q&T\n"
     ]
    },
    {
     "data": {
      "text/plain": [
       "(5.0, '0.25–1.0', 85, 92, 120)"
      ]
     },
     "execution_count": 45,
     "metadata": {},
     "output_type": "execute_result"
    }
   ],
   "source": [
    "table_11_6 = pd.read_csv('table_11_6.csv')\n",
    "\n",
    "material = table_11_6[table_11_6['Num SAE'] == 5]\n",
    "print(material)\n",
    "num_, intervalo, SP, SY, SU, *_ = material.values[0]\n",
    "num_, intervalo, SP, SY, SU,"
   ]
  },
  {
   "cell_type": "code",
   "execution_count": 46,
   "metadata": {},
   "outputs": [
    {
     "name": "stdout",
     "output_type": "stream",
     "text": [
      "Pc = 76500.0 psi\n",
      "F_i = 4008.6000000000004 lb\n"
     ]
    }
   ],
   "source": [
    "# Suponga una pre-carga  de 0.9 SP\n",
    "Pc = 0.9 * SP * 1e3\n",
    "print(f'Pc = {Pc} psi')\n",
    "\n",
    "F_i = Pc * a_t\n",
    "print(f'F_i = {F_i} lb')\n"
   ]
  },
  {
   "cell_type": "code",
   "execution_count": 47,
   "metadata": {},
   "outputs": [
    {
     "name": "stdout",
     "output_type": "stream",
     "text": [
      "l_j = 2 in\n",
      "l_tornillo = 2.5 in\n",
      "l_cuerda = 0.875 in\n",
      "l_s = 1.625 in\n",
      "l_t = 0.375 in\n"
     ]
    }
   ],
   "source": [
    "# suposición de longitud \n",
    "# Es un perno con tuerca\n",
    "l_j = l\n",
    "print(f'l_j = {l_j} in')\n",
    "\n",
    "l_tornillo = 2.5 # in\n",
    "print(f'l_tornillo = {l_tornillo} in')\n",
    "\n",
    "l_cuerda = 2 * d_max + 1/4 # in\n",
    "print(f'l_cuerda = {l_cuerda} in')\n",
    "\n",
    "l_s = l_tornillo - l_cuerda\n",
    "print(f'l_s = {l_s} in')\n",
    "l_t = l_j - l_s\n",
    "print(f'l_t = {l_t} in')"
   ]
  },
  {
   "cell_type": "code",
   "execution_count": 48,
   "metadata": {},
   "outputs": [
    {
     "name": "stdout",
     "output_type": "stream",
     "text": [
      "D_ef = 0.9499177595981665 in\n",
      "k_m = 1.063e+07 lb/in\n"
     ]
    }
   ],
   "source": [
    "# Calculo para el k m\n",
    "D_ef = np.sqrt(pow(D, 2) - pow(d_max, 2))\n",
    "print(f'D_ef = {D_ef} in')\n",
    "\n",
    "k_m = np.pi * E * pow(D_ef,2) / (4 * l_j)\n",
    "print(f'k_m = {k_m:,.5g} lb/in')"
   ]
  },
  {
   "cell_type": "code",
   "execution_count": 49,
   "metadata": {},
   "outputs": [
    {
     "name": "stdout",
     "output_type": "stream",
     "text": [
      "a_b = 0.076699 in^2\n",
      "k_b = 1.0585e+06 lb/in\n"
     ]
    }
   ],
   "source": [
    "# Calculo para el k b\n",
    "\n",
    "a_b = np.pi * pow(d_max, 2) / 4\n",
    "print(f'a_b = {a_b:,.5g} in^2')\n",
    "k_b =  (a_b * a_t) / (a_b * l_t + a_t * l_s) * E\n",
    "print(f'k_b = {k_b:,.5g} lb/in')"
   ]
  },
  {
   "cell_type": "code",
   "execution_count": 50,
   "metadata": {},
   "outputs": [
    {
     "name": "stdout",
     "output_type": "stream",
     "text": [
      "c = 0.090552\n"
     ]
    }
   ],
   "source": [
    "# Calculo de la rigidez de la junta\n",
    "c = k_b / (k_b + k_m)\n",
    "print(f'c = {c:,.5g}')"
   ]
  },
  {
   "cell_type": "code",
   "execution_count": 52,
   "metadata": {},
   "outputs": [
    {
     "name": "stdout",
     "output_type": "stream",
     "text": [
      "Pb = 181.1 lb\n",
      "Pm = 1,818.9 lb\n",
      "F_b = 4,189.7 lb\n",
      "F_m = 2,189.7 lb\n"
     ]
    }
   ],
   "source": [
    "# Calculo de las cargas en el perno y en el material\n",
    "Pb = c * P\n",
    "print(f'Pb = {Pb:,.5g} lb')\n",
    "Pm = (1 - c) * P\n",
    "print(f'Pm = {Pm:,.5g} lb')\n",
    "\n",
    "F_b = F_i + Pb\n",
    "F_m = F_i - Pm\n",
    "print(f'F_b = {F_b:,.5g} lb')\n",
    "print(f'F_m = {F_m:,.5g} lb')\n"
   ]
  },
  {
   "cell_type": "code",
   "execution_count": 57,
   "metadata": {},
   "outputs": [
    {
     "name": "stdout",
     "output_type": "stream",
     "text": [
      "esfuerzo_y = 79,956 psi\n",
      "N_y = 1.1506\n"
     ]
    }
   ],
   "source": [
    "# calculo de la tensión en el perno\n",
    "esfuerzo_y = F_b / a_t\n",
    "print(f'esfuerzo_y = {esfuerzo_y:,.5g} psi')\n",
    "\n",
    "# Calculo del factor de seguridad\n",
    "N_y = SY*1e3 / esfuerzo_y\n",
    "print(f'N_y = {N_y:,.5g}')"
   ]
  },
  {
   "cell_type": "code",
   "execution_count": 59,
   "metadata": {},
   "outputs": [
    {
     "name": "stdout",
     "output_type": "stream",
     "text": [
      "N_s = 2.2039\n"
     ]
    }
   ],
   "source": [
    "# Calcular la fuerza para separar la junta\n",
    "P_0 = F_i / (1 - c)\n",
    "\n",
    "# Calcular el factor de seguridad para separar la junta\n",
    "N_s = P_0 / P\n",
    "print(f'N_s = {N_s:,.5g}')"
   ]
  }
 ],
 "metadata": {
  "kernelspec": {
   "display_name": "design",
   "language": "python",
   "name": "python3"
  },
  "language_info": {
   "codemirror_mode": {
    "name": "ipython",
    "version": 3
   },
   "file_extension": ".py",
   "mimetype": "text/x-python",
   "name": "python",
   "nbconvert_exporter": "python",
   "pygments_lexer": "ipython3",
   "version": "3.10.11"
  },
  "orig_nbformat": 4
 },
 "nbformat": 4,
 "nbformat_minor": 2
}
