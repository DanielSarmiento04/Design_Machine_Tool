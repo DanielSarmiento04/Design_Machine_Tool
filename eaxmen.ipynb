{
 "cells": [
  {
   "cell_type": "code",
   "execution_count": 7,
   "metadata": {},
   "outputs": [],
   "source": [
    "import pandas as pd\n",
    "import numpy as np\n",
    "from utils import *"
   ]
  },
  {
   "cell_type": "code",
   "execution_count": 2,
   "metadata": {},
   "outputs": [
    {
     "data": {
      "text/plain": [
       "('3/8', 0.375, 16, 0.2938, 0.0775)"
      ]
     },
     "execution_count": 2,
     "metadata": {},
     "output_type": "execute_result"
    }
   ],
   "source": [
    "# Suposición considere un material acero SAE 5\n",
    "# con diámetro 5/16 UNC \n",
    "table_11_1 = pd.read_csv('table_11_1.csv')\n",
    "table_11_1.head()\n",
    "tornillo_esp = table_11_1[table_11_1['Tamaño'] == '3/8']\n",
    "tamano, d_max, num_cuerdas, dr, a_t,  *_ = tornillo_esp.values[0]\n",
    "tamano, d_max, num_cuerdas, dr, a_t"
   ]
  },
  {
   "cell_type": "code",
   "execution_count": 3,
   "metadata": {},
   "outputs": [
    {
     "name": "stdout",
     "output_type": "stream",
     "text": [
      "   Num SAE intervalo diametro [in]  SP  SY   SU   \n",
      "6      5.2                0.25–1.0  85  92  120  \\\n",
      "\n",
      "                          Material  \n",
      "6  martensita al bajo carbono, Q&T  \n"
     ]
    },
    {
     "data": {
      "text/plain": [
       "(5.2, '0.25–1.0', 85, 92, 120)"
      ]
     },
     "execution_count": 3,
     "metadata": {},
     "output_type": "execute_result"
    }
   ],
   "source": [
    "table_11_6 = pd.read_csv('table_11_6.csv')\n",
    "\n",
    "material = table_11_6[table_11_6['Num SAE'] == 5.2]\n",
    "print(material)\n",
    "num_, intervalo, SP, SY, SU, *_ = material.values[0]\n",
    "num_, intervalo, SP, SY, SU,"
   ]
  },
  {
   "cell_type": "code",
   "execution_count": 6,
   "metadata": {},
   "outputs": [
    {
     "data": {
      "text/html": [
       "<div>\n",
       "<style scoped>\n",
       "    .dataframe tbody tr th:only-of-type {\n",
       "        vertical-align: middle;\n",
       "    }\n",
       "\n",
       "    .dataframe tbody tr th {\n",
       "        vertical-align: top;\n",
       "    }\n",
       "\n",
       "    .dataframe thead th {\n",
       "        text-align: right;\n",
       "    }\n",
       "</style>\n",
       "<table border=\"1\" class=\"dataframe\">\n",
       "  <thead>\n",
       "    <tr style=\"text-align: right;\">\n",
       "      <th></th>\n",
       "      <th>j</th>\n",
       "      <th>p0</th>\n",
       "      <th>p1</th>\n",
       "      <th>p2</th>\n",
       "      <th>p3</th>\n",
       "    </tr>\n",
       "  </thead>\n",
       "  <tbody>\n",
       "    <tr>\n",
       "      <th>0</th>\n",
       "      <td>0.1</td>\n",
       "      <td>0.4389</td>\n",
       "      <td>-0.9197</td>\n",
       "      <td>0.8901</td>\n",
       "      <td>-0.3187</td>\n",
       "    </tr>\n",
       "    <tr>\n",
       "      <th>1</th>\n",
       "      <td>0.2</td>\n",
       "      <td>0.6118</td>\n",
       "      <td>-1.1715</td>\n",
       "      <td>1.0875</td>\n",
       "      <td>-0.3806</td>\n",
       "    </tr>\n",
       "    <tr>\n",
       "      <th>2</th>\n",
       "      <td>0.3</td>\n",
       "      <td>0.6932</td>\n",
       "      <td>-1.2426</td>\n",
       "      <td>1.1177</td>\n",
       "      <td>-0.3845</td>\n",
       "    </tr>\n",
       "    <tr>\n",
       "      <th>3</th>\n",
       "      <td>0.4</td>\n",
       "      <td>0.7351</td>\n",
       "      <td>-1.2612</td>\n",
       "      <td>1.1111</td>\n",
       "      <td>-0.3779</td>\n",
       "    </tr>\n",
       "    <tr>\n",
       "      <th>4</th>\n",
       "      <td>0.5</td>\n",
       "      <td>0.7580</td>\n",
       "      <td>-1.2632</td>\n",
       "      <td>1.0979</td>\n",
       "      <td>-0.3708</td>\n",
       "    </tr>\n",
       "  </tbody>\n",
       "</table>\n",
       "</div>"
      ],
      "text/plain": [
       "     j      p0      p1      p2      p3\n",
       "0  0.1  0.4389 -0.9197  0.8901 -0.3187\n",
       "1  0.2  0.6118 -1.1715  1.0875 -0.3806\n",
       "2  0.3  0.6932 -1.2426  1.1177 -0.3845\n",
       "3  0.4  0.7351 -1.2612  1.1111 -0.3779\n",
       "4  0.5  0.7580 -1.2632  1.0979 -0.3708"
      ]
     },
     "execution_count": 6,
     "metadata": {},
     "output_type": "execute_result"
    }
   ],
   "source": [
    "table_11_8 = pd.read_csv('table_11_8.csv')\n",
    "table_11_8.head()"
   ]
  },
  {
   "cell_type": "code",
   "execution_count": 4,
   "metadata": {},
   "outputs": [
    {
     "name": "stdout",
     "output_type": "stream",
     "text": [
      "Pc = 76500.0 psi\n",
      "F_i = 5928.75 lb\n"
     ]
    }
   ],
   "source": [
    "# Suponga una pre-carga  de 0.9 SP\n",
    "Pc = 0.9 * SP * 1e3\n",
    "print(f'Pc = {Pc} psi')\n",
    "\n",
    "F_i = Pc * a_t\n",
    "print(f'F_i = {F_i} lb')\n"
   ]
  },
  {
   "cell_type": "code",
   "execution_count": 9,
   "metadata": {},
   "outputs": [
    {
     "name": "stdout",
     "output_type": "stream",
     "text": [
      "j = 0.46875\n",
      "p0 = 0.75084375 p1 = -1.262575 p2 = 1.102025 p3 = -0.37301875\n"
     ]
    }
   ],
   "source": [
    "l = 0.8 \n",
    "\n",
    "j = d_max / l\n",
    "print(f'j = {j}')\n",
    "# Hallar la rigidez a cada material\n",
    "p0, p1, p2, p3, *_ = get_row_values(table_11_8, j)\n",
    "print(f'p0 = {p0}', f'p1 = {p1}', f'p2 = {p2}', f'p3 = {p3}')\n"
   ]
  },
  {
   "cell_type": "code",
   "execution_count": 10,
   "metadata": {},
   "outputs": [
    {
     "name": "stdout",
     "output_type": "stream",
     "text": [
      "cl 0.2172750000000001\n"
     ]
    }
   ],
   "source": [
    "r = 1\n",
    "c = calculate_c_r(r, p0, p1, p2, p3)\n",
    "print(\"cl\", c)"
   ]
  },
  {
   "cell_type": "code",
   "execution_count": 18,
   "metadata": {},
   "outputs": [
    {
     "name": "stdout",
     "output_type": "stream",
     "text": [
      "P = 6613.86 lb\n",
      "D = 60 in\n",
      "num_pernos = 21.818181818181817\n",
      "P_unitaria = 303.13525 lb\n",
      "P_b = 65.86371144375003 lb\n",
      "P_m = 237.27153855624996 lb\n",
      "F_b = 5,994.6 lb\n",
      "F_m = 5,691.5 lb\n",
      "esfuerzo_y = 77,350 psi\n",
      "N_y = 1.1894\n"
     ]
    }
   ],
   "source": [
    "P = 3 # ton\n",
    "P = P * 2204.62 # lb\n",
    "print(f'P = {P} lb')\n",
    "\n",
    "D = 5 # ft\n",
    "D = D * 12 # in\n",
    "print(f'D = {D} in')\n",
    "\n",
    "num_pernos = D / (2 * d_max + 2)\n",
    "print(f'num_pernos = {num_pernos}')\n",
    "\n",
    "P_unitaria = P / num_pernos\n",
    "print(f'P_unitaria = {P_unitaria} lb')\n",
    "\n",
    "P_b = c * P_unitaria\n",
    "print(f'P_b = {P_b} lb')\n",
    "\n",
    "P_m = (1 - c) * P_unitaria\n",
    "print(f'P_m = {P_m} lb')\n",
    "\n",
    "\n",
    "\n",
    "F_b = F_i + P_b\n",
    "F_m = F_i - P_m\n",
    "print(f'F_b = {F_b:,.5g} lb')\n",
    "print(f'F_m = {F_m:,.5g} lb')\n",
    "\n",
    "# calculo de la tensión en el perno\n",
    "esfuerzo_y = F_b / a_t\n",
    "print(f'esfuerzo_y = {esfuerzo_y:,.5g} psi')\n",
    "\n",
    "# Calculo del factor de seguridad\n",
    "N_y = SY*1e3 / esfuerzo_y\n",
    "print(f'N_y = {N_y:,.5g}')"
   ]
  },
  {
   "cell_type": "code",
   "execution_count": 21,
   "metadata": {},
   "outputs": [
    {
     "name": "stdout",
     "output_type": "stream",
     "text": [
      "P_0 = 7,574.5 lb\n",
      "N_s = 24.987\n"
     ]
    }
   ],
   "source": [
    "# Calcular la fuerza para separar la junta\n",
    "P_0 = F_i / (1 - c)\n",
    "print(f'P_0 = {P_0:,.5g} lb')\n",
    "# Calcular el factor de seguridad para separar la junta\n",
    "N_s = P_0 / P_unitaria\n",
    "print(f'N_s = {N_s:,.5g}')"
   ]
  },
  {
   "cell_type": "code",
   "execution_count": 22,
   "metadata": {},
   "outputs": [
    {
     "name": "stdout",
     "output_type": "stream",
     "text": [
      "torque requerido = 466.9 lb-in\n"
     ]
    }
   ],
   "source": [
    "T_i  = 0.21 * F_i * d_max\n",
    "print(f'torque requerido = {T_i:,.4g}', 'lb-in')"
   ]
  },
  {
   "attachments": {},
   "cell_type": "markdown",
   "metadata": {},
   "source": [
    "## Punto 2"
   ]
  },
  {
   "cell_type": "code",
   "execution_count": 25,
   "metadata": {},
   "outputs": [],
   "source": [
    "force = 2500 # lb\n",
    "l = 10 # in\n",
    "a = b = 4 # in \n",
    "count_pin = 4"
   ]
  },
  {
   "cell_type": "code",
   "execution_count": 26,
   "metadata": {},
   "outputs": [
    {
     "name": "stdout",
     "output_type": "stream",
     "text": [
      "F_1 =  625.0 lb\n",
      "momentum =  25000 lb-in\n",
      "r =  5.656854249492381 in\n",
      "F_2 =  1104.8543456039804 lb\n"
     ]
    }
   ],
   "source": [
    "F_1 = force / count_pin\n",
    "print(\"F_1 = \", F_1, \"lb\")\n",
    "\n",
    "momentum = force * l\n",
    "print(\"momentum = \", momentum, \"lb-in\")\n",
    "\n",
    "r = np.sqrt(pow(a, 2) + pow(b, 2))\n",
    "print(\"r = \", r, \"in\")\n",
    "\n",
    "F_2 = momentum / (r * count_pin)\n",
    "print(\"F_2 = \", F_2, \"lb\")"
   ]
  },
  {
   "cell_type": "code",
   "execution_count": 27,
   "metadata": {},
   "outputs": [
    {
     "data": {
      "text/plain": [
       "(0.7071067811865476, 0.7071067811865476)"
      ]
     },
     "execution_count": 27,
     "metadata": {},
     "output_type": "execute_result"
    }
   ],
   "source": [
    "np.cos(np.pi/4), np.sqrt(2)/2"
   ]
  },
  {
   "cell_type": "code",
   "execution_count": 28,
   "metadata": {},
   "outputs": [
    {
     "name": "stdout",
     "output_type": "stream",
     "text": [
      "F_r_x =  781.25 lb\n",
      "F_R_Y =  1406.25 lb\n",
      "F_R =  1608.6922095292189 lb\n",
      "area =  0.04908738521234052 in^2\n",
      "strain =  32,772.00858367977\n"
     ]
    }
   ],
   "source": [
    "F_r_x = F_2 * np.cos(np.pi / 4)\n",
    "print(\"F_r_x = \", F_r_x, \"lb\")\n",
    "F_R_Y = F_2 * np.sin(np.pi / 4) + F_1\n",
    "print(\"F_R_Y = \", F_R_Y, \"lb\")\n",
    "\n",
    "F_R = np.sqrt(pow(F_r_x, 2) + pow(F_R_Y, 2))\n",
    "print(\"F_R = \", F_R, \"lb\")\n",
    "\n",
    "d = 0.25 # in\n",
    "\n",
    "area = (np.pi * pow(d, 2)) / 4\n",
    "print(\"area = \", area, \"in^2\")\n",
    "\n",
    "strain = F_R / (area )\n",
    "print(\"strain = \", f'{strain:,}')"
   ]
  },
  {
   "cell_type": "code",
   "execution_count": null,
   "metadata": {},
   "outputs": [],
   "source": []
  },
  {
   "cell_type": "code",
   "execution_count": 29,
   "metadata": {},
   "outputs": [
    {
     "name": "stdout",
     "output_type": "stream",
     "text": [
      "sys =  117,000.0 psi\n",
      "Ny =  3.570119899769133 lb\n"
     ]
    }
   ],
   "source": [
    "sys = 117e3#0.577 * sy\n",
    "\n",
    "\n",
    "print(\"sys = \", f'{sys:,}', \"psi\")\n",
    "\n",
    "Ny = sys / strain\n",
    "print(\"Ny = \", f'{Ny:,}', \"lb\")"
   ]
  },
  {
   "cell_type": "code",
   "execution_count": 6,
   "metadata": {},
   "outputs": [
    {
     "name": "stdout",
     "output_type": "stream",
     "text": [
      "F_resultante =  1269.3810007243687 lb\n"
     ]
    }
   ],
   "source": [
    "F_resultante = np.sqrt(pow(F_1, 2) + pow(F_2, 2))\n",
    "print(\"F_resultante = \", F_resultante, \"lb\")"
   ]
  }
 ],
 "metadata": {
  "kernelspec": {
   "display_name": "design",
   "language": "python",
   "name": "python3"
  },
  "language_info": {
   "codemirror_mode": {
    "name": "ipython",
    "version": 3
   },
   "file_extension": ".py",
   "mimetype": "text/x-python",
   "name": "python",
   "nbconvert_exporter": "python",
   "pygments_lexer": "ipython3",
   "version": "3.10.11"
  },
  "orig_nbformat": 4
 },
 "nbformat": 4,
 "nbformat_minor": 2
}
