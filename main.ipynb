{
  "cells": [
    {
      "cell_type": "markdown",
      "metadata": {
        "id": "HvhJ06oVRTyw"
      },
      "source": [
        "# Statement\n",
        "Una cámara de presión está sellada con una tapa sujeta con ocho pernos\n",
        "precargados. Obtenga la rigidez del empaque y las constantes de la junta\n",
        "para dos diseños del ensamble, como se indica en la figura 11-33, uno con\n",
        "un empaque confinado y otro con un empaque no confinado. También\n",
        "\n",
        "\n",
        "determine las cargas experimentadas por los pernos y el material.\n",
        "El diámetro del cilindro Dp = 4 in. El diámetro del círculo de los pernos\n",
        "Dbc = 5.5 in. El diámetro de la pestaña exterior Df = 7.25 in. Los ocho\n",
        "pernos 3/8-16 UNC están equidistantes en el círculo de pernos. La pestaña\n",
        "sobre la cámara de acero tiene 0.75 in de grueso. El espesor de la cubierta\n",
        "de aluminio lc = 1.125 in. La longitud sujeta l de la junta es de 1.875 in. El\n",
        "espesor del empaque t = 0.125 in. La presión en el cilindro es de 1 500 psi."
      ]
    },
    {
      "cell_type": "markdown",
      "metadata": {
        "id": "lnUGPvHYRM_p"
      },
      "source": [
        "## Import necessary dependency"
      ]
    },
    {
      "cell_type": "code",
      "execution_count": 1,
      "metadata": {
        "id": "fTb_orOeslne"
      },
      "outputs": [],
      "source": [
        "import numpy as np\n",
        "import pandas as pd\n",
        "from sympy import Eq, solve, symbols"
      ]
    },
    {
      "cell_type": "markdown",
      "metadata": {
        "id": "z5BYsyRLhoPT"
      },
      "source": [
        "## Tables"
      ]
    },
    {
      "cell_type": "code",
      "execution_count": 2,
      "metadata": {
        "colab": {
          "base_uri": "https://localhost:8080/",
          "height": 206
        },
        "id": "n271h9wJg0P5",
        "outputId": "f79978f0-a26d-4274-84cb-2b72009c7303"
      },
      "outputs": [
        {
          "data": {
            "text/html": [
              "<div>\n",
              "<style scoped>\n",
              "    .dataframe tbody tr th:only-of-type {\n",
              "        vertical-align: middle;\n",
              "    }\n",
              "\n",
              "    .dataframe tbody tr th {\n",
              "        vertical-align: top;\n",
              "    }\n",
              "\n",
              "    .dataframe thead th {\n",
              "        text-align: right;\n",
              "    }\n",
              "</style>\n",
              "<table border=\"1\" class=\"dataframe\">\n",
              "  <thead>\n",
              "    <tr style=\"text-align: right;\">\n",
              "      <th></th>\n",
              "      <th>j</th>\n",
              "      <th>p0</th>\n",
              "      <th>p1</th>\n",
              "      <th>p2</th>\n",
              "      <th>p3</th>\n",
              "    </tr>\n",
              "  </thead>\n",
              "  <tbody>\n",
              "    <tr>\n",
              "      <th>0</th>\n",
              "      <td>0.1</td>\n",
              "      <td>0.4389</td>\n",
              "      <td>-0.9197</td>\n",
              "      <td>0.8901</td>\n",
              "      <td>-0.3187</td>\n",
              "    </tr>\n",
              "    <tr>\n",
              "      <th>1</th>\n",
              "      <td>0.2</td>\n",
              "      <td>0.6118</td>\n",
              "      <td>-1.1715</td>\n",
              "      <td>1.0875</td>\n",
              "      <td>-0.3806</td>\n",
              "    </tr>\n",
              "    <tr>\n",
              "      <th>2</th>\n",
              "      <td>0.3</td>\n",
              "      <td>0.6932</td>\n",
              "      <td>-1.2426</td>\n",
              "      <td>1.1177</td>\n",
              "      <td>-0.3845</td>\n",
              "    </tr>\n",
              "    <tr>\n",
              "      <th>3</th>\n",
              "      <td>0.4</td>\n",
              "      <td>0.7351</td>\n",
              "      <td>-1.2612</td>\n",
              "      <td>1.1111</td>\n",
              "      <td>-0.3779</td>\n",
              "    </tr>\n",
              "    <tr>\n",
              "      <th>4</th>\n",
              "      <td>0.5</td>\n",
              "      <td>0.7580</td>\n",
              "      <td>-1.2632</td>\n",
              "      <td>1.0979</td>\n",
              "      <td>-0.3708</td>\n",
              "    </tr>\n",
              "  </tbody>\n",
              "</table>\n",
              "</div>"
            ],
            "text/plain": [
              "     j      p0      p1      p2      p3\n",
              "0  0.1  0.4389 -0.9197  0.8901 -0.3187\n",
              "1  0.2  0.6118 -1.1715  1.0875 -0.3806\n",
              "2  0.3  0.6932 -1.2426  1.1177 -0.3845\n",
              "3  0.4  0.7351 -1.2612  1.1111 -0.3779\n",
              "4  0.5  0.7580 -1.2632  1.0979 -0.3708"
            ]
          },
          "execution_count": 2,
          "metadata": {},
          "output_type": "execute_result"
        }
      ],
      "source": [
        "content_table_11_8 = \"\"\"\n",
        "0.10\n",
        "0.20\n",
        "0.30\n",
        "0.40\n",
        "0.50\n",
        "0.60\n",
        "0.70\n",
        "0.80\n",
        "0.90\n",
        "1.00\n",
        "1.25\n",
        "1.50\n",
        "1.75\n",
        "2.00\n",
        "0.4389\n",
        "0.6118\n",
        "0.6932\n",
        "0.7351\n",
        "0.7580\n",
        "0.7709\n",
        "0.7773\n",
        "0.7800\n",
        "0.7797\n",
        "0.7774\n",
        "0.7667\n",
        "0.7518\n",
        "0.7350\n",
        "0.7175\n",
        "-0.9197\n",
        "-1.1715\n",
        "-1.2426\n",
        "-1.2612\n",
        "-1.2632\n",
        "-1.2600\n",
        "-1.2543\n",
        "-1.2503\n",
        "-1.2458\n",
        "-1.2413\n",
        "-1.2333\n",
        "-1.2264\n",
        "-1.2202\n",
        "-1.2133\n",
        "0.8901\n",
        "1.0875\n",
        "1.1177\n",
        "1.1111\n",
        "1.0979\n",
        "1.0851\n",
        "1.0735\n",
        "1.0672\n",
        "1.0620\n",
        "1.0577\n",
        "1.0548\n",
        "1.0554\n",
        "1.0581\n",
        "1.0604\n",
        "-0.3187\n",
        "-0.3806\n",
        "-0.3845\n",
        "-0.3779\n",
        "-0.3708\n",
        "-0.3647\n",
        "-0.3595\n",
        "-0.3571\n",
        "-0.3552\n",
        "-0.3537\n",
        "-0.3535\n",
        "-0.3550\n",
        "-0.3574\n",
        "-0.3596\n",
        "\"\"\"\n",
        "matrix_table_11_8 = np.array(content_table_11_8.split(\"\\n\"))[1:-1].reshape(5, 14)\n",
        "table_11_8 = pd.DataFrame(matrix_table_11_8).transpose().astype(float)\n",
        "table_11_8.columns = [\"j\", \"p0\", \"p1\", \"p2\", \"p3\"]\n",
        "table_11_8.head()"
      ]
    },
    {
      "cell_type": "code",
      "execution_count": 16,
      "metadata": {},
      "outputs": [],
      "source": [
        "table_11_8.to_csv(\"table_11_8.csv\", index=False)"
      ]
    },
    {
      "cell_type": "code",
      "execution_count": 3,
      "metadata": {
        "colab": {
          "base_uri": "https://localhost:8080/",
          "height": 206
        },
        "id": "YtDod3e8_g4c",
        "outputId": "f8ea331e-beb6-4301-d3f1-3f79b02bff82"
      },
      "outputs": [
        {
          "data": {
            "text/html": [
              "<div>\n",
              "<style scoped>\n",
              "    .dataframe tbody tr th:only-of-type {\n",
              "        vertical-align: middle;\n",
              "    }\n",
              "\n",
              "    .dataframe tbody tr th {\n",
              "        vertical-align: top;\n",
              "    }\n",
              "\n",
              "    .dataframe thead th {\n",
              "        text-align: right;\n",
              "    }\n",
              "</style>\n",
              "<table border=\"1\" class=\"dataframe\">\n",
              "  <thead>\n",
              "    <tr style=\"text-align: right;\">\n",
              "      <th></th>\n",
              "      <th>j</th>\n",
              "      <th>q0</th>\n",
              "      <th>q1</th>\n",
              "      <th>q2</th>\n",
              "      <th>q3</th>\n",
              "    </tr>\n",
              "  </thead>\n",
              "  <tbody>\n",
              "    <tr>\n",
              "      <th>0</th>\n",
              "      <td>0.1</td>\n",
              "      <td>0.0079</td>\n",
              "      <td>17.0400</td>\n",
              "      <td>-92.832</td>\n",
              "      <td>202.440</td>\n",
              "    </tr>\n",
              "    <tr>\n",
              "      <th>1</th>\n",
              "      <td>0.2</td>\n",
              "      <td>0.1010</td>\n",
              "      <td>8.5465</td>\n",
              "      <td>-24.166</td>\n",
              "      <td>15.497</td>\n",
              "    </tr>\n",
              "    <tr>\n",
              "      <th>2</th>\n",
              "      <td>0.3</td>\n",
              "      <td>0.0861</td>\n",
              "      <td>8.2344</td>\n",
              "      <td>-22.274</td>\n",
              "      <td>13.963</td>\n",
              "    </tr>\n",
              "    <tr>\n",
              "      <th>3</th>\n",
              "      <td>0.4</td>\n",
              "      <td>0.0695</td>\n",
              "      <td>8.0297</td>\n",
              "      <td>-20.727</td>\n",
              "      <td>12.646</td>\n",
              "    </tr>\n",
              "    <tr>\n",
              "      <th>4</th>\n",
              "      <td>0.5</td>\n",
              "      <td>0.0533</td>\n",
              "      <td>7.8676</td>\n",
              "      <td>-19.357</td>\n",
              "      <td>11.457</td>\n",
              "    </tr>\n",
              "  </tbody>\n",
              "</table>\n",
              "</div>"
            ],
            "text/plain": [
              "     j      q0       q1      q2       q3\n",
              "0  0.1  0.0079  17.0400 -92.832  202.440\n",
              "1  0.2  0.1010   8.5465 -24.166   15.497\n",
              "2  0.3  0.0861   8.2344 -22.274   13.963\n",
              "3  0.4  0.0695   8.0297 -20.727   12.646\n",
              "4  0.5  0.0533   7.8676 -19.357   11.457"
            ]
          },
          "execution_count": 3,
          "metadata": {},
          "output_type": "execute_result"
        }
      ],
      "source": [
        "content_table_11_9 = \"\"\"\n",
        "0.10\n",
        "0.20\n",
        "0.30\n",
        "0.40\n",
        "0.50\n",
        "0.60\n",
        "0.70\n",
        "0.80\n",
        "0.90\n",
        "1.00\n",
        "1.25\n",
        "1.50\n",
        "1.75\n",
        "2.00\n",
        "0.0079\n",
        "0.1010\n",
        "0.0861\n",
        "0.0695\n",
        "0.0533\n",
        "0.0372\n",
        "0.0197\n",
        "0.0029\n",
        "-0.0123\n",
        "-0.0265\n",
        "-0.0524\n",
        "-0.0678\n",
        "-0.0763\n",
        "-0.0784\n",
        "17.040\n",
        "8.5465\n",
        "8.2344\n",
        "8.0297\n",
        "7.8676\n",
        "7.6705\n",
        "7.3030\n",
        "6.9893\n",
        "6.7006\n",
        "6.4643\n",
        "5.7363\n",
        "5.0674\n",
        "4.5187\n",
        "3.9617\n",
        "-92.832\n",
        "-24.166\n",
        "-22.274\n",
        "-20.727\n",
        "-19.357\n",
        "-17.951\n",
        "-16.235\n",
        "-14.737\n",
        "-13.363\n",
        "-12.188\n",
        "-9.3326\n",
        "-7.0322\n",
        "-5.1590\n",
        "-3.5248\n",
        "202.44\n",
        "15.497\n",
        "13.963\n",
        "12.646\n",
        "11.457\n",
        "10.262\n",
        "8.9273\n",
        "7.7545\n",
        "6.6784\n",
        "5.7481\n",
        "3.6348\n",
        "2.0107\n",
        "0.6861\n",
        "-0.3956\n",
        "\"\"\"\n",
        "matrix_table_11_9 = np.array(content_table_11_9.split(\"\\n\"))[1:-1].reshape(5, 14)\n",
        "table_11_9 = pd.DataFrame(matrix_table_11_9).transpose().astype(float)\n",
        "table_11_9.columns = [\"j\", \"q0\", \"q1\", \"q2\", \"q3\"]\n",
        "table_11_9.head()"
      ]
    },
    {
      "cell_type": "code",
      "execution_count": 17,
      "metadata": {},
      "outputs": [],
      "source": [
        "table_11_9.to_csv(\"table_11_9.csv\", index=False)"
      ]
    },
    {
      "cell_type": "code",
      "execution_count": 4,
      "metadata": {
        "id": "eCjNiZLZs1Ah"
      },
      "outputs": [],
      "source": [
        "get_a = lambda j : pow(np.e, 0.0598 * pow(np.log(j), 3) + 0.1385 * pow(np.log(j), 2) - 0.4350 * np.log(j) - 2.3516)"
      ]
    },
    {
      "cell_type": "code",
      "execution_count": 5,
      "metadata": {
        "id": "OziecesJxNvO"
      },
      "outputs": [],
      "source": [
        "def C_dureza(c_h, c_l, c_t, a, t):\n",
        "    return c_h + (t + a * c_t) * (c_l - c_h)\n",
        "\n",
        "def get_razon_espesor(T_l, T_h):\n",
        "    \"\"\"\n",
        "    Description\n",
        "    -----------\n",
        "\n",
        "    This function is used to calculate the thickness ratio\n",
        "\n",
        "\n",
        "    @param T_l is the lower \n",
        "    @param T_h  is the higher\n",
        "\n",
        "    \"\"\"\n",
        "    return T_l / (T_l + T_h)\n",
        "\n",
        "def calculte_c_t(j, q0, q1, q2, q3, *arg):\n",
        "    if True:\n",
        "        return q3 * pow(t, 3) + q2 * pow(t, 2) + q1 * t + q0\n",
        "\n",
        "def calculate_c_r(r, p0, p1, p2, p3, *args):\n",
        "    return p3 * pow(r, 3) + p2 * pow(r, 2) + p1 * r + p0"
      ]
    },
    {
      "cell_type": "code",
      "execution_count": 6,
      "metadata": {
        "id": "ThplgH842Mpl"
      },
      "outputs": [],
      "source": [
        "# Datos\n",
        "Dp = 4 # in\n",
        "Dbc = 5.5 # in\n",
        "Df = 7.25 # in\n",
        "\n",
        "\n",
        "# perno\n",
        "num_pernos = 8\n",
        "d = 3/8 # in\n",
        "d_r = 0.2938 # in\n",
        "A_t = 0.0775 # in ^ 2\n",
        "\n",
        "# junta\n",
        "l_c  = 1.125 # in\n",
        "l = 1.875 # in\n",
        "l_a = l - l_c\n",
        "\n",
        "# sistema\n",
        "presion = 1500 # psi\n",
        "\n",
        "t_confinado = 0.125 # in\n",
        "\n",
        "# Constantes\n",
        "E_aluminio = 10.4e6 # psi\n",
        "E_acero =  30e6 # psi\n",
        "E_caucho = 10e3 #psi\n"
      ]
    },
    {
      "cell_type": "code",
      "execution_count": 7,
      "metadata": {
        "colab": {
          "base_uri": "https://localhost:8080/"
        },
        "id": "lK6mVF9xEZ4d",
        "outputId": "3ea84bfb-5e15-4b34-9cf6-bec31da4206d"
      },
      "outputs": [
        {
          "name": "stdout",
          "output_type": "stream",
          "text": [
            "Razon  espesor 0.6\n"
          ]
        }
      ],
      "source": [
        "t = get_razon_espesor(l_c, l - l_c)\n",
        "print(f\"Razon  espesor {t}\")"
      ]
    },
    {
      "cell_type": "code",
      "execution_count": 8,
      "metadata": {
        "colab": {
          "base_uri": "https://localhost:8080/"
        },
        "id": "zDwjZkO2-sj2",
        "outputId": "03cf27f7-e566-4f5e-d8e9-c84455f7e414"
      },
      "outputs": [
        {
          "name": "stdout",
          "output_type": "stream",
          "text": [
            "0.2\n"
          ]
        }
      ],
      "source": [
        "j = d / l \n",
        "print(j)"
      ]
    },
    {
      "cell_type": "code",
      "execution_count": 9,
      "metadata": {
        "colab": {
          "base_uri": "https://localhost:8080/"
        },
        "id": "tK4dKkO0CmLe",
        "outputId": "fd1c09d6-3475-464a-dc5e-5291f7126b9a"
      },
      "outputs": [
        {
          "name": "stdout",
          "output_type": "stream",
          "text": [
            "0.21394416695744062\n"
          ]
        }
      ],
      "source": [
        "a = get_a(j)\n",
        "print(a)"
      ]
    },
    {
      "cell_type": "code",
      "execution_count": 10,
      "metadata": {
        "colab": {
          "base_uri": "https://localhost:8080/"
        },
        "id": "ki8UVZJCeaLQ",
        "outputId": "73906623-18c9-4dca-8add-3e54733c4bcc"
      },
      "outputs": [
        {
          "name": "stdout",
          "output_type": "stream",
          "text": [
            "0.3466666666666667\n",
            "rigidez de junta con menor modulo de young 0.32051691709629626\n",
            "razon de modulo en materil con modulo de young mayor 1.0\n",
            "rigidez de junta con mayor modulo de young 0.1471999999999999\n",
            "ct -0.12350800000000103\n",
            "rigidez en la junta 0.24661045590082692\n"
          ]
        }
      ],
      "source": [
        "r_l = E_aluminio / E_acero\n",
        "print(r_l)\n",
        "\n",
        "# Contante j \n",
        "j, p0, p1, p2, p3, *_ = table_11_8.loc[table_11_8['j'] == j].values[0]\n",
        "\n",
        "c_l = calculate_c_r(r_l, p0, p1, p2, p3)\n",
        "print(\"rigidez de junta con menor modulo de young\", c_l)\n",
        "\n",
        "r_h = E_acero / E_acero\n",
        "print(\"razon de modulo en materil con modulo de young mayor\", r_h)\n",
        "\n",
        "c_h = calculate_c_r(r_h, p0, p1, p2, p3)\n",
        "print(\"rigidez de junta con mayor modulo de young\", c_h)\n",
        "\n",
        "# constante j\n",
        "j, q0, q1, q2, q3, *_ = table_11_9.loc[table_11_8['j'] == j].values[0]\n",
        "\n",
        "c_t = calculte_c_t(j, q0, q1, q2, q3, _)\n",
        "print(\"ct\", c_t)\n",
        "\n",
        "c = c_h + (t + a * c_t) * (c_l - c_h)\n",
        "\n",
        "print(\"rigidez en la junta\", c)"
      ]
    },
    {
      "cell_type": "code",
      "execution_count": 11,
      "metadata": {
        "colab": {
          "base_uri": "https://localhost:8080/"
        },
        "id": "BVfZdCZ30T_f",
        "outputId": "ce775ca1-be92-4671-d4ad-69ad1273593a"
      },
      "outputs": [
        {
          "name": "stdout",
          "output_type": "stream",
          "text": [
            "area_tapa = 12.566370614359172\n",
            "f_neta = 18849.55592153876\n",
            "p_unitaria = 2356.194490192345 lb\n",
            "carga en el tornillo 581.0621974173506 lb\n",
            "carga en el material 1775.1322927749943 lb\n"
          ]
        }
      ],
      "source": [
        "area_tapa = np.pi * pow(Dp, 2) / 4\n",
        "print(f\"{area_tapa = }\")\n",
        "\n",
        "f_neta = presion * area_tapa\n",
        "print(f\"{f_neta = }\")\n",
        "\n",
        "p_unitaria = f_neta / num_pernos # psi\n",
        "print(f\"{p_unitaria = }\", \"lb\")\n",
        "\n",
        "p_b_tornillo = c * p_unitaria\n",
        "print(\"carga en el tornillo\", p_b_tornillo, \"lb\")\n",
        "\n",
        "p_m_material = (1 - c) * p_unitaria\n",
        "print(\"carga en el material\", p_m_material, \"lb\")\n"
      ]
    },
    {
      "cell_type": "code",
      "execution_count": 12,
      "metadata": {
        "colab": {
          "base_uri": "https://localhost:8080/"
        },
        "id": "3u3DtE899fKr",
        "outputId": "d920e37b-da16-493a-dd8a-3f0c260a2069"
      },
      "outputs": [
        {
          "name": "stdout",
          "output_type": "stream",
          "text": [
            "longitud de la cuerda 1.0\n",
            "l_s = 1.5\n",
            "l_t = 0.375\n",
            "area_material_perno = 0.11044661672776616\n",
            "1357225.4607127479\n"
          ]
        }
      ],
      "source": [
        "\n",
        "l_cuerda = 2 * d + 1/4\n",
        "print(\"longitud de la cuerda\", l_cuerda)\n",
        "\n",
        "# Asuma l = 2.5\n",
        "l_tornillo = 2.5 #in\n",
        "l_s = l_tornillo - l_cuerda\n",
        "l_t = l - l_s\n",
        "\n",
        "print(f\"{l_s = }\")\n",
        "print(f\"{l_t = }\")\n",
        "\n",
        "area_material_perno = np.pi * pow(d, 2) / 4\n",
        "print(f\"{area_material_perno = }\")\n",
        "\n",
        "k_b_prima = pow(1 + j, -1) * (A_t * area_material_perno) / (area_material_perno * l_t + A_t * l_s) * E_acero\n",
        "print(f\"{k_b_prima}\")"
      ]
    },
    {
      "cell_type": "code",
      "execution_count": 13,
      "metadata": {
        "colab": {
          "base_uri": "https://localhost:8080/"
        },
        "id": "JHpR2lagDxd3",
        "outputId": "cf7c5d2b-d56c-4bd0-ce46-04edf2974825"
      },
      "outputs": [
        {
          "name": "stdout",
          "output_type": "stream",
          "text": [
            "4146294.07074844\n"
          ]
        }
      ],
      "source": [
        "k_m = symbols('k_m')\n",
        "\n",
        "eqt = Eq(c, k_b_prima/ (k_b_prima+k_m))\n",
        "k_m = solve(eqt)[0]\n",
        "print(k_m)"
      ]
    },
    {
      "cell_type": "code",
      "execution_count": 14,
      "metadata": {
        "colab": {
          "base_uri": "https://localhost:8080/"
        },
        "id": "2-TnmzZHHgzL",
        "outputId": "992f78e4-3803-41e1-95d1-6245a02a0043"
      },
      "outputs": [
        {
          "name": "stdout",
          "output_type": "stream",
          "text": [
            "27.832547415397073\n",
            "area_g = 3.479068426924634\n",
            "278325.4741539707 278,325.4741539707\n",
            "4,146,294.07074844 278,325.4741539707\n",
            "k_m_prima = 260817.738454462\n",
            "Rigidez del material de la junta 0.838806690335152\n",
            "carga en el tornillo 1976.39170210416 lb\n",
            "carga en el material 379.802788088184 lb\n"
          ]
        }
      ],
      "source": [
        "area_caucho_plano = np.pi / 4  * (pow(Df, 2) - pow(Dp, 2) - 8 * pow(d, 2)  )\n",
        "print(area_caucho_plano)\n",
        "\n",
        "area_g = area_caucho_plano / num_pernos\n",
        "print(f\"{area_g = }\")\n",
        "\n",
        "\n",
        "k_g = area_g * E_caucho / t_confinado\n",
        "print(k_g, f\"{k_g:,}\", )\n",
        "\n",
        "k_m_prima = symbols(\"k_m_prima\")\n",
        "eqt = Eq(1 / k_m_prima, 1 / k_m + 1 / k_g)\n",
        "print(f\"{k_m:,}\", f\"{k_g:,}\")\n",
        "k_m_prima = solve(eqt)[0]\n",
        "print(f\"{k_m_prima = }\")\n",
        "\n",
        "c = k_b_prima / (k_b_prima + k_m_prima)\n",
        "print(\"Rigidez del material de la junta\", c)\n",
        "\n",
        "p_b_tornillo = c * p_unitaria\n",
        "print(\"carga en el tornillo\", p_b_tornillo, \"lb\")\n",
        "\n",
        "p_m_material = (1 - c) * p_unitaria\n",
        "print(\"carga en el material\", p_m_material, \"lb\")\n"
      ]
    },
    {
      "cell_type": "markdown",
      "metadata": {
        "id": "0R0hxTHwznKd"
      },
      "source": [
        "### Problema 2"
      ]
    },
    {
      "cell_type": "code",
      "execution_count": 15,
      "metadata": {
        "colab": {
          "base_uri": "https://localhost:8080/"
        },
        "id": "kLpI40JSPNZS",
        "outputId": "5c7a3c4d-97b9-413e-8329-e7a2deda0de4"
      },
      "outputs": [
        {
          "name": "stdout",
          "output_type": "stream",
          "text": [
            "263.22187499999995\n"
          ]
        }
      ],
      "source": [
        "t_i  = 0.21 * 4011 * 5/16\n",
        "\n",
        "print(t_i)"
      ]
    }
  ],
  "metadata": {
    "colab": {
      "provenance": []
    },
    "kernelspec": {
      "display_name": "Python 3",
      "name": "python3"
    },
    "language_info": {
      "codemirror_mode": {
        "name": "ipython",
        "version": 3
      },
      "file_extension": ".py",
      "mimetype": "text/x-python",
      "name": "python",
      "nbconvert_exporter": "python",
      "pygments_lexer": "ipython3",
      "version": "3.10.11"
    }
  },
  "nbformat": 4,
  "nbformat_minor": 0
}
