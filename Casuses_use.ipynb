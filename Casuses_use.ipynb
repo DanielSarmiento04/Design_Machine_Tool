{
 "cells": [
  {
   "attachments": {},
   "cell_type": "markdown",
   "metadata": {},
   "source": [
    "# Statement\n",
    "\n",
    "La rapidez del compresor es de 1 500 rpm. El compresor tiene un diámetro de cilindro del cilindro de 3.125 in, una carrera de 3.26 in, y\n",
    "una razón biela a cigüeñal de 3.5. La presión de admisión es la atmosférica (14.7 psia), la presión pico del cilindro es de 132 psig y la presión efectiva media (mep) es de 26 psig. El flujo es de 8.9 pies cúbicos\n",
    "por minuto a la presión efectiva media, lo cual da 1.6 hp.\n",
    "\n",
    "\n",
    "El diámetro interior del compresor es de 3.125 in. La fuerza dinámica\n",
    "que actúa sobre la cabeza varía de 0 a 1 000 lb cada ciclo, a partir\n",
    "de 130 psi de presión en el cilindro. Un empaque no confinado de\n",
    "asbesto-cobre de 0.06 in de espesor cubre totalmente el punto de contacto cabeza-cilindro. El espesor de la cabeza en los puntos de sujeción (exclusivas con aletas de enfriamiento) es de 0.4 in.\n",
    "\n",
    "![](./figura_d_2.png)"
   ]
  },
  {
   "cell_type": "code",
   "execution_count": 1,
   "metadata": {},
   "outputs": [],
   "source": [
    "import numpy as np\n",
    "import pandas as pd\n",
    "from io import StringIO\n",
    "from utils import *\n",
    "from sympy import Eq, solve, Symbol, symbols"
   ]
  },
  {
   "cell_type": "code",
   "execution_count": 2,
   "metadata": {},
   "outputs": [
    {
     "name": "stdout",
     "output_type": "stream",
     "text": [
      "pre_carga = 3851.4 lb\n",
      "l_c = 0.875 in\n",
      "l_s = 0.375 in\n",
      "l_t = 0.875 in\n",
      "j = 0.25\n"
     ]
    }
   ],
   "source": [
    "# Asuma un perno de 5/16-18 UNC-2A\n",
    "diameter_perno = 5 / 16 # in\n",
    "pitch = 18 # hilos por pulgada\n",
    "diameter_low = 0.2403 # in\n",
    "area_tension = 0.0524 # in^2\n",
    "\n",
    "# Compresor\n",
    "D0 = 3.125 # in\n",
    "\n",
    "# Asuma un material SAE grado 7 \n",
    "SP = 105e3 # psi\n",
    "SY = 115e3 # psi\n",
    "SU = 133e3 # psi\n",
    "\n",
    "# Asuma numero de pernos = 8\n",
    "count_bolts = 8\n",
    "\n",
    "# Establezca la carga maxima\n",
    "P_max = 1000 # lb\n",
    "P_max_unitary = P_max / count_bolts # lb\n",
    "\n",
    "# Asuma una pre-cara de 80% de la resistencia de prueba\n",
    "porcentaje_pre_carga = 0.7\n",
    "pre_carga = porcentaje_pre_carga * SP * area_tension # lb\n",
    "print('pre_carga =', pre_carga, 'lb')\n",
    "\n",
    "# Modulo de young de los materiales\n",
    "E_acero = 30e6 # psi\n",
    "E_aluminio = 10.4e6 # psi\n",
    "\n",
    "# Longitud de junta\n",
    "l_c = 2 * diameter_perno + 1/4 # in\n",
    "print('l_c =', l_c, 'in')\n",
    "\n",
    "# Asuma que la longitud del perno es 1.25 in\n",
    "l_perno = 1.25  # in\n",
    "l_junta = 1.25 # in\n",
    "\n",
    "# Calcular la longitud roscada y libre del perno / tornillo\n",
    "l_s = l_perno - l_c\n",
    "l_t = l_junta - l_s\n",
    "print('l_s =', l_s, 'in')\n",
    "print('l_t =', l_t, 'in')\n",
    "\n",
    "# COnsideraciones \n",
    "T = 400 # F\n",
    "reliability = 0.999\n",
    "\n",
    "j = diameter_perno / l_junta # factor de junta\n",
    "print('j =', j)"
   ]
  },
  {
   "cell_type": "code",
   "execution_count": 3,
   "metadata": {},
   "outputs": [
    {
     "data": {
      "text/html": [
       "<div>\n",
       "<style scoped>\n",
       "    .dataframe tbody tr th:only-of-type {\n",
       "        vertical-align: middle;\n",
       "    }\n",
       "\n",
       "    .dataframe tbody tr th {\n",
       "        vertical-align: top;\n",
       "    }\n",
       "\n",
       "    .dataframe thead th {\n",
       "        text-align: right;\n",
       "    }\n",
       "</style>\n",
       "<table border=\"1\" class=\"dataframe\">\n",
       "  <thead>\n",
       "    <tr style=\"text-align: right;\">\n",
       "      <th></th>\n",
       "      <th>j</th>\n",
       "      <th>p0</th>\n",
       "      <th>p1</th>\n",
       "      <th>p2</th>\n",
       "      <th>p3</th>\n",
       "    </tr>\n",
       "  </thead>\n",
       "  <tbody>\n",
       "    <tr>\n",
       "      <th>0</th>\n",
       "      <td>0.1</td>\n",
       "      <td>0.4389</td>\n",
       "      <td>-0.9197</td>\n",
       "      <td>0.8901</td>\n",
       "      <td>-0.3187</td>\n",
       "    </tr>\n",
       "    <tr>\n",
       "      <th>1</th>\n",
       "      <td>0.2</td>\n",
       "      <td>0.6118</td>\n",
       "      <td>-1.1715</td>\n",
       "      <td>1.0875</td>\n",
       "      <td>-0.3806</td>\n",
       "    </tr>\n",
       "    <tr>\n",
       "      <th>2</th>\n",
       "      <td>0.3</td>\n",
       "      <td>0.6932</td>\n",
       "      <td>-1.2426</td>\n",
       "      <td>1.1177</td>\n",
       "      <td>-0.3845</td>\n",
       "    </tr>\n",
       "    <tr>\n",
       "      <th>3</th>\n",
       "      <td>0.4</td>\n",
       "      <td>0.7351</td>\n",
       "      <td>-1.2612</td>\n",
       "      <td>1.1111</td>\n",
       "      <td>-0.3779</td>\n",
       "    </tr>\n",
       "    <tr>\n",
       "      <th>4</th>\n",
       "      <td>0.5</td>\n",
       "      <td>0.7580</td>\n",
       "      <td>-1.2632</td>\n",
       "      <td>1.0979</td>\n",
       "      <td>-0.3708</td>\n",
       "    </tr>\n",
       "  </tbody>\n",
       "</table>\n",
       "</div>"
      ],
      "text/plain": [
       "     j      p0      p1      p2      p3\n",
       "0  0.1  0.4389 -0.9197  0.8901 -0.3187\n",
       "1  0.2  0.6118 -1.1715  1.0875 -0.3806\n",
       "2  0.3  0.6932 -1.2426  1.1177 -0.3845\n",
       "3  0.4  0.7351 -1.2612  1.1111 -0.3779\n",
       "4  0.5  0.7580 -1.2632  1.0979 -0.3708"
      ]
     },
     "execution_count": 3,
     "metadata": {},
     "output_type": "execute_result"
    }
   ],
   "source": [
    "table_11_8 = pd.read_csv('table_11_8.csv')\n",
    "table_11_8.head()"
   ]
  },
  {
   "cell_type": "code",
   "execution_count": 4,
   "metadata": {},
   "outputs": [],
   "source": [
    "def get_row_values(df:pd.DataFrame, j:float):\n",
    "    \n",
    "    row = df.loc[df['j'] == j]\n",
    "    if len(row) > 0:\n",
    "        return row.iloc[0][1:].to_numpy()\n",
    "    \n",
    "    upper_values = df.loc[df['j'] > j].iloc[0] [1:].to_numpy()\n",
    "    lower_values = df.loc[df['j'] < j].iloc[-1] [1:].to_numpy()\n",
    "\n",
    "    upper_j = df.loc[df['j'] > j].iloc[0] [:1].to_numpy()\n",
    "    lower_j = df.loc[df['j'] < j].iloc[-1] [:1].to_numpy()\n",
    "\n",
    "    return (j - lower_j) / (upper_j - lower_j) * (upper_values - lower_values) + lower_values\n"
   ]
  },
  {
   "cell_type": "code",
   "execution_count": 5,
   "metadata": {},
   "outputs": [
    {
     "name": "stdout",
     "output_type": "stream",
     "text": [
      "p_0 = 0.6525000000000001 p_1 = -1.20705 p_2 = 1.1025999999999998 p_3 = -0.38255\n",
      "ratio_module = 0.3466666666666667\n",
      "c_t = 0.35062636136296305\n"
     ]
    }
   ],
   "source": [
    "p_0, p_1, p_2, p_3 = get_row_values(table_11_8, j)\n",
    "print('p_0 =', p_0, 'p_1 =', p_1, 'p_2 =', p_2, 'p_3 =', p_3)\n",
    "\n",
    "ratio_module = E_aluminio / E_acero\n",
    "print('ratio_module =', ratio_module)\n",
    "\n",
    "c_t = calculate_c_r(ratio_module, p_0, p_1, p_2, p_3)\n",
    "print('c_t =', c_t)"
   ]
  },
  {
   "cell_type": "code",
   "execution_count": 6,
   "metadata": {},
   "outputs": [
    {
     "name": "stdout",
     "output_type": "stream",
     "text": [
      "area_perno = 0.07669903939428206 in^2\n",
      "k_b_prima = 1.112e+06\n",
      "k_m = 2.059e+6\n"
     ]
    }
   ],
   "source": [
    "area_perno = np.pi * pow(diameter_perno, 2) / 4\n",
    "print('area_perno =', area_perno, 'in^2')\n",
    "\n",
    "k_b_prima = calculate_k_b_prima(j, area_tension, area_perno, l_s=l_s, l_t=l_t)\n",
    "print('k_b_prima =', f'{k_b_prima:,.4g}')\n",
    "\n",
    "k_m = Symbol('k_m')\n",
    "eqt = Eq(c_t, (k_b_prima) / (k_m + k_b_prima) )\n",
    "k_m = solve(eqt)[0]\n",
    "print('k_m =', f'{k_m:,.4g}')\n",
    "\n",
    "# pRopiedades del empaque no confinado\n",
    "E_asbesto_cobre = 13.5e6 # psi\n",
    "espesor_empaque = 0.06 # in"
   ]
  },
  {
   "cell_type": "code",
   "execution_count": 7,
   "metadata": {},
   "outputs": [
    {
     "name": "stdout",
     "output_type": "stream",
     "text": [
      "D_exterior = 5.625 in\n",
      "area_total_empaque = 17.18058482431918 in^2\n",
      "area_sujeta_empaque = 2.0708740636456153 in^2\n",
      "k_empaque = 4.659e+08\n",
      "k_mg = 2.050e+6\n",
      "stiffness_all = 0.3516\n"
     ]
    }
   ],
   "source": [
    "# Calculate the bolt stiffness (empaque)\n",
    "D_exterior = D0 + 8 * diameter_perno\n",
    "print('D_exterior =', D_exterior, 'in')\n",
    "\n",
    "area_total_empaque = np.pi * (pow(D_exterior, 2) - pow(D0, 2)) / 4\n",
    "print('area_total_empaque =', area_total_empaque, 'in^2')\n",
    "\n",
    "area_sujeta_empaque = area_total_empaque / count_bolts - area_perno # in^2\n",
    "print('area_sujeta_empaque =', area_sujeta_empaque, 'in^2')\n",
    "\n",
    "k_empaque = E_asbesto_cobre * area_sujeta_empaque / espesor_empaque\n",
    "print('k_empaque =', f'{k_empaque:,.4g}')\n",
    "\n",
    "k_mg = Symbol('k_mg')\n",
    "eqt = Eq(1/k_mg, 1/k_m + 1/k_empaque)\n",
    "k_mg = solve(eqt)[0]\n",
    "print('k_mg =', f'{k_mg:,.4g}')\n",
    "\n",
    "stiffness_all = k_b_prima / (k_mg + k_b_prima)\n",
    "print('stiffness_all =', f'{stiffness_all:,.4g}')"
   ]
  },
  {
   "cell_type": "code",
   "execution_count": 8,
   "metadata": {},
   "outputs": [
    {
     "name": "stdout",
     "output_type": "stream",
     "text": [
      "P_b = 43.95 lb\n",
      "P_m = 81.05 lb\n",
      "F_m = 3,770 lb\n",
      "F_b = 3,895 lb\n",
      "F_alt = 21.98 lb\n",
      "F_media = 3,873 lb\n",
      "k_f = 5.913\n",
      "sigma_a_nom = 419.4 psi\n",
      "sigma_m_nom = 7.392e+4 psi\n",
      "sigma_max = 7.434e+4 psi\n",
      "El perno cumple con la resistencia 439556.116444175 115000.0\n",
      "k_fm = 1.522\n",
      "sigma_a = 2,480 psi\n",
      "sigma_m = 1.125e+5 psi\n",
      "sigma_i = 1.119e+5 psi\n"
     ]
    }
   ],
   "source": [
    "# calculate the load in the bolt and material\n",
    "P_b = P_max_unitary * stiffness_all\n",
    "print('P_b =', f'{P_b:,.4g}', 'lb')\n",
    "\n",
    "P_m = (1 - stiffness_all) * P_max_unitary\n",
    "print('P_m =', f'{P_m:,.4g}', 'lb') \n",
    "\n",
    "# Calculate the forces in the bolt and material\n",
    "F_m = pre_carga - P_m\n",
    "print('F_m =', f'{F_m:,.4g}', 'lb')\n",
    "\n",
    "F_b = pre_carga + P_b\n",
    "print('F_b =', f'{F_b:,.4g}', 'lb')\n",
    "\n",
    "# Calculate the stress in the bolt and material\n",
    "F_alt = (F_b - pre_carga) / 2\n",
    "print('F_alt =', f'{F_alt:,.4g}', 'lb')\n",
    "\n",
    "F_media = (F_b + pre_carga) / 2\n",
    "print('F_media =', f'{F_media:,.4g}', 'lb')\n",
    "\n",
    "k_f = calculate_k_f(diameter_perno, )\n",
    "print('k_f =', f'{k_f:,.4g}')\n",
    "\n",
    "sigma_a_nom = F_alt / area_tension\n",
    "print('sigma_a_nom =', f'{sigma_a_nom:,.4g}', 'psi')\n",
    "\n",
    "sigma_m_nom = F_media / area_tension\n",
    "print('sigma_m_nom =', f'{sigma_m_nom:,.4g}', 'psi')\n",
    "\n",
    "sigma_max = sigma_a_nom + sigma_m_nom\n",
    "print('sigma_max =', f'{sigma_max:,.4g}', 'psi')\n",
    "\n",
    "if sigma_max * k_f > SY:\n",
    "    print('El perno cumple con la resistencia', sigma_max * k_f , SY)\n",
    "    k_fm = (SY - k_f * sigma_a_nom) / sigma_m_nom\n",
    "else:\n",
    "    print('El perno NO cumple con la resistencia', sigma_max * k_f , SY)\n",
    "    k_fm = k_f\n",
    "print('k_fm =', f'{k_fm:,.4g}')\n",
    "\n",
    "sigma_a = sigma_a_nom * k_f\n",
    "print('sigma_a =', f'{sigma_a:,.4g}', 'psi')\n",
    "\n",
    "sigma_m = sigma_m_nom * k_fm\n",
    "print('sigma_m =', f'{sigma_m:,.4g}', 'psi')\n",
    "\n",
    "sigma_i = pre_carga / area_tension * k_fm\n",
    "print('sigma_i =', f'{sigma_i:,.4g}', 'psi')"
   ]
  },
  {
   "cell_type": "code",
   "execution_count": 9,
   "metadata": {},
   "outputs": [
    {
     "name": "stdout",
     "output_type": "stream",
     "text": [
      "sigma_t = 7.35e+04 psi\n",
      "N_y = 1.565 lb\n"
     ]
    }
   ],
   "source": [
    "# Sigma t\n",
    "sigma_t = pre_carga / area_tension \n",
    "print('sigma_t =', f'{sigma_t:,.4g}', 'psi')\n",
    "\n",
    "N_y = SY / sigma_t\n",
    "print('N_y =', f'{N_y:,.4g}', 'lb')"
   ]
  },
  {
   "cell_type": "code",
   "execution_count": 10,
   "metadata": {},
   "outputs": [
    {
     "name": "stdout",
     "output_type": "stream",
     "text": [
      "N_s = 47.52 lb\n"
     ]
    }
   ],
   "source": [
    "N_s = (pre_carga) / (P_max_unitary * (1 - stiffness_all))\n",
    "print('N_s =', f'{N_s:,.4g}', 'lb')"
   ]
  },
  {
   "cell_type": "code",
   "execution_count": 11,
   "metadata": {},
   "outputs": [
    {
     "name": "stdout",
     "output_type": "stream",
     "text": [
      "SE_prima = 6.65e+04 psi\n"
     ]
    }
   ],
   "source": [
    "SE_prima = 0.5 * SU\n",
    "print('SE_prima =', f'{SE_prima:,.4g}', 'psi')"
   ]
  },
  {
   "cell_type": "code",
   "execution_count": 12,
   "metadata": {},
   "outputs": [
    {
     "name": "stdout",
     "output_type": "stream",
     "text": [
      "0.3125 2\n",
      "c_size = 0.9727905080521027\n",
      "c_sup = 0.7388275464414432\n",
      "c_temp = 1\n",
      "c_reliability = 0.753\n"
     ]
    }
   ],
   "source": [
    "c_load = 0.7\n",
    "\n",
    "match (diameter_perno):\n",
    "\n",
    "    case first if diameter_perno <= 0.3:\n",
    "        first_size = 0.7\n",
    "        c_size = 1\n",
    "\n",
    "    case second if diameter_perno >= 0.3 and diameter_perno <= 10:\n",
    "        second_size = 0.7\n",
    "        print(second, 2)\n",
    "        c_size = 0.869 * pow(diameter_perno, -0.097)\n",
    "\n",
    "    # case \n",
    "\n",
    "print('c_size =', c_size)\n",
    "\n",
    "A,B = 2.7, -0.265\n",
    "c_sup = A * pow(SU/1e3, B)\n",
    "print('c_sup =', c_sup)\n",
    "\n",
    "match (T):\n",
    "    case T if T <= 450:\n",
    "        c_temp = 1\n",
    "    case T if T >= 450 and T <= 550:\n",
    "        c_temp = 1 - 0.0058 * (T - 450)\n",
    "    case T if T >= 550 and T <= 1020:\n",
    "        c_temp = 1 - 0.0032 * (T - 840)\n",
    "        \n",
    "print('c_temp =', c_temp)\n",
    "\n",
    "match reliability:\n",
    "    case reliability if reliability == 0.999:\n",
    "        c_reliability = 0.753\n",
    "    case reliability if reliability == 0.9999:\n",
    "        c_reliability = 0.702\n",
    "\n",
    "print('c_reliability =', c_reliability)"
   ]
  },
  {
   "cell_type": "code",
   "execution_count": 13,
   "metadata": {},
   "outputs": [
    {
     "name": "stdout",
     "output_type": "stream",
     "text": [
      "S_e = 2.519e+04 psi\n"
     ]
    }
   ],
   "source": [
    "S_e = c_load * c_size * c_sup * c_temp * c_reliability * SE_prima\n",
    "print('S_e =', f'{S_e:,.4g}', 'psi')"
   ]
  },
  {
   "cell_type": "code",
   "execution_count": 16,
   "metadata": {},
   "outputs": [
    {
     "name": "stdout",
     "output_type": "stream",
     "text": [
      "25192.836328023557 2479.90197208733 112520.098027913 111881.676618191 73500.0 133000.0\n"
     ]
    }
   ],
   "source": [
    "print(S_e, sigma_a, sigma_m, sigma_i, sigma_t, SU)"
   ]
  },
  {
   "cell_type": "code",
   "execution_count": 15,
   "metadata": {},
   "outputs": [
    {
     "name": "stdout",
     "output_type": "stream",
     "text": [
      "N_f = 1.538 lb\n"
     ]
    }
   ],
   "source": [
    "N_f = (S_e * (SU - sigma_i))/ (S_e *(sigma_m - sigma_i) + SU * sigma_a)\n",
    "print('N_f =', f'{N_f:,.4g}', 'lb')"
   ]
  },
  {
   "cell_type": "code",
   "execution_count": 19,
   "metadata": {},
   "outputs": [
    {
     "name": "stdout",
     "output_type": "stream",
     "text": [
      "p_prom = 224.9 psi\n",
      "N_afloje = 1.730 lb\n"
     ]
    }
   ],
   "source": [
    "p_prom = F_m / (np.pi*(pow(D_exterior, 2) - pow(D0, 2))/4 - count_bolts * area_tension)\n",
    "print('p_prom =', f'{p_prom:,.4g}', 'psi')\n",
    "\n",
    "N_afloje = p_prom / 130\n",
    "print('N_afloje =', f'{N_afloje:,.4g}', 'lb')"
   ]
  }
 ],
 "metadata": {
  "kernelspec": {
   "display_name": "design",
   "language": "python",
   "name": "python3"
  },
  "language_info": {
   "codemirror_mode": {
    "name": "ipython",
    "version": 3
   },
   "file_extension": ".py",
   "mimetype": "text/x-python",
   "name": "python",
   "nbconvert_exporter": "python",
   "pygments_lexer": "ipython3",
   "version": "3.10.11"
  },
  "orig_nbformat": 4
 },
 "nbformat": 4,
 "nbformat_minor": 2
}
