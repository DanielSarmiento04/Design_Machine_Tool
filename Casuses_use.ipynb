{
 "cells": [
  {
   "attachments": {},
   "cell_type": "markdown",
   "metadata": {},
   "source": [
    "# Statement\n",
    "\n",
    "La rapidez del compresor es de 1 500 rpm. El compresor tiene un diámetro de cilindro del cilindro de 3.125 in, una carrera de 3.26 in, y\n",
    "una razón biela a cigüeñal de 3.5. La presión de admisión es la atmosférica (14.7 psia), la presión pico del cilindro es de 132 psig y la presión efectiva media (mep) es de 26 psig. El flujo es de 8.9 pies cúbicos\n",
    "por minuto a la presión efectiva media, lo cual da 1.6 hp.\n",
    "\n",
    "\n",
    "El diámetro interior del compresor es de 3.125 in. La fuerza dinámica\n",
    "que actúa sobre la cabeza varía de 0 a 1 000 lb cada ciclo, a partir\n",
    "de 130 psi de presión en el cilindro. Un empaque no confinado de\n",
    "asbesto-cobre de 0.06 in de espesor cubre totalmente el punto de contacto cabeza-cilindro. El espesor de la cabeza en los puntos de sujeción (exclusivas con aletas de enfriamiento) es de 0.4 in.\n",
    "\n",
    "![](./figura_d_2.png)"
   ]
  },
  {
   "cell_type": "code",
   "execution_count": 11,
   "metadata": {},
   "outputs": [],
   "source": [
    "import numpy as np\n",
    "import pandas as pd\n",
    "from io import StringIO\n",
    "from utils import *\n",
    "from sympy import Eq, solve, Symbol, symbols"
   ]
  },
  {
   "cell_type": "code",
   "execution_count": 12,
   "metadata": {},
   "outputs": [],
   "source": [
    "data ='''\n",
    "d cuerdas dr at cuerdas dr at\n",
    "1 0.0730 64 0.0527 72 0.0550 0.0028\n",
    "2 0.0860 56 0.0628 64 0.0657 0.0039\n",
    "3 0.0990 48 0.0719 56 0.0758 0.0052\n",
    "4 0.1120 40 0.0795 48 0.0849 0.0066\n",
    "5 0.1250 40 0.0925 44 0.0955 0.0083\n",
    "6 0.1380 32 0.0974 40 0.1055 0.0101\n",
    "8 0.1640 32 0.1234 36 0.1279 0.0147\n",
    "10 0.1900 24 0.1359 32 0.1494 0.0200\n",
    "12 0.2160 24 0.1619 28 0.1696 0.0258\n",
    "1/4 0.2500 20 0.1850 28 0.2036 0.0364\n",
    "5/16 0.3125 18 0.2403 24 0.2584 0.0581\n",
    "3/8 0.3750 16 0.2938 24 0.3209 0.0878\n",
    "7/16 0.4375 14 0.3447 20 0.3725 0.1187\n",
    "1/2 0.5000 13 0.4001 20 0.4350 0.1600\n",
    "9/16 0.5625 12 0.4542 18 0.4903 0.2030\n",
    "5/8 0.6250 11 0.5069 18 0.5528 0.2560\n",
    "3/4 0.7500 10 0.6201 16 0.6688 0.3730\n",
    "7/8 0.8750 0.7307 14 0.7822 0.5095\n",
    "1 1.0000 0.8376 12 0.8917 0.6630\n",
    "1 1/8 1.1250 0.9394 12 1.0167 0.8557\n",
    "1 1/4 1.2500 1.0644 12 1.1417 1.0729\n",
    "1 3/8 1.3750 1.1585 12 1.2667 1.3147\n",
    "1 1/2 1.5000 1.2835 12 1.3917 1.5810\n",
    "'''\n",
    "data = pd.read_csv(StringIO(data), sep=' ', skipinitialspace=True)\n",
    "data.head()\n",
    "data.to_csv('tornillos_unc.csv', index=False, )\n",
    "extra_at = '''\n",
    "1.8995\n",
    "2.4982\n",
    "3.2477\n",
    "3.9988\n",
    "4.9340\n",
    "5.9674\n",
    "7.0989\n",
    "8.3286\n",
    "9.6565\n",
    "11.0826\n",
    "'''\n",
    "\n",
    "# extra_at = pd.read_csv(StringIO(extra_at), sep=' ', skipinitialspace=True, header=None)\n",
    "# extra_at.columns = ['at']\n",
    "\n",
    "# data['at'] = np.nan\n",
    "# data['at'].iloc[:len(extra_at)] = extra_at['at']\n",
    "\n",
    "# data.to_csv('tornillos_unc.csv', index=False, )"
   ]
  },
  {
   "cell_type": "code",
   "execution_count": 13,
   "metadata": {},
   "outputs": [
    {
     "name": "stdout",
     "output_type": "stream",
     "text": [
      "pre_carga = 3851.4 lb\n",
      "l_c = 0.875 in\n",
      "l_s = 0.375 in\n",
      "l_t = 0.875 in\n",
      "j = 0.25\n"
     ]
    }
   ],
   "source": [
    "# Asuma un perno de 5/16-18 UNC-2A\n",
    "diameter_perno = 5/16 # in\n",
    "pitch = 18 # hilos por pulgada\n",
    "diameter_low = 0.2403 # in\n",
    "area_tension = 0.0524 # in^2\n",
    "\n",
    "# Asuma un material SAE grado 7 \n",
    "SP = 105e3 # psi\n",
    "SY = 115e3 # psi\n",
    "SU = 133e3 # psi\n",
    "\n",
    "# Asuma una pre-cara de 80% de la resistencia de prueba\n",
    "porcentaje_pre_carga = 0.7\n",
    "pre_carga = porcentaje_pre_carga * SP * area_tension # lb\n",
    "print('pre_carga =', pre_carga, 'lb')\n",
    "\n",
    "# Modulo de young de los materiales\n",
    "E_acero = 30e6 # psi\n",
    "E_aluminio = 10.4e6 # psi\n",
    "\n",
    "# Longitud de junta\n",
    "l_c = 2 * diameter_perno + 1/4 # in\n",
    "print('l_c =', l_c, 'in')\n",
    "\n",
    "# Asuma que la longitud del perno es 1.25 in\n",
    "l_perno = 1.25  # in\n",
    "l_junta = 1.25 # in\n",
    "\n",
    "l_s = l_perno - l_c\n",
    "l_t = l_junta - l_s\n",
    "print('l_s =', l_s, 'in')\n",
    "print('l_t =', l_t, 'in')\n",
    "\n",
    "j = diameter_perno / l_junta # factor de junta\n",
    "print('j =', j)"
   ]
  },
  {
   "cell_type": "code",
   "execution_count": 14,
   "metadata": {},
   "outputs": [
    {
     "data": {
      "text/html": [
       "<div>\n",
       "<style scoped>\n",
       "    .dataframe tbody tr th:only-of-type {\n",
       "        vertical-align: middle;\n",
       "    }\n",
       "\n",
       "    .dataframe tbody tr th {\n",
       "        vertical-align: top;\n",
       "    }\n",
       "\n",
       "    .dataframe thead th {\n",
       "        text-align: right;\n",
       "    }\n",
       "</style>\n",
       "<table border=\"1\" class=\"dataframe\">\n",
       "  <thead>\n",
       "    <tr style=\"text-align: right;\">\n",
       "      <th></th>\n",
       "      <th>j</th>\n",
       "      <th>p0</th>\n",
       "      <th>p1</th>\n",
       "      <th>p2</th>\n",
       "      <th>p3</th>\n",
       "    </tr>\n",
       "  </thead>\n",
       "  <tbody>\n",
       "    <tr>\n",
       "      <th>0</th>\n",
       "      <td>0.1</td>\n",
       "      <td>0.4389</td>\n",
       "      <td>-0.9197</td>\n",
       "      <td>0.8901</td>\n",
       "      <td>-0.3187</td>\n",
       "    </tr>\n",
       "    <tr>\n",
       "      <th>1</th>\n",
       "      <td>0.2</td>\n",
       "      <td>0.6118</td>\n",
       "      <td>-1.1715</td>\n",
       "      <td>1.0875</td>\n",
       "      <td>-0.3806</td>\n",
       "    </tr>\n",
       "    <tr>\n",
       "      <th>2</th>\n",
       "      <td>0.3</td>\n",
       "      <td>0.6932</td>\n",
       "      <td>-1.2426</td>\n",
       "      <td>1.1177</td>\n",
       "      <td>-0.3845</td>\n",
       "    </tr>\n",
       "    <tr>\n",
       "      <th>3</th>\n",
       "      <td>0.4</td>\n",
       "      <td>0.7351</td>\n",
       "      <td>-1.2612</td>\n",
       "      <td>1.1111</td>\n",
       "      <td>-0.3779</td>\n",
       "    </tr>\n",
       "    <tr>\n",
       "      <th>4</th>\n",
       "      <td>0.5</td>\n",
       "      <td>0.7580</td>\n",
       "      <td>-1.2632</td>\n",
       "      <td>1.0979</td>\n",
       "      <td>-0.3708</td>\n",
       "    </tr>\n",
       "  </tbody>\n",
       "</table>\n",
       "</div>"
      ],
      "text/plain": [
       "     j      p0      p1      p2      p3\n",
       "0  0.1  0.4389 -0.9197  0.8901 -0.3187\n",
       "1  0.2  0.6118 -1.1715  1.0875 -0.3806\n",
       "2  0.3  0.6932 -1.2426  1.1177 -0.3845\n",
       "3  0.4  0.7351 -1.2612  1.1111 -0.3779\n",
       "4  0.5  0.7580 -1.2632  1.0979 -0.3708"
      ]
     },
     "execution_count": 14,
     "metadata": {},
     "output_type": "execute_result"
    }
   ],
   "source": [
    "table_11_8 = pd.read_csv('table_11_8.csv')\n",
    "table_11_8.head()"
   ]
  },
  {
   "cell_type": "code",
   "execution_count": 15,
   "metadata": {},
   "outputs": [],
   "source": [
    "def get_row_values(df:pd.DataFrame, j:float):\n",
    "    \n",
    "    row = df.loc[df['j'] == j]\n",
    "    if len(row) > 0:\n",
    "        return row.iloc[0][1:].to_numpy()\n",
    "    \n",
    "    upper_values = df.loc[df['j'] > j].iloc[0] [1:].to_numpy()\n",
    "    lower_values = df.loc[df['j'] < j].iloc[-1] [1:].to_numpy()\n",
    "\n",
    "    upper_j = df.loc[df['j'] > j].iloc[0] [:1].to_numpy()\n",
    "    lower_j = df.loc[df['j'] < j].iloc[-1] [:1].to_numpy()\n",
    "\n",
    "    return (j - lower_j) / (upper_j - lower_j) * (upper_values - lower_values) + lower_values\n"
   ]
  },
  {
   "cell_type": "code",
   "execution_count": 16,
   "metadata": {},
   "outputs": [
    {
     "name": "stdout",
     "output_type": "stream",
     "text": [
      "p_0 = 0.6525000000000001 p_1 = -1.20705 p_2 = 1.1025999999999998 p_3 = -0.38255\n",
      "ratio_module = 0.3466666666666667\n",
      "c_t = 0.35062636136296305\n"
     ]
    }
   ],
   "source": [
    "p_0, p_1, p_2, p_3 = get_row_values(table_11_8, j)\n",
    "print('p_0 =', p_0, 'p_1 =', p_1, 'p_2 =', p_2, 'p_3 =', p_3)\n",
    "\n",
    "ratio_module = E_aluminio / E_acero\n",
    "print('ratio_module =', ratio_module)\n",
    "\n",
    "c_t = calculate_c_r(ratio_module, p_0, p_1, p_2, p_3)\n",
    "print('c_t =', c_t)"
   ]
  },
  {
   "cell_type": "code",
   "execution_count": 18,
   "metadata": {},
   "outputs": [
    {
     "name": "stdout",
     "output_type": "stream",
     "text": [
      "area_perno = 0.07669903939428206 in^2\n",
      "k_b_prima = 1.112e+06\n",
      "k_m = 2.059e+6\n"
     ]
    }
   ],
   "source": [
    "area_perno = np.pi * pow(diameter_perno, 2) / 4\n",
    "print('area_perno =', area_perno, 'in^2')\n",
    "\n",
    "k_b_prima = calculate_k_b_prima(j, area_tension, area_perno, l_s=l_s, l_t=l_t)\n",
    "print('k_b_prima =', f'{k_b_prima:,.4g}')\n",
    "\n",
    "k_m = Symbol('k_m')\n",
    "eqt = Eq(c_t, (k_b_prima) / (k_m + k_b_prima) )\n",
    "k_m = solve(eqt)[0]\n",
    "print('k_m =', f'{k_m:,.4g}')"
   ]
  }
 ],
 "metadata": {
  "kernelspec": {
   "display_name": "design",
   "language": "python",
   "name": "python3"
  },
  "language_info": {
   "codemirror_mode": {
    "name": "ipython",
    "version": 3
   },
   "file_extension": ".py",
   "mimetype": "text/x-python",
   "name": "python",
   "nbconvert_exporter": "python",
   "pygments_lexer": "ipython3",
   "version": "3.10.11"
  },
  "orig_nbformat": 4
 },
 "nbformat": 4,
 "nbformat_minor": 2
}
