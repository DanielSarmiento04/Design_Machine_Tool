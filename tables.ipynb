{
 "cells": [
  {
   "cell_type": "code",
   "execution_count": 36,
   "metadata": {},
   "outputs": [],
   "source": [
    "import pandas as pd\n",
    "from io import StringIO\n",
    "import numpy as np\n",
    "data = ''''\n",
    "1 0.25–1.5 33 36 60 bajo o medio carbono\n",
    "2 0.25–0.75 55 57 74 bajo o medio carbono\n",
    "2 0.875–1.5 33 36 60 bajo o medio carbono\n",
    "4 0.25–1.5 65 100 115 medio carbono, forjado en frío\n",
    "5 0.25–1.0 85 92 120 medio carbono, Q&T*\n",
    "5 1.125–1.5 74 81 105 medio carbono, Q&T\n",
    "5.2 0.25–1.0 85 92 120 martensita al bajo carbono, Q&T\n",
    "7 0.25–1.5 105 115 133 aleación al medio carbono, Q&T\n",
    "8 0.25–1.5 120 130 150 aleación al medio carbono, Q&T\n",
    "8.2 0.25–1.0 120 130 150 martensita al bajo carbono, Q&T\n",
    "'''"
   ]
  },
  {
   "cell_type": "code",
   "execution_count": 37,
   "metadata": {},
   "outputs": [
    {
     "data": {
      "text/plain": [
       "array([['1', '0.25–1.5', '33', '36', '60', 'bajo o medio carbono'],\n",
       "       ['2', '0.25–0.75', '55', '57', '74', 'bajo o medio carbono'],\n",
       "       ['2', '0.875–1.5', '33', '36', '60', 'bajo o medio carbono'],\n",
       "       ['4', '0.25–1.5', '65', '100', '115',\n",
       "        'medio carbono, forjado en frío'],\n",
       "       ['5', '0.25–1.0', '85', '92', '120', 'medio carbono, Q&T*'],\n",
       "       ['5', '1.125–1.5', '74', '81', '105', 'medio carbono, Q&T'],\n",
       "       ['5.2', '0.25–1.0', '85', '92', '120',\n",
       "        'martensita al bajo carbono, Q&T'],\n",
       "       ['7', '0.25–1.5', '105', '115', '133',\n",
       "        'aleación al medio carbono, Q&T'],\n",
       "       ['8', '0.25–1.5', '120', '130', '150',\n",
       "        'aleación al medio carbono, Q&T'],\n",
       "       ['8.2', '0.25–1.0', '120', '130', '150',\n",
       "        'martensita al bajo carbono, Q&T']], dtype='<U31')"
      ]
     },
     "execution_count": 37,
     "metadata": {},
     "output_type": "execute_result"
    }
   ],
   "source": [
    "rows = np.array(data.split('\\n'))[1:-1]\n",
    "rows = np.array([row.split(' ', 5) for row in rows])\n",
    "rows"
   ]
  },
  {
   "cell_type": "code",
   "execution_count": 38,
   "metadata": {},
   "outputs": [
    {
     "name": "stdout",
     "output_type": "stream",
     "text": [
      "<class 'pandas.core.frame.DataFrame'>\n",
      "RangeIndex: 10 entries, 0 to 9\n",
      "Data columns (total 6 columns):\n",
      " #   Column                   Non-Null Count  Dtype \n",
      "---  ------                   --------------  ----- \n",
      " 0   Num SAE                  10 non-null     object\n",
      " 1   intervalo diametro [in]  10 non-null     object\n",
      " 2   SP                       10 non-null     object\n",
      " 3   SY                       10 non-null     object\n",
      " 4   SU                       10 non-null     object\n",
      " 5   Material                 10 non-null     object\n",
      "dtypes: object(6)\n",
      "memory usage: 608.0+ bytes\n"
     ]
    }
   ],
   "source": [
    "df = pd.DataFrame(\n",
    "    rows[:, :], \n",
    "    columns=['Num SAE', 'intervalo diametro [in]', 'SP', 'SY', 'SU', 'Material']\n",
    ")\n",
    "df.info()\n",
    "# df.to_csv('table_11_6.csv', index=False)"
   ]
  },
  {
   "cell_type": "code",
   "execution_count": 39,
   "metadata": {},
   "outputs": [
    {
     "name": "stdout",
     "output_type": "stream",
     "text": [
      "<class 'pandas.core.frame.DataFrame'>\n",
      "RangeIndex: 10 entries, 0 to 9\n",
      "Data columns (total 6 columns):\n",
      " #   Column                   Non-Null Count  Dtype  \n",
      "---  ------                   --------------  -----  \n",
      " 0   Num SAE                  10 non-null     float64\n",
      " 1   intervalo diametro [in]  10 non-null     object \n",
      " 2   SP                       10 non-null     int64  \n",
      " 3   SY                       10 non-null     int64  \n",
      " 4   SU                       10 non-null     int64  \n",
      " 5   Material                 10 non-null     object \n",
      "dtypes: float64(1), int64(3), object(2)\n",
      "memory usage: 608.0+ bytes\n"
     ]
    }
   ],
   "source": [
    "df = pd.read_csv('table_11_6.csv')\n",
    "df.info()"
   ]
  },
  {
   "cell_type": "code",
   "execution_count": 51,
   "metadata": {},
   "outputs": [
    {
     "data": {
      "text/html": [
       "<div>\n",
       "<style scoped>\n",
       "    .dataframe tbody tr th:only-of-type {\n",
       "        vertical-align: middle;\n",
       "    }\n",
       "\n",
       "    .dataframe tbody tr th {\n",
       "        vertical-align: top;\n",
       "    }\n",
       "\n",
       "    .dataframe thead th {\n",
       "        text-align: right;\n",
       "    }\n",
       "</style>\n",
       "<table border=\"1\" class=\"dataframe\">\n",
       "  <thead>\n",
       "    <tr style=\"text-align: right;\">\n",
       "      <th></th>\n",
       "      <th>num Clase</th>\n",
       "      <th>intervalo diametro [mm]</th>\n",
       "      <th>SP</th>\n",
       "      <th>SY</th>\n",
       "      <th>SU</th>\n",
       "      <th>material</th>\n",
       "    </tr>\n",
       "  </thead>\n",
       "  <tbody>\n",
       "    <tr>\n",
       "      <th>0</th>\n",
       "      <td>4.6</td>\n",
       "      <td>M5–M36</td>\n",
       "      <td>225</td>\n",
       "      <td>240</td>\n",
       "      <td>400</td>\n",
       "      <td>bajo o medio carbono</td>\n",
       "    </tr>\n",
       "    <tr>\n",
       "      <th>1</th>\n",
       "      <td>4.8</td>\n",
       "      <td>M1.6–M16</td>\n",
       "      <td>310</td>\n",
       "      <td>340</td>\n",
       "      <td>420</td>\n",
       "      <td>bajo o medio carbono</td>\n",
       "    </tr>\n",
       "    <tr>\n",
       "      <th>2</th>\n",
       "      <td>5.8</td>\n",
       "      <td>M5–M24</td>\n",
       "      <td>380</td>\n",
       "      <td>420</td>\n",
       "      <td>520</td>\n",
       "      <td>bajo o medio carbono</td>\n",
       "    </tr>\n",
       "    <tr>\n",
       "      <th>3</th>\n",
       "      <td>8.8</td>\n",
       "      <td>M3–M36</td>\n",
       "      <td>600</td>\n",
       "      <td>660</td>\n",
       "      <td>830</td>\n",
       "      <td>medio carbono, Q&amp;T</td>\n",
       "    </tr>\n",
       "    <tr>\n",
       "      <th>4</th>\n",
       "      <td>9.8</td>\n",
       "      <td>M1.6–M16</td>\n",
       "      <td>650</td>\n",
       "      <td>720</td>\n",
       "      <td>900</td>\n",
       "      <td>medio carbono, Q&amp;T</td>\n",
       "    </tr>\n",
       "  </tbody>\n",
       "</table>\n",
       "</div>"
      ],
      "text/plain": [
       "  num Clase intervalo diametro [mm]   SP   SY   SU              material\n",
       "0       4.6                  M5–M36  225  240  400  bajo o medio carbono\n",
       "1       4.8                M1.6–M16  310  340  420  bajo o medio carbono\n",
       "2       5.8                  M5–M24  380  420  520  bajo o medio carbono\n",
       "3       8.8                  M3–M36  600  660  830    medio carbono, Q&T\n",
       "4       9.8                M1.6–M16  650  720  900    medio carbono, Q&T"
      ]
     },
     "execution_count": 51,
     "metadata": {},
     "output_type": "execute_result"
    }
   ],
   "source": [
    "data = '''\n",
    "4.6\n",
    "4.8\n",
    "5.8\n",
    "8.8\n",
    "9.8\n",
    "10.9\n",
    "12.9\n",
    "M5–M36\n",
    "M1.6–M16\n",
    "M5–M24\n",
    "M3–M36\n",
    "M1.6–M16\n",
    "M5–M36\n",
    "M1.6–M36\n",
    "225\n",
    "310\n",
    "380\n",
    "600\n",
    "650\n",
    "830\n",
    "970\n",
    "240\n",
    "340\n",
    "420\n",
    "660\n",
    "720\n",
    "940\n",
    "1100\n",
    "400\n",
    "420\n",
    "520\n",
    "830\n",
    "900\n",
    "1040\n",
    "1220\n",
    "bajo o medio carbono\n",
    "bajo o medio carbono\n",
    "bajo o medio carbono\n",
    "medio carbono, Q&T\n",
    "medio carbono, Q&T\n",
    "martensita al bajo carbono, Q&T\n",
    "aleación, templada y revenida\n",
    "'''\n",
    "rows = np.array(data.split('\\n'))[1:-1].reshape(6, 7)\n",
    "rows\n",
    "df = pd.DataFrame(\n",
    "    rows[:, :],\n",
    ").transpose()\n",
    "df.columns=['num Clase', 'intervalo diametro [mm]', 'SP', 'SY', 'SU', 'material']\n",
    "\n",
    "df.head()"
   ]
  },
  {
   "cell_type": "code",
   "execution_count": 53,
   "metadata": {},
   "outputs": [
    {
     "name": "stdout",
     "output_type": "stream",
     "text": [
      "<class 'pandas.core.frame.DataFrame'>\n",
      "RangeIndex: 7 entries, 0 to 6\n",
      "Data columns (total 6 columns):\n",
      " #   Column                   Non-Null Count  Dtype \n",
      "---  ------                   --------------  ----- \n",
      " 0   num Clase                7 non-null      object\n",
      " 1   intervalo diametro [mm]  7 non-null      object\n",
      " 2   SP                       7 non-null      object\n",
      " 3   SY                       7 non-null      object\n",
      " 4   SU                       7 non-null      object\n",
      " 5   material                 7 non-null      object\n",
      "dtypes: object(6)\n",
      "memory usage: 464.0+ bytes\n"
     ]
    }
   ],
   "source": [
    "df.info()\n",
    "df.to_csv('table_11_7.csv', index=False)"
   ]
  },
  {
   "cell_type": "code",
   "execution_count": 55,
   "metadata": {},
   "outputs": [
    {
     "data": {
      "text/html": [
       "<div>\n",
       "<style scoped>\n",
       "    .dataframe tbody tr th:only-of-type {\n",
       "        vertical-align: middle;\n",
       "    }\n",
       "\n",
       "    .dataframe tbody tr th {\n",
       "        vertical-align: top;\n",
       "    }\n",
       "\n",
       "    .dataframe thead th {\n",
       "        text-align: right;\n",
       "    }\n",
       "</style>\n",
       "<table border=\"1\" class=\"dataframe\">\n",
       "  <thead>\n",
       "    <tr style=\"text-align: right;\">\n",
       "      <th></th>\n",
       "      <th>num Clase</th>\n",
       "      <th>SP</th>\n",
       "      <th>SY</th>\n",
       "      <th>SU</th>\n",
       "    </tr>\n",
       "  </thead>\n",
       "  <tbody>\n",
       "    <tr>\n",
       "      <th>count</th>\n",
       "      <td>7.000000</td>\n",
       "      <td>7.000000</td>\n",
       "      <td>7.000000</td>\n",
       "      <td>7.000000</td>\n",
       "    </tr>\n",
       "    <tr>\n",
       "      <th>mean</th>\n",
       "      <td>8.228571</td>\n",
       "      <td>566.428571</td>\n",
       "      <td>631.428571</td>\n",
       "      <td>761.428571</td>\n",
       "    </tr>\n",
       "    <tr>\n",
       "      <th>std</th>\n",
       "      <td>3.229404</td>\n",
       "      <td>276.144803</td>\n",
       "      <td>317.879881</td>\n",
       "      <td>320.750608</td>\n",
       "    </tr>\n",
       "    <tr>\n",
       "      <th>min</th>\n",
       "      <td>4.600000</td>\n",
       "      <td>225.000000</td>\n",
       "      <td>240.000000</td>\n",
       "      <td>400.000000</td>\n",
       "    </tr>\n",
       "    <tr>\n",
       "      <th>25%</th>\n",
       "      <td>5.300000</td>\n",
       "      <td>345.000000</td>\n",
       "      <td>380.000000</td>\n",
       "      <td>470.000000</td>\n",
       "    </tr>\n",
       "    <tr>\n",
       "      <th>50%</th>\n",
       "      <td>8.800000</td>\n",
       "      <td>600.000000</td>\n",
       "      <td>660.000000</td>\n",
       "      <td>830.000000</td>\n",
       "    </tr>\n",
       "    <tr>\n",
       "      <th>75%</th>\n",
       "      <td>10.350000</td>\n",
       "      <td>740.000000</td>\n",
       "      <td>830.000000</td>\n",
       "      <td>970.000000</td>\n",
       "    </tr>\n",
       "    <tr>\n",
       "      <th>max</th>\n",
       "      <td>12.900000</td>\n",
       "      <td>970.000000</td>\n",
       "      <td>1100.000000</td>\n",
       "      <td>1220.000000</td>\n",
       "    </tr>\n",
       "  </tbody>\n",
       "</table>\n",
       "</div>"
      ],
      "text/plain": [
       "       num Clase          SP           SY           SU\n",
       "count   7.000000    7.000000     7.000000     7.000000\n",
       "mean    8.228571  566.428571   631.428571   761.428571\n",
       "std     3.229404  276.144803   317.879881   320.750608\n",
       "min     4.600000  225.000000   240.000000   400.000000\n",
       "25%     5.300000  345.000000   380.000000   470.000000\n",
       "50%     8.800000  600.000000   660.000000   830.000000\n",
       "75%    10.350000  740.000000   830.000000   970.000000\n",
       "max    12.900000  970.000000  1100.000000  1220.000000"
      ]
     },
     "execution_count": 55,
     "metadata": {},
     "output_type": "execute_result"
    }
   ],
   "source": [
    "df = pd.read_csv('table_11_7.csv')\n",
    "df.describe()"
   ]
  },
  {
   "cell_type": "code",
   "execution_count": 1,
   "metadata": {},
   "outputs": [],
   "source": [
    "import numpy as np\n",
    "import pandas as pd"
   ]
  },
  {
   "cell_type": "code",
   "execution_count": 12,
   "metadata": {},
   "outputs": [
    {
     "data": {
      "text/html": [
       "<div>\n",
       "<style scoped>\n",
       "    .dataframe tbody tr th:only-of-type {\n",
       "        vertical-align: middle;\n",
       "    }\n",
       "\n",
       "    .dataframe tbody tr th {\n",
       "        vertical-align: top;\n",
       "    }\n",
       "\n",
       "    .dataframe thead th {\n",
       "        text-align: right;\n",
       "    }\n",
       "</style>\n",
       "<table border=\"1\" class=\"dataframe\">\n",
       "  <thead>\n",
       "    <tr style=\"text-align: right;\">\n",
       "      <th></th>\n",
       "      <th>Tamaño</th>\n",
       "      <th>diametro mayor [in]</th>\n",
       "      <th>num Cuerdas</th>\n",
       "      <th>diametro menor [in]</th>\n",
       "      <th>num Cuerdas.1</th>\n",
       "      <th>diametro menor [in].1</th>\n",
       "      <th>At [in2].1</th>\n",
       "    </tr>\n",
       "  </thead>\n",
       "  <tbody>\n",
       "    <tr>\n",
       "      <th>0</th>\n",
       "      <td>1</td>\n",
       "      <td>0.0730</td>\n",
       "      <td>64</td>\n",
       "      <td>0.0527</td>\n",
       "      <td>72</td>\n",
       "      <td>0.0550</td>\n",
       "      <td>0.0028</td>\n",
       "    </tr>\n",
       "    <tr>\n",
       "      <th>1</th>\n",
       "      <td>2</td>\n",
       "      <td>0.0860</td>\n",
       "      <td>56</td>\n",
       "      <td>0.0628</td>\n",
       "      <td>64</td>\n",
       "      <td>0.0657</td>\n",
       "      <td>0.0039</td>\n",
       "    </tr>\n",
       "    <tr>\n",
       "      <th>2</th>\n",
       "      <td>3</td>\n",
       "      <td>0.0990</td>\n",
       "      <td>48</td>\n",
       "      <td>0.0719</td>\n",
       "      <td>56</td>\n",
       "      <td>0.0758</td>\n",
       "      <td>0.0052</td>\n",
       "    </tr>\n",
       "    <tr>\n",
       "      <th>3</th>\n",
       "      <td>4</td>\n",
       "      <td>0.1120</td>\n",
       "      <td>40</td>\n",
       "      <td>0.0795</td>\n",
       "      <td>48</td>\n",
       "      <td>0.0849</td>\n",
       "      <td>0.0066</td>\n",
       "    </tr>\n",
       "    <tr>\n",
       "      <th>4</th>\n",
       "      <td>5</td>\n",
       "      <td>0.1250</td>\n",
       "      <td>40</td>\n",
       "      <td>0.0925</td>\n",
       "      <td>44</td>\n",
       "      <td>0.0955</td>\n",
       "      <td>0.0083</td>\n",
       "    </tr>\n",
       "  </tbody>\n",
       "</table>\n",
       "</div>"
      ],
      "text/plain": [
       "  Tamaño diametro mayor [in] num Cuerdas diametro menor [in] num Cuerdas.1   \n",
       "0      1              0.0730          64              0.0527            72  \\\n",
       "1      2              0.0860          56              0.0628            64   \n",
       "2      3              0.0990          48              0.0719            56   \n",
       "3      4              0.1120          40              0.0795            48   \n",
       "4      5              0.1250          40              0.0925            44   \n",
       "\n",
       "  diametro menor [in].1 At [in2].1  \n",
       "0                0.0550     0.0028  \n",
       "1                0.0657     0.0039  \n",
       "2                0.0758     0.0052  \n",
       "3                0.0849     0.0066  \n",
       "4                0.0955     0.0083  "
      ]
     },
     "execution_count": 12,
     "metadata": {},
     "output_type": "execute_result"
    }
   ],
   "source": [
    "data = '''\n",
    "1 0.0730 64 0.0527 72 0.0550 0.0028\n",
    "2 0.0860 56 0.0628 64 0.0657 0.0039\n",
    "3 0.0990 48 0.0719 56 0.0758 0.0052\n",
    "4 0.1120 40 0.0795 48 0.0849 0.0066\n",
    "5 0.1250 40 0.0925 44 0.0955 0.0083\n",
    "6 0.1380 32 0.0974 40 0.1055 0.0101\n",
    "8 0.1640 32 0.1234 36 0.1279 0.0147\n",
    "10 0.1900 24 0.1359 32 0.1494 0.0200\n",
    "12 0.2160 24 0.1619 28 0.1696 0.0258\n",
    "1/4 0.2500 20 0.1850 28 0.2036 0.0364\n",
    "5/16 0.3125 18 0.2403 24 0.2584 0.0581\n",
    "3/8 0.3750 16 0.2938 24 0.3209 0.0878\n",
    "7/16 0.4375 14 0.3447 20 0.3725 0.1187\n",
    "1/2 0.5000 13 0.4001 20 0.4350 0.1600\n",
    "9/16 0.5625 12 0.4542 18 0.4903 0.2030\n",
    "5/8 0.6250 11 0.5069 18 0.5528 0.2560\n",
    "3/4 0.7500 10 0.6201 16 0.6688 0.3730\n",
    "7/8 0.8750 9 0.7307 14 0.7822 0.5095\n",
    "1 1.0000 8 0.8376 12 0.8917 0.6630\n",
    "'''\n",
    "rows = np.array(data.split('\\n'))[1:-1].astype(str)\n",
    "rows = np.array([row.split(' ') for row in rows])\n",
    "rows\n",
    "df = pd.DataFrame(\n",
    "    rows,\n",
    "    columns = ['Tamaño', 'diametro mayor [in]', 'num Cuerdas', 'diametro menor [in]', 'num Cuerdas.1', 'diametro menor [in].1', 'At [in2].1']\n",
    "\n",
    ")\n",
    "df.head()\n"
   ]
  },
  {
   "cell_type": "code",
   "execution_count": 6,
   "metadata": {},
   "outputs": [
    {
     "data": {
      "text/plain": [
       "Index(['Tamaño', 'diametro mayor [in]', 'num Cuerdas', 'diametro menor [in]',\n",
       "       'num Cuerdas.1', 'diametro menor [in].1', 'At [in2].1'],\n",
       "      dtype='object')"
      ]
     },
     "execution_count": 6,
     "metadata": {},
     "output_type": "execute_result"
    }
   ],
   "source": [
    "df.columns"
   ]
  },
  {
   "cell_type": "code",
   "execution_count": 13,
   "metadata": {},
   "outputs": [
    {
     "data": {
      "text/plain": [
       "array(['0.0026', '0.0037', '0.0049', '0.0060', '0.0080', '0.0091',\n",
       "       '0.0140', '0.0175', '0.0242', '0.0318', '0.0524', '0.0775',\n",
       "       '0.1063', '0.1419', '0.1819', '0.2260', '0.3345', '0.4617',\n",
       "       '0.6057'], dtype='<U6')"
      ]
     },
     "execution_count": 13,
     "metadata": {},
     "output_type": "execute_result"
    }
   ],
   "source": [
    "At =np.array(\n",
    "    '''\n",
    "0.0026\n",
    "0.0037\n",
    "0.0049\n",
    "0.0060\n",
    "0.0080\n",
    "0.0091\n",
    "0.0140\n",
    "0.0175\n",
    "0.0242\n",
    "0.0318\n",
    "0.0524\n",
    "0.0775\n",
    "0.1063\n",
    "0.1419\n",
    "0.1819\n",
    "0.2260\n",
    "0.3345\n",
    "0.4617\n",
    "0.6057'''.split('\\n')[1:]\n",
    ")\n",
    "At"
   ]
  },
  {
   "cell_type": "code",
   "execution_count": 14,
   "metadata": {},
   "outputs": [],
   "source": [
    "df['At [in2]'] = At"
   ]
  },
  {
   "cell_type": "code",
   "execution_count": 18,
   "metadata": {},
   "outputs": [
    {
     "data": {
      "text/plain": [
       "['Tamaño',\n",
       " 'diametro mayor [in]',\n",
       " 'num Cuerdas',\n",
       " 'diametro menor [in]',\n",
       " 'num Cuerdas.1',\n",
       " 'diametro menor [in].1',\n",
       " 'At [in2].1',\n",
       " 'At [in2]']"
      ]
     },
     "execution_count": 18,
     "metadata": {},
     "output_type": "execute_result"
    }
   ],
   "source": [
    "df.columns.to_list()"
   ]
  },
  {
   "cell_type": "code",
   "execution_count": 21,
   "metadata": {},
   "outputs": [],
   "source": [
    "# put  At [in2] at thr third column\n",
    "df = df[[\n",
    "'Tamaño',\n",
    " 'diametro mayor [in]',\n",
    " 'num Cuerdas',\n",
    " 'diametro menor [in]',\n",
    " 'At [in2]',\n",
    " 'num Cuerdas.1',\n",
    " 'diametro menor [in].1',\n",
    " 'At [in2].1',\n",
    "\n",
    "]]"
   ]
  },
  {
   "cell_type": "code",
   "execution_count": 22,
   "metadata": {},
   "outputs": [],
   "source": [
    "df.to_csv('table_11_1.csv', index=False)"
   ]
  }
 ],
 "metadata": {
  "kernelspec": {
   "display_name": "design",
   "language": "python",
   "name": "python3"
  },
  "language_info": {
   "codemirror_mode": {
    "name": "ipython",
    "version": 3
   },
   "file_extension": ".py",
   "mimetype": "text/x-python",
   "name": "python",
   "nbconvert_exporter": "python",
   "pygments_lexer": "ipython3",
   "version": "3.10.11"
  },
  "orig_nbformat": 4
 },
 "nbformat": 4,
 "nbformat_minor": 2
}
