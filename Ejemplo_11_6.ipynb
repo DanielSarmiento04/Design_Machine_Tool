{
 "cells": [
  {
   "attachments": {},
   "cell_type": "markdown",
   "metadata": {},
   "source": [
    "# Statement\n",
    "\n",
    "Determine el tamaño de los pasadores de espiga en la ménsula de la figura \n",
    "\n",
    "![img](./imgs/figura_11_41.png)\n",
    "\n",
    "La fuerza estática P = 1 200 lb se aplica en l = 5 in. El radio de los pasadores\n",
    "de espiga es r = 1.5 in.\n"
   ]
  },
  {
   "cell_type": "code",
   "execution_count": 26,
   "metadata": {},
   "outputs": [],
   "source": [
    "import numpy as np"
   ]
  },
  {
   "cell_type": "code",
   "execution_count": 7,
   "metadata": {},
   "outputs": [],
   "source": [
    "force = 1200 # lb\n",
    "l = 5 # in\n",
    "r = 1.5 # in \n",
    "count_pin = 4"
   ]
  },
  {
   "cell_type": "code",
   "execution_count": 40,
   "metadata": {},
   "outputs": [
    {
     "name": "stdout",
     "output_type": "stream",
     "text": [
      "F_1 =  300.0 lb\n",
      "momentum =  6000 lb-in\n",
      "F_2 =  1000.0 lb\n",
      "f_max_unitary_pin =  1300.0 lb\n",
      "sy =  117,000.0 psi\n",
      "sys =  117,000.0 psi\n",
      "area =  0.11044661672776616 in^2\n",
      "strain =  11,770.392235773948\n",
      "Ns =  9.940195505498956\n"
     ]
    }
   ],
   "source": [
    "F_1 = force / count_pin\n",
    "print(\"F_1 = \", F_1, \"lb\")\n",
    "\n",
    "momentum = force * l\n",
    "print(\"momentum = \", momentum, \"lb-in\")\n",
    "\n",
    "F_2 = momentum / (r * count_pin)\n",
    "print(\"F_2 = \", F_2, \"lb\")\n",
    "\n",
    "f_max_unitary_pin = F_1 + F_2\n",
    "print(\"f_max_unitary_pin = \", f_max_unitary_pin, \"lb\")\n",
    "\n",
    "# Choose material AISI 1020 Hot Rolled Steel\n",
    "sy = 117e3 # psi\n",
    "print(\"sy = \", f'{sy:,}', \"psi\")\n",
    "\n",
    "sys = 117e3#0.577 * sy\n",
    "print(\"sys = \", f'{sys:,}', \"psi\")\n",
    "\n",
    "# Asume a diameter of 0.375 in\n",
    "d = 0.375 # in\n",
    "\n",
    "area = (np.pi * pow(d, 2)) / 4\n",
    "print(\"area = \", area, \"in^2\")\n",
    "\n",
    "strain = f_max_unitary_pin / (area )\n",
    "print(\"strain = \", f'{strain:,}')\n",
    "\n",
    "Ns =  sys / strain\n",
    "print(\"Ns = \", Ns)\n"
   ]
  }
 ],
 "metadata": {
  "kernelspec": {
   "display_name": "design",
   "language": "python",
   "name": "python3"
  },
  "language_info": {
   "name": "python",
   "version": "3.10.11"
  },
  "orig_nbformat": 4
 },
 "nbformat": 4,
 "nbformat_minor": 2
}
