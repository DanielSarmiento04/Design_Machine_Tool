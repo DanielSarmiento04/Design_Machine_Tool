{
 "cells": [
  {
   "attachments": {},
   "cell_type": "markdown",
   "metadata": {},
   "source": [
    "# Enunciado\n",
    "\n",
    "\n",
    "Un resorte helicoidal de compresión debe ejercer una fuerza de 8 lb cuando se comprime hasta una longitud de 1.75 in. \n",
    "\n",
    "Si la longitud es de 1.25 in, la fuerza debe ser de 12 lb. \n",
    "El resorte será instalado en una máquina que funciona con ciclos de lentitud, en un orificio de 0.75 in de diámetro, y se espera que tenga un total de 200,000 ciclos. \n",
    "\n",
    "La temperatura no será mayor que 200 °F.\n",
    "\n",
    "Para esta aplicación, especifique un material, el diámetro de alambre, el diámetro medio, DE, DI, longitud libre, longitud comprimida, número de espiras y tipos de condiciones e los extremos adecuados. Comprobar el esfuerzo en la carga máxima de operación, y en la condición de longitud comprimida."
   ]
  },
  {
   "cell_type": "code",
   "execution_count": 1123,
   "metadata": {},
   "outputs": [],
   "source": [
    "import pandas as pd\n",
    "from sympy import Eq, solve, Symbol\n",
    "import numpy as np\n",
    "from colorama import Fore"
   ]
  },
  {
   "attachments": {},
   "cell_type": "markdown",
   "metadata": {},
   "source": [
    "### Selección del material"
   ]
  },
  {
   "cell_type": "code",
   "execution_count": 1124,
   "metadata": {},
   "outputs": [
    {
     "data": {
      "text/html": [
       "<div>\n",
       "<style scoped>\n",
       "    .dataframe tbody tr th:only-of-type {\n",
       "        vertical-align: middle;\n",
       "    }\n",
       "\n",
       "    .dataframe tbody tr th {\n",
       "        vertical-align: top;\n",
       "    }\n",
       "\n",
       "    .dataframe thead th {\n",
       "        text-align: right;\n",
       "    }\n",
       "</style>\n",
       "<table border=\"1\" class=\"dataframe\">\n",
       "  <thead>\n",
       "    <tr style=\"text-align: right;\">\n",
       "      <th></th>\n",
       "      <th>Material</th>\n",
       "      <th>Limite tension</th>\n",
       "      <th>limite torsion</th>\n",
       "      <th>Diámetro in</th>\n",
       "      <th>E M-psi</th>\n",
       "      <th>E GPa</th>\n",
       "      <th>G M-psi</th>\n",
       "      <th>G GPa</th>\n",
       "    </tr>\n",
       "  </thead>\n",
       "  <tbody>\n",
       "    <tr>\n",
       "      <th>0</th>\n",
       "      <td>Alambre de piano A228</td>\n",
       "      <td>65-75</td>\n",
       "      <td>45-60</td>\n",
       "      <td>&lt;0.032</td>\n",
       "      <td>29.5</td>\n",
       "      <td>203.4</td>\n",
       "      <td>12.00</td>\n",
       "      <td>82.7</td>\n",
       "    </tr>\n",
       "    <tr>\n",
       "      <th>1</th>\n",
       "      <td>Alambre de piano A228</td>\n",
       "      <td>65-75</td>\n",
       "      <td>45-60</td>\n",
       "      <td>0.033-0.063</td>\n",
       "      <td>29.0</td>\n",
       "      <td>200.0</td>\n",
       "      <td>11.85</td>\n",
       "      <td>81.7</td>\n",
       "    </tr>\n",
       "    <tr>\n",
       "      <th>2</th>\n",
       "      <td>Alambre de piano A228</td>\n",
       "      <td>65-75</td>\n",
       "      <td>45-60</td>\n",
       "      <td>0.064-0.125</td>\n",
       "      <td>28.5</td>\n",
       "      <td>196.5</td>\n",
       "      <td>11.75</td>\n",
       "      <td>81.0</td>\n",
       "    </tr>\n",
       "    <tr>\n",
       "      <th>3</th>\n",
       "      <td>Alambre de piano A228</td>\n",
       "      <td>65-75</td>\n",
       "      <td>45-60</td>\n",
       "      <td>&gt;0.125</td>\n",
       "      <td>28.0</td>\n",
       "      <td>193.0</td>\n",
       "      <td>11.60</td>\n",
       "      <td>80.0</td>\n",
       "    </tr>\n",
       "    <tr>\n",
       "      <th>4</th>\n",
       "      <td>Resorte estirado duro A227</td>\n",
       "      <td>60-70</td>\n",
       "      <td>45-55</td>\n",
       "      <td>&lt;0.032</td>\n",
       "      <td>28.8</td>\n",
       "      <td>198.6</td>\n",
       "      <td>11.70</td>\n",
       "      <td>80.7</td>\n",
       "    </tr>\n",
       "  </tbody>\n",
       "</table>\n",
       "</div>"
      ],
      "text/plain": [
       "                     Material Limite tension limite torsion  Diámetro in   \n",
       "0       Alambre de piano A228          65-75          45-60       <0.032  \\\n",
       "1       Alambre de piano A228          65-75          45-60  0.033-0.063   \n",
       "2       Alambre de piano A228          65-75          45-60  0.064-0.125   \n",
       "3       Alambre de piano A228          65-75          45-60       >0.125   \n",
       "4  Resorte estirado duro A227          60-70          45-55       <0.032   \n",
       "\n",
       "   E M-psi  E GPa  G M-psi  G GPa  \n",
       "0     29.5  203.4    12.00   82.7  \n",
       "1     29.0  200.0    11.85   81.7  \n",
       "2     28.5  196.5    11.75   81.0  \n",
       "3     28.0  193.0    11.60   80.0  \n",
       "4     28.8  198.6    11.70   80.7  "
      ]
     },
     "execution_count": 1124,
     "metadata": {},
     "output_type": "execute_result"
    }
   ],
   "source": [
    "table_10_5 = pd.read_csv('tables/table_10_5.csv')\n",
    "table_10_5.head()"
   ]
  },
  {
   "cell_type": "code",
   "execution_count": 1125,
   "metadata": {},
   "outputs": [
    {
     "data": {
      "text/plain": [
       "(array(['88-93', '65-75', nan, 29.5, 203.4, 11.2, 77.2], dtype=object),\n",
       " 0.65,\n",
       " 11.2)"
      ]
     },
     "execution_count": 1125,
     "metadata": {},
     "output_type": "execute_result"
    }
   ],
   "source": [
    "# Search Cromo-vanadio A231\t\n",
    "count = 0\n",
    "material  = table_10_5[table_10_5['Material'] == 'Cromo-vanadio A231'].values[count][1:]\n",
    "G = material[-2]\n",
    "porcentaje_sut = int(material[1].split('-')[0])/100\n",
    "material, porcentaje_sut, G"
   ]
  },
  {
   "attachments": {},
   "cell_type": "markdown",
   "metadata": {},
   "source": [
    "### Establecer datos conocidos"
   ]
  },
  {
   "cell_type": "code",
   "execution_count": 1126,
   "metadata": {},
   "outputs": [],
   "source": [
    "F_i = 8  # lb\n",
    "L_i = 1.75 #in\n",
    "\n",
    "F_o = 12 # lb\n",
    "L_o = 1.25 # in"
   ]
  },
  {
   "cell_type": "markdown",
   "metadata": {},
   "source": [
    "### Calculo de la constante del resorte"
   ]
  },
  {
   "cell_type": "code",
   "execution_count": 1127,
   "metadata": {},
   "outputs": [
    {
     "name": "stdout",
     "output_type": "stream",
     "text": [
      "k = 8.00 lb/in\n"
     ]
    }
   ],
   "source": [
    "k = (F_o - F_i)/(L_i - L_o)\n",
    "print(f'k = {k :,.2f} lb/in')"
   ]
  },
  {
   "attachments": {},
   "cell_type": "markdown",
   "metadata": {},
   "source": [
    "### Calculo de LF"
   ]
  },
  {
   "cell_type": "code",
   "execution_count": 1128,
   "metadata": {},
   "outputs": [
    {
     "name": "stdout",
     "output_type": "stream",
     "text": [
      "Eq(8.0, 12/(L_f - 1.25))\n",
      "L_f = 2.75 in\n"
     ]
    }
   ],
   "source": [
    "L_f = Symbol('L_f') # Desconocido\n",
    "eqt = Eq(k, F_o / (L_f - L_o))  # Ecuación \n",
    "print(eqt)\n",
    "L_f = F_o / k + L_o\n",
    "print(f'L_f = {L_f :,.2f} in')"
   ]
  },
  {
   "attachments": {},
   "cell_type": "markdown",
   "metadata": {},
   "source": [
    "### Estimar esfuerzo de diseño"
   ]
  },
  {
   "cell_type": "code",
   "execution_count": 1129,
   "metadata": {},
   "outputs": [],
   "source": [
    "tau_o = 144e3 # psi"
   ]
  },
  {
   "attachments": {},
   "cell_type": "markdown",
   "metadata": {},
   "source": [
    "### Asumir diámetro tentativo del resorte"
   ]
  },
  {
   "cell_type": "code",
   "execution_count": 1130,
   "metadata": {},
   "outputs": [
    {
     "name": "stdout",
     "output_type": "stream",
     "text": [
      "d = 0.049443 in\n"
     ]
    }
   ],
   "source": [
    "# Suponer k_b = 1.2 y un c = 7\n",
    "c = 9.6\n",
    "k_b = 1.2\n",
    "\n",
    "d = np.sqrt((8 * k_b * F_o * c)/ (tau_o * np.pi))\n",
    "\n",
    "print(f'd = {d:.6f} in')\n",
    "# d = 0.05"
   ]
  },
  {
   "cell_type": "code",
   "execution_count": 1131,
   "metadata": {},
   "outputs": [
    {
     "data": {
      "text/html": [
       "<div>\n",
       "<style scoped>\n",
       "    .dataframe tbody tr th:only-of-type {\n",
       "        vertical-align: middle;\n",
       "    }\n",
       "\n",
       "    .dataframe tbody tr th {\n",
       "        vertical-align: top;\n",
       "    }\n",
       "\n",
       "    .dataframe thead th {\n",
       "        text-align: right;\n",
       "    }\n",
       "</style>\n",
       "<table border=\"1\" class=\"dataframe\">\n",
       "  <thead>\n",
       "    <tr style=\"text-align: right;\">\n",
       "      <th></th>\n",
       "      <th>Calibre num</th>\n",
       "      <th>Calibre US alambre in^b</th>\n",
       "      <th>Calibre alambre instrumentos in^b</th>\n",
       "      <th>Calibre Brown &amp; Sharpe in^c</th>\n",
       "      <th>Diámetro métrico mm^d</th>\n",
       "    </tr>\n",
       "  </thead>\n",
       "  <tbody>\n",
       "    <tr>\n",
       "      <th>0</th>\n",
       "      <td>7/0</td>\n",
       "      <td>0.4900</td>\n",
       "      <td>NaN</td>\n",
       "      <td>NaN</td>\n",
       "      <td>13.0</td>\n",
       "    </tr>\n",
       "    <tr>\n",
       "      <th>1</th>\n",
       "      <td>6/0</td>\n",
       "      <td>0.4615</td>\n",
       "      <td>0.004</td>\n",
       "      <td>0.5800</td>\n",
       "      <td>12.0</td>\n",
       "    </tr>\n",
       "    <tr>\n",
       "      <th>2</th>\n",
       "      <td>5/0</td>\n",
       "      <td>0.4305</td>\n",
       "      <td>0.005</td>\n",
       "      <td>0.5165</td>\n",
       "      <td>11.0</td>\n",
       "    </tr>\n",
       "    <tr>\n",
       "      <th>3</th>\n",
       "      <td>4/0</td>\n",
       "      <td>0.3938</td>\n",
       "      <td>0.006</td>\n",
       "      <td>0.4600</td>\n",
       "      <td>10.0</td>\n",
       "    </tr>\n",
       "    <tr>\n",
       "      <th>4</th>\n",
       "      <td>3/0</td>\n",
       "      <td>0.3625</td>\n",
       "      <td>0.007</td>\n",
       "      <td>0.4096</td>\n",
       "      <td>9.0</td>\n",
       "    </tr>\n",
       "  </tbody>\n",
       "</table>\n",
       "</div>"
      ],
      "text/plain": [
       "  Calibre num  Calibre US alambre in^b  Calibre alambre instrumentos in^b   \n",
       "0         7/0                   0.4900                                NaN  \\\n",
       "1         6/0                   0.4615                              0.004   \n",
       "2         5/0                   0.4305                              0.005   \n",
       "3         4/0                   0.3938                              0.006   \n",
       "4         3/0                   0.3625                              0.007   \n",
       "\n",
       "  Calibre Brown & Sharpe in^c Diámetro métrico mm^d  \n",
       "0                         NaN                  13.0  \n",
       "1                      0.5800                  12.0  \n",
       "2                      0.5165                  11.0  \n",
       "3                      0.4600                  10.0  \n",
       "4                      0.4096                   9.0  "
      ]
     },
     "execution_count": 1131,
     "metadata": {},
     "output_type": "execute_result"
    }
   ],
   "source": [
    "table_19_2 = pd.read_csv('tables/table_19_2.csv')\n",
    "table_19_2.head()"
   ]
  },
  {
   "attachments": {},
   "cell_type": "markdown",
   "metadata": {},
   "source": [
    "### Buscar un diámetro estándar "
   ]
  },
  {
   "cell_type": "code",
   "execution_count": 1132,
   "metadata": {},
   "outputs": [
    {
     "data": {
      "text/plain": [
       "(0.0625, '16')"
      ]
     },
     "execution_count": 1132,
     "metadata": {},
     "output_type": "execute_result"
    }
   ],
   "source": [
    "calibre, *data = table_19_2[table_19_2['Calibre US alambre in^b'] > d] \\\n",
    "    .values[-2]\n",
    "diameter = data[0]\n",
    "diameter, calibre"
   ]
  },
  {
   "attachments": {},
   "cell_type": "markdown",
   "metadata": {},
   "source": [
    "### Corrección  de tau d"
   ]
  },
  {
   "cell_type": "code",
   "execution_count": 1133,
   "metadata": {},
   "outputs": [
    {
     "name": "stdout",
     "output_type": "stream",
     "text": [
      "tau_o = 65,740.80 psi\n"
     ]
    }
   ],
   "source": [
    "# tau_o =  8 * k_b * F_o * c / (np.pi * diameter**2)\n",
    "# print(f'tau_o = {tau_o :,.2f} psi')\n",
    "tau_o = 21.4 * F_o / diameter**2\n",
    "print(f'tau_o = {tau_o :,.2f} psi')\n",
    "# tau_o = 149e3 # psi"
   ]
  },
  {
   "attachments": {},
   "cell_type": "markdown",
   "metadata": {},
   "source": [
    "### Calcular el numero de esperas máximas activas"
   ]
  },
  {
   "cell_type": "code",
   "execution_count": 1134,
   "metadata": {},
   "outputs": [
    {
     "name": "stdout",
     "output_type": "stream",
     "text": [
      "N_a_max = 18.00\n",
      "N_a = 14\n"
     ]
    }
   ],
   "source": [
    "N_a_max = (L_o - 2 * diameter) / diameter\n",
    "print(f'N_a_max = {N_a_max:.2f}')\n",
    "\n",
    "N_a = int(N_a_max) - 4#* 0.75\n",
    "print(f'N_a = {N_a}')"
   ]
  },
  {
   "cell_type": "code",
   "execution_count": 1135,
   "metadata": {},
   "outputs": [
    {
     "name": "stdout",
     "output_type": "stream",
     "text": [
      "L_s = 0.88 in\n"
     ]
    }
   ],
   "source": [
    "L_s = diameter * ( N_a )\n",
    "print(f'L_s = {L_s :,.2f} in')"
   ]
  },
  {
   "attachments": {},
   "cell_type": "markdown",
   "metadata": {},
   "source": [
    "## Valores calculados"
   ]
  },
  {
   "attachments": {},
   "cell_type": "markdown",
   "metadata": {},
   "source": [
    "### Calcular el valor real de c"
   ]
  },
  {
   "cell_type": "code",
   "execution_count": 1136,
   "metadata": {},
   "outputs": [
    {
     "name": "stdout",
     "output_type": "stream",
     "text": [
      "c = 9.21 in\n"
     ]
    }
   ],
   "source": [
    "c = pow(\n",
    "    G * 1e6 * diameter / (8 * k * N_a ), \n",
    "    1/3\n",
    ")\n",
    "print(f'c = {c :,.2f} in')"
   ]
  },
  {
   "attachments": {},
   "cell_type": "markdown",
   "metadata": {},
   "source": [
    "### Calcular el valor real de k_b"
   ]
  },
  {
   "cell_type": "code",
   "execution_count": 1137,
   "metadata": {},
   "outputs": [
    {
     "name": "stdout",
     "output_type": "stream",
     "text": [
      "k_b = 1.15\n"
     ]
    }
   ],
   "source": [
    "k_b = (4 * c + 2) / (4 * c -3)\n",
    "\n",
    "print(f'k_b = {k_b :,.2f}')"
   ]
  },
  {
   "cell_type": "code",
   "execution_count": 1138,
   "metadata": {},
   "outputs": [
    {
     "name": "stdout",
     "output_type": "stream",
     "text": [
      "d = 0.070097 in\n"
     ]
    }
   ],
   "source": [
    "d_t = np.sqrt((8 * k_b * F_o * c)/ (tau_o * np.pi))\n",
    "\n",
    "print(f'd = {d_t:.6f} in')"
   ]
  },
  {
   "cell_type": "code",
   "execution_count": 1139,
   "metadata": {},
   "outputs": [
    {
     "name": "stdout",
     "output_type": "stream",
     "text": [
      "D_m = 0.57563 in\n",
      "D_e = 0.63813 in\n",
      "D_i = 0.51313 in\n"
     ]
    }
   ],
   "source": [
    "D_m = c * diameter\n",
    "print(f'D_m = {D_m :,.5f} in')\n",
    "\n",
    "D_e = D_m + diameter\n",
    "print(f'D_e = {D_e :,.5f} in')\n",
    "\n",
    "D_i = D_m - diameter\n",
    "print(f'D_i = {D_i :,.5f} in')"
   ]
  },
  {
   "cell_type": "code",
   "execution_count": 1140,
   "metadata": {},
   "outputs": [
    {
     "name": "stdout",
     "output_type": "stream",
     "text": [
      "tau_o = 82,693.81 psi\n"
     ]
    }
   ],
   "source": [
    "tau_o = 8 * k_b * F_o * D_m / (np.pi * pow(diameter, 3))\n",
    "print(f'tau_o = {tau_o :,.2f} psi')"
   ]
  },
  {
   "cell_type": "code",
   "execution_count": 1141,
   "metadata": {},
   "outputs": [
    {
     "data": {
      "text/html": [
       "<div>\n",
       "<style scoped>\n",
       "    .dataframe tbody tr th:only-of-type {\n",
       "        vertical-align: middle;\n",
       "    }\n",
       "\n",
       "    .dataframe tbody tr th {\n",
       "        vertical-align: top;\n",
       "    }\n",
       "\n",
       "    .dataframe thead th {\n",
       "        text-align: right;\n",
       "    }\n",
       "</style>\n",
       "<table border=\"1\" class=\"dataframe\">\n",
       "  <thead>\n",
       "    <tr style=\"text-align: right;\">\n",
       "      <th></th>\n",
       "      <th>Material</th>\n",
       "      <th>ASTM num</th>\n",
       "      <th>exponente m</th>\n",
       "      <th>diametro in</th>\n",
       "      <th>A kpsi * in^m</th>\n",
       "      <th>Diametro mm</th>\n",
       "      <th>A Mpa * mm^m</th>\n",
       "      <th>Costo relativo</th>\n",
       "      <th>diametro bajo</th>\n",
       "      <th>diametro alto</th>\n",
       "    </tr>\n",
       "  </thead>\n",
       "  <tbody>\n",
       "    <tr>\n",
       "      <th>0</th>\n",
       "      <td>Alambre de piano</td>\n",
       "      <td>A228</td>\n",
       "      <td>0.145</td>\n",
       "      <td>0.004-0.256</td>\n",
       "      <td>201</td>\n",
       "      <td>0.10-6.5</td>\n",
       "      <td>2211</td>\n",
       "      <td>2.6</td>\n",
       "      <td>0.004</td>\n",
       "      <td>0.256</td>\n",
       "    </tr>\n",
       "    <tr>\n",
       "      <th>1</th>\n",
       "      <td>Alambre T y R en aceite</td>\n",
       "      <td>A229</td>\n",
       "      <td>0.187</td>\n",
       "      <td>0.020-0.500</td>\n",
       "      <td>147</td>\n",
       "      <td>0.5-12.7</td>\n",
       "      <td>1 855</td>\n",
       "      <td>1.3</td>\n",
       "      <td>0.020</td>\n",
       "      <td>0.500</td>\n",
       "    </tr>\n",
       "    <tr>\n",
       "      <th>2</th>\n",
       "      <td>Alambre estirado duro</td>\n",
       "      <td>A227</td>\n",
       "      <td>0.190</td>\n",
       "      <td>0.028-0.500</td>\n",
       "      <td>140</td>\n",
       "      <td>0.7-12.7</td>\n",
       "      <td>1 783</td>\n",
       "      <td>1.0</td>\n",
       "      <td>0.028</td>\n",
       "      <td>0.500</td>\n",
       "    </tr>\n",
       "    <tr>\n",
       "      <th>3</th>\n",
       "      <td>Alambre al cromo- vanadio</td>\n",
       "      <td>A232</td>\n",
       "      <td>0.168</td>\n",
       "      <td>0.032-0.437</td>\n",
       "      <td>169</td>\n",
       "      <td>0.8-11.1</td>\n",
       "      <td>2 005</td>\n",
       "      <td>3.1</td>\n",
       "      <td>0.032</td>\n",
       "      <td>0.437</td>\n",
       "    </tr>\n",
       "    <tr>\n",
       "      <th>4</th>\n",
       "      <td>Alambre al cromo- silicio</td>\n",
       "      <td>A401</td>\n",
       "      <td>0.108</td>\n",
       "      <td>0.063-0.375</td>\n",
       "      <td>202</td>\n",
       "      <td>1.6-95</td>\n",
       "      <td>1974</td>\n",
       "      <td>40</td>\n",
       "      <td>0.063</td>\n",
       "      <td>0.375</td>\n",
       "    </tr>\n",
       "  </tbody>\n",
       "</table>\n",
       "</div>"
      ],
      "text/plain": [
       "                    Material ASTM num  exponente m  diametro in   \n",
       "0           Alambre de piano     A228        0.145  0.004-0.256  \\\n",
       "1    Alambre T y R en aceite     A229        0.187  0.020-0.500   \n",
       "2      Alambre estirado duro     A227        0.190  0.028-0.500   \n",
       "3  Alambre al cromo- vanadio     A232        0.168  0.032-0.437   \n",
       "4  Alambre al cromo- silicio     A401        0.108  0.063-0.375   \n",
       "\n",
       "   A kpsi * in^m Diametro mm A Mpa * mm^m Costo relativo  diametro bajo   \n",
       "0            201    0.10-6.5         2211            2.6          0.004  \\\n",
       "1            147    0.5-12.7        1 855            1.3          0.020   \n",
       "2            140    0.7-12.7        1 783            1.0          0.028   \n",
       "3            169    0.8-11.1        2 005            3.1          0.032   \n",
       "4            202      1.6-95         1974             40          0.063   \n",
       "\n",
       "   diametro alto  \n",
       "0          0.256  \n",
       "1          0.500  \n",
       "2          0.500  \n",
       "3          0.437  \n",
       "4          0.375  "
      ]
     },
     "execution_count": 1141,
     "metadata": {},
     "output_type": "execute_result"
    }
   ],
   "source": [
    "table_10_4 = pd.read_csv('tables/table_10_4.csv')\n",
    "table_10_4.head()"
   ]
  },
  {
   "cell_type": "code",
   "execution_count": 1142,
   "metadata": {},
   "outputs": [
    {
     "name": "stdout",
     "output_type": "stream",
     "text": [
      "F_s = 15.00 lb\n"
     ]
    }
   ],
   "source": [
    "F_s = k * (L_f - L_s)\n",
    "print(f'F_s = {F_s :,.2f} lb')"
   ]
  },
  {
   "cell_type": "code",
   "execution_count": 1143,
   "metadata": {},
   "outputs": [
    {
     "name": "stdout",
     "output_type": "stream",
     "text": [
      "tau_s = 103,367.27 psi\n"
     ]
    }
   ],
   "source": [
    "tau_s = tau_o * (F_s / F_o)\n",
    "print(f'tau_s = {tau_s :,.2f} psi')"
   ]
  },
  {
   "cell_type": "code",
   "execution_count": 1144,
   "metadata": {},
   "outputs": [
    {
     "name": "stdout",
     "output_type": "stream",
     "text": [
      "m = 0.146  A = 169.00 kpi * in^m\n",
      "S_ut = 253.33093 kpsi\n",
      "S_sy = 164.66511 kpsi\n",
      "N_y = 1.59 \n"
     ]
    }
   ],
   "source": [
    "seleccion = table_10_4[\n",
    "    (table_10_4['ASTM num'] == 'A313' )\n",
    "    & (diameter < table_10_4['diametro alto']) \n",
    "    & (diameter > table_10_4['diametro bajo'])\n",
    "].values[0]\n",
    "\n",
    "m = seleccion[2]\n",
    "A = seleccion[4]\n",
    "print(f'm = {m :,.3f} ', f'A = {A :,.2f} kpi * in^m')\n",
    "\n",
    "S_ut = A / pow(diameter, m)\n",
    "print(f'S_ut = {S_ut :,.5f} kpsi')\n",
    "\n",
    "S_sy = porcentaje_sut * S_ut\n",
    "print(f'S_sy = {S_sy :,.5f} kpsi')\n",
    "\n",
    "N_y = S_sy / tau_s * 1e3\n",
    "print(f'N_y = {N_y :,.2f} ')"
   ]
  },
  {
   "cell_type": "code",
   "execution_count": 1145,
   "metadata": {},
   "outputs": [
    {
     "name": "stdout",
     "output_type": "stream",
     "text": [
      "L_f \u001b[96m 2.75 \u001b[39m 5.26 * D_m \u001b[96m 3.0278133879450673 \u001b[39m True\n",
      "holgura espira cc = 0.027 in\n",
      "comprobacion = 0.006 in True\n",
      "l_o - l_s = 0.375 in\n",
      "l_f - l_s = 0.281 in\n",
      "Deflexion total = True\n"
     ]
    }
   ],
   "source": [
    "# relación de pandeo\n",
    "pandeo_relation = 5.26 * D_m\n",
    "print('L_f', Fore.LIGHTCYAN_EX, L_f, Fore.RESET, '5.26 * D_m', Fore.LIGHTCYAN_EX, pandeo_relation, Fore.RESET, L_f < pandeo_relation)\n",
    "\n",
    "cc = (L_o - L_s) / N_a\n",
    "print(f'holgura espira cc = {cc :,.3f} in')\n",
    "comprobacion = diameter / 10\n",
    "print(f'comprobacion = {comprobacion :,.3f} in' , cc > comprobacion)\n",
    "\n",
    "l_o_l_s = L_o - L_s\n",
    "print(f'l_o - l_s = {l_o_l_s :,.3f} in')\n",
    "l_f_l_s = 0.15 * (L_f - L_s)\n",
    "print(f'l_f - l_s = {l_f_l_s :,.3f} in')\n",
    "print(f'Deflexion total = {l_o_l_s > l_f_l_s}')"
   ]
  },
  {
   "cell_type": "code",
   "execution_count": 1146,
   "metadata": {},
   "outputs": [
    {
     "name": "stdout",
     "output_type": "stream",
     "text": [
      "Costo relativo = 0.08 USD\n"
     ]
    }
   ],
   "source": [
    "relative_cost = pow(np.pi, 2) * pow(diameter, 2) * N_a * D_m / 4\n",
    "\n",
    "print(f'Costo relativo = {relative_cost :,.2f} USD')"
   ]
  }
 ],
 "metadata": {
  "kernelspec": {
   "display_name": "design",
   "language": "python",
   "name": "python3"
  },
  "language_info": {
   "codemirror_mode": {
    "name": "ipython",
    "version": 3
   },
   "file_extension": ".py",
   "mimetype": "text/x-python",
   "name": "python",
   "nbconvert_exporter": "python",
   "pygments_lexer": "ipython3",
   "version": "3.10.11"
  },
  "orig_nbformat": 4
 },
 "nbformat": 4,
 "nbformat_minor": 2
}
