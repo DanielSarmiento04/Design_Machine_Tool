{
 "cells": [
  {
   "attachments": {},
   "cell_type": "markdown",
   "metadata": {},
   "source": [
    "# Statement\n",
    "\n",
    "Se tiene un resorte helicoidal de compresión hecho de alambre de piano núm. 16 (0.037 in). El diámetro exterior del resorte es 7/16 de pulgada. Los extremos están a escuadra y tienen un total de 12 ½ vueltas.\n",
    "\n",
    "- Estime el esfuerzo de cedencia a la torsión del alambre\n",
    "- Calcule la carga estática correspondiente al esfuerzo de cedencia\n",
    "- Determine la deflexión que se ocasionaría por la carga evaluada en el inciso b"
   ]
  },
  {
   "cell_type": "code",
   "execution_count": 23,
   "metadata": {},
   "outputs": [],
   "source": [
    "import numpy as np\n",
    "from utils import *\n",
    "from sympy import Eq, solve, symbols, reduce_inequalities"
   ]
  },
  {
   "cell_type": "code",
   "execution_count": 24,
   "metadata": {},
   "outputs": [],
   "source": [
    "# Es un resorte helicoidal de compresio \n",
    "\n",
    "D_e = 7/16 # in\n",
    "\n",
    "d = 0.03175 # in\n",
    "\n",
    "n_t = 12.5 # number of turns\n",
    "n_a = n_t - 2 # number of active turns\n"
   ]
  },
  {
   "attachments": {},
   "cell_type": "markdown",
   "metadata": {},
   "source": [
    "![](./images/table_1.png)"
   ]
  },
  {
   "cell_type": "code",
   "execution_count": 25,
   "metadata": {},
   "outputs": [
    {
     "name": "stdout",
     "output_type": "stream",
     "text": [
      "SUT: 331.469 ksi\n"
     ]
    }
   ],
   "source": [
    "m = 0.145\n",
    "A_i = 201 # ksi (in^m)\n",
    "\n",
    "SUT = A_i / pow(d, m) # ksi\n",
    "print(f'SUT: {SUT:,.6g} ksi') "
   ]
  },
  {
   "cell_type": "code",
   "execution_count": 26,
   "metadata": {},
   "outputs": [
    {
     "data": {
      "text/plain": [
       "172.36399848521305"
      ]
     },
     "execution_count": 26,
     "metadata": {},
     "output_type": "execute_result"
    }
   ],
   "source": [
    "0.52*SUT"
   ]
  },
  {
   "cell_type": "code",
   "execution_count": 27,
   "metadata": {},
   "outputs": [
    {
     "data": {
      "text/latex": [
       "$\\displaystyle 116.014229749663 \\leq S_{sy} \\wedge S_{sy} < \\infty$"
      ],
      "text/plain": [
       "(116.014229749663 <= S_sy) & (S_sy < oo)"
      ]
     },
     "execution_count": 27,
     "metadata": {},
     "output_type": "execute_result"
    }
   ],
   "source": [
    "S_sy = symbols('S_sy')\n",
    "\n",
    "reduce_inequalities(0.35*SUT <= S_sy, S_sy <= 0.52*SUT)"
   ]
  },
  {
   "cell_type": "code",
   "execution_count": 28,
   "metadata": {},
   "outputs": [
    {
     "name": "stdout",
     "output_type": "stream",
     "text": [
      "D_m: 0.40575 in\n",
      "c: 12.7795\n"
     ]
    }
   ],
   "source": [
    "D_m = D_e - d\n",
    "print(f'D_m: {D_m:,.6g} in')\n",
    "\n",
    "c = D_m / d\n",
    "print(f'c: {c:,.6g}')"
   ]
  },
  {
   "cell_type": "code",
   "execution_count": 30,
   "metadata": {},
   "outputs": [
    {
     "name": "stdout",
     "output_type": "stream",
     "text": [
      "K_s: 1.03913\n"
     ]
    }
   ],
   "source": [
    "K_s = calcula_k_s(c)\n",
    "print(f'K_s: {K_s:,.6g}')"
   ]
  }
 ],
 "metadata": {
  "kernelspec": {
   "display_name": "design",
   "language": "python",
   "name": "python3"
  },
  "language_info": {
   "codemirror_mode": {
    "name": "ipython",
    "version": 3
   },
   "file_extension": ".py",
   "mimetype": "text/x-python",
   "name": "python",
   "nbconvert_exporter": "python",
   "pygments_lexer": "ipython3",
   "version": "3.10.11"
  },
  "orig_nbformat": 4
 },
 "nbformat": 4,
 "nbformat_minor": 2
}
