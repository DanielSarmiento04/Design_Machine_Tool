{
 "cells": [
  {
   "attachments": {},
   "cell_type": "markdown",
   "metadata": {},
   "source": [
    "# Statement\n",
    "\n",
    "Se tiene un resorte helicoidal de compresión hecho de alambre de piano núm. 16 (0.037 in). El diámetro exterior del resorte es 7/16 de pulgada. Los extremos están a escuadra y tienen un total de 12 ½ vueltas.\n",
    "\n",
    "- Estime el esfuerzo de cedencia a la torsión del alambre\n",
    "- Calcule la carga estática correspondiente al esfuerzo de cedencia\n",
    "- Determine la deflexión que se ocasionaría por la carga evaluada en el inciso b"
   ]
  },
  {
   "cell_type": "code",
   "execution_count": 1,
   "metadata": {},
   "outputs": [],
   "source": [
    "import numpy as np\n",
    "from utils import *\n",
    "from sympy import Eq, solve, symbols, reduce_inequalities"
   ]
  },
  {
   "cell_type": "code",
   "execution_count": 2,
   "metadata": {},
   "outputs": [],
   "source": [
    "# Es un resorte helicoidal de compresión\n",
    "D_e = 7/16 # in\n",
    "\n",
    "d = 0.03175 # in\n",
    "\n",
    "n_t = 12.5 # number of turns\n",
    "n_a = n_t - 2 # number of active turns"
   ]
  },
  {
   "attachments": {},
   "cell_type": "markdown",
   "metadata": {},
   "source": [
    "![](./images/table_1.png)"
   ]
  },
  {
   "cell_type": "code",
   "execution_count": 3,
   "metadata": {},
   "outputs": [
    {
     "name": "stdout",
     "output_type": "stream",
     "text": [
      "SUT: 331,469 psi\n"
     ]
    }
   ],
   "source": [
    "m = 0.145\n",
    "A_i = 201 # ksi (in^m)\n",
    "\n",
    "SUT = (A_i / pow(d, m))*1e3 # psi\n",
    "print(f'SUT: {SUT:,.6g} psi') "
   ]
  },
  {
   "cell_type": "code",
   "execution_count": 4,
   "metadata": {},
   "outputs": [
    {
     "name": "stdout",
     "output_type": "stream",
     "text": [
      "k_sy min = 1.16e+05 psi\n",
      "k_sy max = 1.724e+05 psi\n"
     ]
    }
   ],
   "source": [
    "# según teoría de distortion\n",
    "print(f'k_sy min = {0.35*SUT:,.4g} psi')\n",
    "print(f'k_sy max = {0.52*SUT:,.4g} psi')"
   ]
  },
  {
   "attachments": {},
   "cell_type": "markdown",
   "metadata": {},
   "source": [
    "El iterar requiere el esfuerzo a la cadencia a torsor puro\n",
    "\n",
    "![](./images/table_2.png)\n",
    "\n",
    "Se toma el valor en el que el material es mas critico : 0.45"
   ]
  },
  {
   "cell_type": "code",
   "execution_count": 5,
   "metadata": {},
   "outputs": [
    {
     "name": "stdout",
     "output_type": "stream",
     "text": [
      "S_sy: 1.4916e+05 psi\n"
     ]
    }
   ],
   "source": [
    "G = 11.85e6 # psi\n",
    "\n",
    "S_sy = 0.45 * SUT # ksi\n",
    "print(f'S_sy: {S_sy:,.5g} psi')"
   ]
  },
  {
   "cell_type": "code",
   "execution_count": 6,
   "metadata": {},
   "outputs": [
    {
     "name": "stdout",
     "output_type": "stream",
     "text": [
      "D_m: 0.40575 in\n",
      "c: 12.7795\n",
      "K_s: 1.03913\n"
     ]
    }
   ],
   "source": [
    "D_m = D_e - d\n",
    "print(f'D_m: {D_m:,.6g} in')\n",
    "\n",
    "c = D_m / d\n",
    "print(f'c: {c:,.6g}')\n",
    "\n",
    "K_s = calcula_k_s(c)\n",
    "print(f'K_s: {K_s:,.6g}')"
   ]
  },
  {
   "cell_type": "code",
   "execution_count": 7,
   "metadata": {},
   "outputs": [
    {
     "name": "stdout",
     "output_type": "stream",
     "text": [
      "F: 4.44652 lbf\n"
     ]
    }
   ],
   "source": [
    "F = symbols('F')\n",
    "\n",
    "eqt = Eq(S_sy, calculate_cortante(K_s, F, D_m, d))\n",
    "\n",
    "F = solve(eqt, F)[0]\n",
    "print(f'F: {F:,.6g} lbf')"
   ]
  },
  {
   "cell_type": "code",
   "execution_count": 8,
   "metadata": {},
   "outputs": [
    {
     "name": "stdout",
     "output_type": "stream",
     "text": [
      "deflection: 2.07196 in\n"
     ]
    }
   ],
   "source": [
    "deflection = calculate_deflection(F, D_m, n_a, d, G)\n",
    "print(f'deflection: {deflection:,.6g} in')"
   ]
  }
 ],
 "metadata": {
  "kernelspec": {
   "display_name": "design",
   "language": "python",
   "name": "python3"
  },
  "language_info": {
   "codemirror_mode": {
    "name": "ipython",
    "version": 3
   },
   "file_extension": ".py",
   "mimetype": "text/x-python",
   "name": "python",
   "nbconvert_exporter": "python",
   "pygments_lexer": "ipython3",
   "version": "3.10.11"
  },
  "orig_nbformat": 4
 },
 "nbformat": 4,
 "nbformat_minor": 2
}
