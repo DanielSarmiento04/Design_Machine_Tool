{
 "cells": [
  {
   "cell_type": "code",
   "execution_count": 1,
   "metadata": {},
   "outputs": [],
   "source": [
    "import pandas as pd\n",
    "import numpy as np"
   ]
  },
  {
   "cell_type": "code",
   "execution_count": 3,
   "metadata": {},
   "outputs": [],
   "source": [
    "s_sa_mpa = np.array([241, 398])\n",
    "s_sa_ksi = np.array([35, 57.5])"
   ]
  },
  {
   "cell_type": "code",
   "execution_count": 4,
   "metadata": {},
   "outputs": [],
   "source": [
    "s_sm_mpa = np.array([379, 534])\n",
    "s_sm_ksi = np.array([55, 77.5])"
   ]
  },
  {
   "cell_type": "code",
   "execution_count": 21,
   "metadata": {},
   "outputs": [
    {
     "data": {
      "text/html": [
       "<div>\n",
       "<style scoped>\n",
       "    .dataframe tbody tr th:only-of-type {\n",
       "        vertical-align: middle;\n",
       "    }\n",
       "\n",
       "    .dataframe tbody tr th {\n",
       "        vertical-align: top;\n",
       "    }\n",
       "\n",
       "    .dataframe thead th {\n",
       "        text-align: right;\n",
       "    }\n",
       "</style>\n",
       "<table border=\"1\" class=\"dataframe\">\n",
       "  <thead>\n",
       "    <tr style=\"text-align: right;\">\n",
       "      <th></th>\n",
       "      <th>Stress S_sa [ksi]</th>\n",
       "      <th>Stress S_sa [MPa]</th>\n",
       "      <th>Stress S_sm [ksi]</th>\n",
       "      <th>Stress S_sm [MPa]</th>\n",
       "    </tr>\n",
       "  </thead>\n",
       "  <tbody>\n",
       "    <tr>\n",
       "      <th>0</th>\n",
       "      <td>35.0</td>\n",
       "      <td>241.0</td>\n",
       "      <td>55.0</td>\n",
       "      <td>379.0</td>\n",
       "    </tr>\n",
       "    <tr>\n",
       "      <th>1</th>\n",
       "      <td>57.5</td>\n",
       "      <td>398.0</td>\n",
       "      <td>77.5</td>\n",
       "      <td>534.0</td>\n",
       "    </tr>\n",
       "  </tbody>\n",
       "</table>\n",
       "</div>"
      ],
      "text/plain": [
       "   Stress S_sa [ksi]  Stress S_sa [MPa]  Stress S_sm [ksi]  Stress S_sm [MPa]\n",
       "0               35.0              241.0               55.0              379.0\n",
       "1               57.5              398.0               77.5              534.0"
      ]
     },
     "execution_count": 21,
     "metadata": {},
     "output_type": "execute_result"
    }
   ],
   "source": [
    "df = pd.DataFrame(\n",
    "    np.concatenate(\n",
    "        [\n",
    "            s_sa_ksi.reshape(-1,1),\n",
    "            s_sa_mpa.reshape(-1,1),\n",
    "            s_sm_ksi.reshape(-1,1),\n",
    "            s_sm_mpa.reshape(-1,1),\n",
    "        ],\n",
    "        axis=1\n",
    "    ),\n",
    "    columns=['Stress S_sa [ksi]', 'Stress S_sa [MPa]', 'Stress S_sm [ksi]', 'Stress S_sm [MPa]']\n",
    ")\n",
    "df.head()"
   ]
  },
  {
   "cell_type": "code",
   "execution_count": 22,
   "metadata": {},
   "outputs": [],
   "source": [
    "df.to_csv('./tables/table_10_14.csv', index=False)"
   ]
  }
 ],
 "metadata": {
  "kernelspec": {
   "display_name": "design",
   "language": "python",
   "name": "python3"
  },
  "language_info": {
   "codemirror_mode": {
    "name": "ipython",
    "version": 3
   },
   "file_extension": ".py",
   "mimetype": "text/x-python",
   "name": "python",
   "nbconvert_exporter": "python",
   "pygments_lexer": "ipython3",
   "version": "3.10.11"
  },
  "orig_nbformat": 4
 },
 "nbformat": 4,
 "nbformat_minor": 2
}
