{
 "cells": [
  {
   "cell_type": "code",
   "execution_count": 14,
   "metadata": {},
   "outputs": [],
   "source": [
    "import numpy as np\n",
    "import pandas as pd\n",
    "from sympy import *"
   ]
  },
  {
   "cell_type": "code",
   "execution_count": 15,
   "metadata": {},
   "outputs": [],
   "source": [
    "F_1 = 8 # lb\n",
    "F_0 = 12 # lb\n",
    "\n",
    "L_0 = 1.25 # in\n",
    "L_1 = 1.75 # in"
   ]
  },
  {
   "cell_type": "code",
   "execution_count": 16,
   "metadata": {},
   "outputs": [
    {
     "name": "stdout",
     "output_type": "stream",
     "text": [
      "k = 8.0\n"
     ]
    }
   ],
   "source": [
    "k = (F_0 - F_1) / (L_1 - L_0)\n",
    "print(f'{k = }')"
   ]
  },
  {
   "cell_type": "code",
   "execution_count": 17,
   "metadata": {},
   "outputs": [
    {
     "name": "stdout",
     "output_type": "stream",
     "text": [
      "L_f = 2.75000000000000\n"
     ]
    }
   ],
   "source": [
    "L_f = Symbol('L_f')\n",
    "eqt = Eq(k, (F_0 ) / (L_f - L_0))\n",
    "L_f = solve(eqt)[0]\n",
    "print(f'{L_f = }')"
   ]
  },
  {
   "cell_type": "code",
   "execution_count": 20,
   "metadata": {},
   "outputs": [
    {
     "name": "stdout",
     "output_type": "stream",
     "text": [
      "d = 0.0549057494136933\n"
     ]
    }
   ],
   "source": [
    "d = Symbol('d')\n",
    "tau = 120e3 # psi\n",
    "D_m = 0.65 # in\n",
    "eqt = Eq(tau, (F_0 * D_m * 8) / (np.pi * pow(d, 3)))\n",
    "\n",
    "d = solve(eqt)[0]\n",
    "print(f'{d = }')"
   ]
  },
  {
   "cell_type": "code",
   "execution_count": 21,
   "metadata": {},
   "outputs": [
    {
     "name": "stdout",
     "output_type": "stream",
     "text": [
      "c = 10.4\n"
     ]
    }
   ],
   "source": [
    "c = D_m / 0.0625\n",
    "print(f'{c = }')"
   ]
  },
  {
   "cell_type": "code",
   "execution_count": 22,
   "metadata": {},
   "outputs": [
    {
     "name": "stdout",
     "output_type": "stream",
     "text": [
      "K_b = 1.1295336787564767\n"
     ]
    }
   ],
   "source": [
    "K_b = (4 * c + 2) / (4 * c - 3)\n",
    "print(f'{K_b = }')"
   ]
  },
  {
   "cell_type": "code",
   "execution_count": 28,
   "metadata": {},
   "outputs": [
    {
     "name": "stdout",
     "output_type": "stream",
     "text": [
      "tau_real = 91933.35478104657\n",
      "N_a = 9.72339767296313\n"
     ]
    }
   ],
   "source": [
    "d = 0.0625\n",
    "tau_real = 1.13 * (8 * F_0 * D_m) / (np.pi * pow(d, 3))\n",
    "print(f'{tau_real = }')\n",
    "\n",
    "N_a = Symbol('N_a')\n",
    "\n",
    "eqt = Eq(k, (11.2e6/8) * (pow(d, 4)) / ((pow(D_m, 3) * N_a)))\n",
    "N_a = solve(eqt)[0]\n",
    "print(f'{N_a = }')"
   ]
  },
  {
   "cell_type": "code",
   "execution_count": 30,
   "metadata": {},
   "outputs": [
    {
     "name": "stdout",
     "output_type": "stream",
     "text": [
      "L_s = 0.607712354560195\n",
      "F_s = 17.1383011635184\n"
     ]
    }
   ],
   "source": [
    "L_s = N_a * d\n",
    "print(f'{L_s = }')\n",
    "\n",
    "F_s = Symbol('F_s')\n",
    "eqt = Eq(k, (F_s - F_0) / (L_0 - L_s))\n",
    "F_s = solve(eqt)[0]\n",
    "print(f'{F_s = }')"
   ]
  },
  {
   "cell_type": "code",
   "execution_count": 31,
   "metadata": {},
   "outputs": [
    {
     "name": "stdout",
     "output_type": "stream",
     "text": [
      "tau_solido = 131298.460100847\n"
     ]
    }
   ],
   "source": [
    "tau_solido = tau_real * (F_s / F_0)\n",
    "print(f'{tau_solido = }')"
   ]
  },
  {
   "cell_type": "code",
   "execution_count": 33,
   "metadata": {},
   "outputs": [
    {
     "name": "stdout",
     "output_type": "stream",
     "text": [
      "S_ut = 265557.31063364213\n"
     ]
    }
   ],
   "source": [
    "A, m = 169, 0.163\n",
    "\n",
    "S_ut =  A / pow(d, m) * 1e3 # psi\n",
    "print(f'{S_ut = }')"
   ]
  },
  {
   "cell_type": "code",
   "execution_count": 36,
   "metadata": {},
   "outputs": [
    {
     "name": "stdout",
     "output_type": "stream",
     "text": [
      "S_sy = 172612.25191186738\n",
      "N_sy = 1.31465557005991\n"
     ]
    }
   ],
   "source": [
    "S_sy = 0.65 * S_ut\n",
    "print(f'{S_sy = }')\n",
    "\n",
    "N_sy = S_sy / tau_solido\n",
    "print(f'{N_sy = }')"
   ]
  },
  {
   "cell_type": "code",
   "execution_count": 37,
   "metadata": {},
   "outputs": [
    {
     "data": {
      "text/plain": [
       "3.419"
      ]
     },
     "execution_count": 37,
     "metadata": {},
     "output_type": "execute_result"
    }
   ],
   "source": [
    "5.26 * 0.65"
   ]
  },
  {
   "cell_type": "code",
   "execution_count": 39,
   "metadata": {},
   "outputs": [
    {
     "name": "stdout",
     "output_type": "stream",
     "text": [
      "cc = 0.0660558857142858\n"
     ]
    }
   ],
   "source": [
    "cc = (L_0 - L_s) / N_a\n",
    "print(f'{cc = }')"
   ]
  }
 ],
 "metadata": {
  "kernelspec": {
   "display_name": "design",
   "language": "python",
   "name": "python3"
  },
  "language_info": {
   "codemirror_mode": {
    "name": "ipython",
    "version": 3
   },
   "file_extension": ".py",
   "mimetype": "text/x-python",
   "name": "python",
   "nbconvert_exporter": "python",
   "pygments_lexer": "ipython3",
   "version": "3.10.11"
  },
  "orig_nbformat": 4
 },
 "nbformat": 4,
 "nbformat_minor": 2
}
