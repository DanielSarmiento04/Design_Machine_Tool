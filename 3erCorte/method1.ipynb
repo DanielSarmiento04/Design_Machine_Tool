{
 "cells": [
  {
   "attachments": {},
   "cell_type": "markdown",
   "metadata": {},
   "source": [
    "Enunciado \n",
    "\n",
    "Un resorte helicoidal de compresión debe ejercer una fuerza de 8 lb cuando se comprime hasta una longitud de 1.75 in. \n",
    "\n",
    "Si la longitud es de 1.25 in, la fuerza debe ser de 12 lb. \n",
    "El resorte será instalado en una máquina que funciona con ciclos de lentitud, en un orificio de 0.75 in de diámetro, y se espera que tenga un total de 200,000 ciclos. \n",
    "\n",
    "La temperatura no será mayor que 200 °F.\n",
    "\n",
    "Para esta aplicación, especifique un material, el diámetro de alambre, el diámetro medio, DE, DI, longitud libre, longitud comprimida, número de espiras y tipos de condiciones e los extremos adecuados. Comprobar el esfuerzo en la carga máxima de operación, y en la condición de longitud comprimida."
   ]
  },
  {
   "attachments": {},
   "cell_type": "markdown",
   "metadata": {},
   "source": [
    "### Selección del material\n"
   ]
  },
  {
   "cell_type": "code",
   "execution_count": 40,
   "metadata": {},
   "outputs": [],
   "source": [
    "import pandas as pd\n",
    "import polars as pl\n",
    "from sympy import *\n",
    "import numpy as np"
   ]
  },
  {
   "cell_type": "code",
   "execution_count": 10,
   "metadata": {},
   "outputs": [
    {
     "data": {
      "text/html": [
       "<div>\n",
       "<style scoped>\n",
       "    .dataframe tbody tr th:only-of-type {\n",
       "        vertical-align: middle;\n",
       "    }\n",
       "\n",
       "    .dataframe tbody tr th {\n",
       "        vertical-align: top;\n",
       "    }\n",
       "\n",
       "    .dataframe thead th {\n",
       "        text-align: right;\n",
       "    }\n",
       "</style>\n",
       "<table border=\"1\" class=\"dataframe\">\n",
       "  <thead>\n",
       "    <tr style=\"text-align: right;\">\n",
       "      <th></th>\n",
       "      <th>Material</th>\n",
       "      <th>Limite tension</th>\n",
       "      <th>limite torsion</th>\n",
       "      <th>Diámetro in</th>\n",
       "      <th>E M-psi</th>\n",
       "      <th>E GPa</th>\n",
       "      <th>G M-psi</th>\n",
       "      <th>G GPa</th>\n",
       "    </tr>\n",
       "  </thead>\n",
       "  <tbody>\n",
       "    <tr>\n",
       "      <th>0</th>\n",
       "      <td>Alambre de piano A228</td>\n",
       "      <td>65-75</td>\n",
       "      <td>45-60</td>\n",
       "      <td>&lt;0.032</td>\n",
       "      <td>29.5</td>\n",
       "      <td>203.4</td>\n",
       "      <td>12.00</td>\n",
       "      <td>82.7</td>\n",
       "    </tr>\n",
       "    <tr>\n",
       "      <th>1</th>\n",
       "      <td>Alambre de piano A228</td>\n",
       "      <td>65-75</td>\n",
       "      <td>45-60</td>\n",
       "      <td>0.033-0.063</td>\n",
       "      <td>29.0</td>\n",
       "      <td>200.0</td>\n",
       "      <td>11.85</td>\n",
       "      <td>81.7</td>\n",
       "    </tr>\n",
       "    <tr>\n",
       "      <th>2</th>\n",
       "      <td>Alambre de piano A228</td>\n",
       "      <td>65-75</td>\n",
       "      <td>45-60</td>\n",
       "      <td>0.064-0.125</td>\n",
       "      <td>28.5</td>\n",
       "      <td>196.5</td>\n",
       "      <td>11.75</td>\n",
       "      <td>81.0</td>\n",
       "    </tr>\n",
       "    <tr>\n",
       "      <th>3</th>\n",
       "      <td>Alambre de piano A228</td>\n",
       "      <td>65-75</td>\n",
       "      <td>45-60</td>\n",
       "      <td>&gt;0.125</td>\n",
       "      <td>28.0</td>\n",
       "      <td>193.0</td>\n",
       "      <td>11.60</td>\n",
       "      <td>80.0</td>\n",
       "    </tr>\n",
       "    <tr>\n",
       "      <th>4</th>\n",
       "      <td>Resorte estirado duro A227</td>\n",
       "      <td>60-70</td>\n",
       "      <td>45-55</td>\n",
       "      <td>&lt;0.032</td>\n",
       "      <td>28.8</td>\n",
       "      <td>198.6</td>\n",
       "      <td>11.70</td>\n",
       "      <td>80.7</td>\n",
       "    </tr>\n",
       "    <tr>\n",
       "      <th>5</th>\n",
       "      <td>Resorte estirado duro A227</td>\n",
       "      <td>60-70</td>\n",
       "      <td>45-55</td>\n",
       "      <td>0.033-0.063</td>\n",
       "      <td>28.7</td>\n",
       "      <td>197.9</td>\n",
       "      <td>11.60</td>\n",
       "      <td>80.0</td>\n",
       "    </tr>\n",
       "    <tr>\n",
       "      <th>6</th>\n",
       "      <td>Resorte estirado duro A227</td>\n",
       "      <td>60-70</td>\n",
       "      <td>45-55</td>\n",
       "      <td>0.064-0.125</td>\n",
       "      <td>28.6</td>\n",
       "      <td>197.2</td>\n",
       "      <td>11.50</td>\n",
       "      <td>79.3</td>\n",
       "    </tr>\n",
       "    <tr>\n",
       "      <th>7</th>\n",
       "      <td>Resorte estirado duro A227</td>\n",
       "      <td>60-70</td>\n",
       "      <td>45-55</td>\n",
       "      <td>&gt;0.125</td>\n",
       "      <td>28.5</td>\n",
       "      <td>196.5</td>\n",
       "      <td>11.40</td>\n",
       "      <td>78.6</td>\n",
       "    </tr>\n",
       "    <tr>\n",
       "      <th>8</th>\n",
       "      <td>Templado en aceite A239</td>\n",
       "      <td>85-90</td>\n",
       "      <td>45-50</td>\n",
       "      <td>NaN</td>\n",
       "      <td>28.5</td>\n",
       "      <td>196.5</td>\n",
       "      <td>11.20</td>\n",
       "      <td>77.2</td>\n",
       "    </tr>\n",
       "    <tr>\n",
       "      <th>9</th>\n",
       "      <td>Resorte de válvula A230</td>\n",
       "      <td>85-90</td>\n",
       "      <td>50-60</td>\n",
       "      <td>NaN</td>\n",
       "      <td>29.5</td>\n",
       "      <td>203.4</td>\n",
       "      <td>11.20</td>\n",
       "      <td>77.2</td>\n",
       "    </tr>\n",
       "    <tr>\n",
       "      <th>10</th>\n",
       "      <td>Cromo-vanadio A231</td>\n",
       "      <td>88-93</td>\n",
       "      <td>65-75</td>\n",
       "      <td>NaN</td>\n",
       "      <td>29.5</td>\n",
       "      <td>203.4</td>\n",
       "      <td>11.20</td>\n",
       "      <td>77.2</td>\n",
       "    </tr>\n",
       "    <tr>\n",
       "      <th>11</th>\n",
       "      <td>Cromo-vanadio A232</td>\n",
       "      <td>88-93</td>\n",
       "      <td>NaN</td>\n",
       "      <td>NaN</td>\n",
       "      <td>29.5</td>\n",
       "      <td>203.4</td>\n",
       "      <td>11.20</td>\n",
       "      <td>77.2</td>\n",
       "    </tr>\n",
       "    <tr>\n",
       "      <th>12</th>\n",
       "      <td>Cromo-silicio A401</td>\n",
       "      <td>85-93</td>\n",
       "      <td>65-75</td>\n",
       "      <td>NaN</td>\n",
       "      <td>29.5</td>\n",
       "      <td>203.4</td>\n",
       "      <td>11.20</td>\n",
       "      <td>77.2</td>\n",
       "    </tr>\n",
       "    <tr>\n",
       "      <th>13</th>\n",
       "      <td>Acero inoxidable A313*</td>\n",
       "      <td>65-75</td>\n",
       "      <td>45-55</td>\n",
       "      <td>NaN</td>\n",
       "      <td>28.0</td>\n",
       "      <td>193.0</td>\n",
       "      <td>10.00</td>\n",
       "      <td>69.0</td>\n",
       "    </tr>\n",
       "    <tr>\n",
       "      <th>14</th>\n",
       "      <td>Acero inoxidable 17-7PH</td>\n",
       "      <td>75-80</td>\n",
       "      <td>55-60</td>\n",
       "      <td>NaN</td>\n",
       "      <td>29.5</td>\n",
       "      <td>208.4</td>\n",
       "      <td>11.00</td>\n",
       "      <td>75.8</td>\n",
       "    </tr>\n",
       "    <tr>\n",
       "      <th>15</th>\n",
       "      <td>Acero inoxidable 414</td>\n",
       "      <td>65-70</td>\n",
       "      <td>42-55</td>\n",
       "      <td>NaN</td>\n",
       "      <td>29.0</td>\n",
       "      <td>200.0</td>\n",
       "      <td>11.20</td>\n",
       "      <td>77.2</td>\n",
       "    </tr>\n",
       "    <tr>\n",
       "      <th>16</th>\n",
       "      <td>Acero inoxidable 420</td>\n",
       "      <td>65-75</td>\n",
       "      <td>45-55</td>\n",
       "      <td>NaN</td>\n",
       "      <td>29.0</td>\n",
       "      <td>200.0</td>\n",
       "      <td>11.20</td>\n",
       "      <td>77.2</td>\n",
       "    </tr>\n",
       "    <tr>\n",
       "      <th>17</th>\n",
       "      <td>Acero inoxidable 431</td>\n",
       "      <td>72-76</td>\n",
       "      <td>50-55</td>\n",
       "      <td>NaN</td>\n",
       "      <td>30.0</td>\n",
       "      <td>206.0</td>\n",
       "      <td>11.50</td>\n",
       "      <td>79.3</td>\n",
       "    </tr>\n",
       "    <tr>\n",
       "      <th>18</th>\n",
       "      <td>Bronce fosforado B159</td>\n",
       "      <td>75-80</td>\n",
       "      <td>45-50</td>\n",
       "      <td>NaN</td>\n",
       "      <td>15.0</td>\n",
       "      <td>103.4</td>\n",
       "      <td>6.00</td>\n",
       "      <td>41.4</td>\n",
       "    </tr>\n",
       "    <tr>\n",
       "      <th>19</th>\n",
       "      <td>Cobre al berilio B197</td>\n",
       "      <td>70</td>\n",
       "      <td>50</td>\n",
       "      <td>NaN</td>\n",
       "      <td>17.0</td>\n",
       "      <td>117.2</td>\n",
       "      <td>6.50</td>\n",
       "      <td>44.8</td>\n",
       "    </tr>\n",
       "    <tr>\n",
       "      <th>20</th>\n",
       "      <td>Cobre al berilio B197</td>\n",
       "      <td>75</td>\n",
       "      <td>50-55</td>\n",
       "      <td>NaN</td>\n",
       "      <td>19.0</td>\n",
       "      <td>131.0</td>\n",
       "      <td>7.30</td>\n",
       "      <td>50.3</td>\n",
       "    </tr>\n",
       "    <tr>\n",
       "      <th>21</th>\n",
       "      <td>Aleación inconel X-750</td>\n",
       "      <td>65-70</td>\n",
       "      <td>40-45</td>\n",
       "      <td>NaN</td>\n",
       "      <td>31.0</td>\n",
       "      <td>213.7</td>\n",
       "      <td>11.20</td>\n",
       "      <td>77.2</td>\n",
       "    </tr>\n",
       "  </tbody>\n",
       "</table>\n",
       "</div>"
      ],
      "text/plain": [
       "                      Material Limite tension limite torsion  Diámetro in   \n",
       "0        Alambre de piano A228          65-75          45-60       <0.032  \\\n",
       "1        Alambre de piano A228          65-75          45-60  0.033-0.063   \n",
       "2        Alambre de piano A228          65-75          45-60  0.064-0.125   \n",
       "3        Alambre de piano A228          65-75          45-60       >0.125   \n",
       "4   Resorte estirado duro A227          60-70          45-55       <0.032   \n",
       "5   Resorte estirado duro A227          60-70          45-55  0.033-0.063   \n",
       "6   Resorte estirado duro A227          60-70          45-55  0.064-0.125   \n",
       "7   Resorte estirado duro A227          60-70          45-55       >0.125   \n",
       "8     Templado en aceite A239           85-90          45-50          NaN   \n",
       "9     Resorte de válvula A230           85-90          50-60          NaN   \n",
       "10          Cromo-vanadio A231          88-93          65-75          NaN   \n",
       "11         Cromo-vanadio A232           88-93            NaN          NaN   \n",
       "12          Cromo-silicio A401          85-93          65-75          NaN   \n",
       "13      Acero inoxidable A313*          65-75          45-55          NaN   \n",
       "14    Acero inoxidable 17-7PH           75-80          55-60          NaN   \n",
       "15       Acero inoxidable 414           65-70          42-55          NaN   \n",
       "16       Acero inoxidable 420           65-75          45-55          NaN   \n",
       "17        Acero inoxidable 431          72-76          50-55          NaN   \n",
       "18      Bronce fosforado B159           75-80          45-50          NaN   \n",
       "19       Cobre al berilio B197             70             50          NaN   \n",
       "20       Cobre al berilio B197             75          50-55          NaN   \n",
       "21      Aleación inconel X-750          65-70          40-45          NaN   \n",
       "\n",
       "    E M-psi  E GPa  G M-psi  G GPa  \n",
       "0      29.5  203.4    12.00   82.7  \n",
       "1      29.0  200.0    11.85   81.7  \n",
       "2      28.5  196.5    11.75   81.0  \n",
       "3      28.0  193.0    11.60   80.0  \n",
       "4      28.8  198.6    11.70   80.7  \n",
       "5      28.7  197.9    11.60   80.0  \n",
       "6      28.6  197.2    11.50   79.3  \n",
       "7      28.5  196.5    11.40   78.6  \n",
       "8      28.5  196.5    11.20   77.2  \n",
       "9      29.5  203.4    11.20   77.2  \n",
       "10     29.5  203.4    11.20   77.2  \n",
       "11     29.5  203.4    11.20   77.2  \n",
       "12     29.5  203.4    11.20   77.2  \n",
       "13     28.0  193.0    10.00   69.0  \n",
       "14     29.5  208.4    11.00   75.8  \n",
       "15     29.0  200.0    11.20   77.2  \n",
       "16     29.0  200.0    11.20   77.2  \n",
       "17     30.0  206.0    11.50   79.3  \n",
       "18     15.0  103.4     6.00   41.4  \n",
       "19     17.0  117.2     6.50   44.8  \n",
       "20     19.0  131.0     7.30   50.3  \n",
       "21     31.0  213.7    11.20   77.2  "
      ]
     },
     "execution_count": 10,
     "metadata": {},
     "output_type": "execute_result"
    }
   ],
   "source": [
    "table_10_5 = pd.read_csv('tables/table_10_5.csv')\n",
    "table_10_5"
   ]
  },
  {
   "cell_type": "code",
   "execution_count": 25,
   "metadata": {},
   "outputs": [
    {
     "data": {
      "text/plain": [
       "(array(['88-93', '65-75', nan, 29.5, 203.4, 11.2, 77.2], dtype=object),\n",
       " 0.65,\n",
       " 11.2)"
      ]
     },
     "execution_count": 25,
     "metadata": {},
     "output_type": "execute_result"
    }
   ],
   "source": [
    "# Search Cromo-vanadio A231\t\n",
    "material  = table_10_5[table_10_5['Material'] == 'Cromo-vanadio A231'].values[0][1:]\n",
    "G = material[-2]\n",
    "porcentaje_sut = int(material[1].split('-')[0])/100\n",
    "material, porcentaje_sut, G"
   ]
  },
  {
   "attachments": {},
   "cell_type": "markdown",
   "metadata": {},
   "source": [
    "###  Establecer datos conocidos"
   ]
  },
  {
   "cell_type": "code",
   "execution_count": 26,
   "metadata": {},
   "outputs": [],
   "source": [
    "F_i = 8  # lb\n",
    "L_i = 1.75 #in\n",
    "\n",
    "F_o = 12 # lb\n",
    "L_o = 1.25 # in"
   ]
  },
  {
   "attachments": {},
   "cell_type": "markdown",
   "metadata": {},
   "source": [
    "### Calculo de la constante del resorte"
   ]
  },
  {
   "cell_type": "code",
   "execution_count": 31,
   "metadata": {},
   "outputs": [
    {
     "name": "stdout",
     "output_type": "stream",
     "text": [
      "k = 8.00 lb/in\n"
     ]
    }
   ],
   "source": [
    "k = (F_o - F_i)/(L_i - L_o)\n",
    "print(f'k = {k :,.2f} lb/in')"
   ]
  },
  {
   "attachments": {},
   "cell_type": "markdown",
   "metadata": {},
   "source": [
    "### Calculo de LF"
   ]
  },
  {
   "cell_type": "code",
   "execution_count": 35,
   "metadata": {},
   "outputs": [
    {
     "name": "stdout",
     "output_type": "stream",
     "text": [
      "L_f = 2.75 in\n"
     ]
    }
   ],
   "source": [
    "L_f = Symbol('L_f') # Desconocido\n",
    "eqt = Eq(k, F_o / (L_f - L_o))  # Ecuación \n",
    "L_f = solve(eqt)[0] # Solución\n",
    "print(f'L_f = {L_f :,.2f} in')"
   ]
  },
  {
   "attachments": {},
   "cell_type": "markdown",
   "metadata": {},
   "source": [
    "### Suponer Dm"
   ]
  },
  {
   "cell_type": "code",
   "execution_count": 36,
   "metadata": {},
   "outputs": [],
   "source": [
    "D_m = 0.60 # in"
   ]
  },
  {
   "attachments": {},
   "cell_type": "markdown",
   "metadata": {},
   "source": [
    "### Establezca el esfuerzo inicial de acuerdo a la gráfica 19-11 380 (743) "
   ]
  },
  {
   "cell_type": "code",
   "execution_count": 37,
   "metadata": {},
   "outputs": [],
   "source": [
    "tau_o = 130e3 # psi"
   ]
  },
  {
   "attachments": {},
   "cell_type": "markdown",
   "metadata": {},
   "source": [
    "### Estimar K_b"
   ]
  },
  {
   "cell_type": "code",
   "execution_count": 39,
   "metadata": {},
   "outputs": [],
   "source": [
    "k_b = 1.2"
   ]
  },
  {
   "attachments": {},
   "cell_type": "markdown",
   "metadata": {},
   "source": [
    "### Encontrar d"
   ]
  },
  {
   "cell_type": "code",
   "execution_count": 43,
   "metadata": {},
   "outputs": [
    {
     "name": "stdout",
     "output_type": "stream",
     "text": [
      "d = 0.05531 in\n"
     ]
    }
   ],
   "source": [
    "d = pow(\n",
    "    (8 * k_b * F_o * D_m) / (np.pi * tau_o)\n",
    "    , 1/3\n",
    ")\n",
    "print(f'd = {d :,.5f} in')"
   ]
  },
  {
   "cell_type": "code",
   "execution_count": null,
   "metadata": {},
   "outputs": [],
   "source": []
  }
 ],
 "metadata": {
  "kernelspec": {
   "display_name": "design",
   "language": "python",
   "name": "python3"
  },
  "language_info": {
   "codemirror_mode": {
    "name": "ipython",
    "version": 3
   },
   "file_extension": ".py",
   "mimetype": "text/x-python",
   "name": "python",
   "nbconvert_exporter": "python",
   "pygments_lexer": "ipython3",
   "version": "3.10.11"
  },
  "orig_nbformat": 4
 },
 "nbformat": 4,
 "nbformat_minor": 2
}
