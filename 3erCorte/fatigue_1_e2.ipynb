{
 "cells": [
  {
   "attachments": {},
   "cell_type": "markdown",
   "metadata": {},
   "source": [
    "# Enunciado \n",
    "\n",
    "Un resorte helicoidal de compresión de alambre de piano con vida infinita se necesita para resistir una carga dinámica que varía de 5 a 20 lb a 5 Hz, \n",
    "en tanto que la deflexión del extremo varía de ½ a 2 in. \n",
    "\n",
    "> Debido a consideraciones de ensamble, \n",
    "\n",
    "1. la altura sólida no debe exceder 1 in y la longitud libre no puede ser mayor que 4 in. \n",
    "\n",
    "El fabricante de resortes tiene los siguientes dados en existencia: 0.069, 0.071, 0.080, 0.085, 0.090, 0.095, 0.105 y 0.112 in."
   ]
  },
  {
   "attachments": {},
   "cell_type": "markdown",
   "metadata": {},
   "source": [
    "### Import necessary libraries"
   ]
  },
  {
   "cell_type": "code",
   "execution_count": 187,
   "metadata": {},
   "outputs": [],
   "source": [
    "import pandas as pd\n",
    "from sympy import Eq, solve, Symbol\n",
    "import numpy as np\n",
    "from colorama import Fore"
   ]
  },
  {
   "cell_type": "code",
   "execution_count": 188,
   "metadata": {},
   "outputs": [],
   "source": [
    "### tools\n",
    "\n",
    "k_b_func = lambda c: (4 * c + 2) / (4 * c - 3)\n",
    "\n",
    "c_func = lambda a, b: (2 * a - b) / (4 * b) + pow(\n",
    "        pow((2*a-b)/(4*b), 2) - 3*a/(4*b), \n",
    "        1/2\n",
    ")\n",
    "\n",
    "na_func = lambda d, G, Dm, k: (pow(d, 4) * G)/(8 * pow(Dm, 3) * k)"
   ]
  },
  {
   "attachments": {},
   "cell_type": "markdown",
   "metadata": {},
   "source": [
    "### Establecer datos conocidos"
   ]
  },
  {
   "cell_type": "code",
   "execution_count": 189,
   "metadata": {},
   "outputs": [],
   "source": [
    "F_max = 20 #lb\n",
    "F_min = 5 #lb\n",
    "f = 5 # hz\n",
    "L_f = 4 # in\n",
    "y_max = 2 # in\n",
    "y_min = 1 / 2 # in\n",
    "nf = 1.5\n",
    "'''factor a la fatiga'''\n",
    "eta = 0.15 # epsilon\n",
    "'''epsilon'''\n",
    "\n",
    "d = np.array([0.069, 0.071, 0.080, 0.085, 0.090, 0.095, 0.105, 0.112], dtype=float)\n",
    "\n",
    "diameter = d[-1]"
   ]
  },
  {
   "attachments": {},
   "cell_type": "markdown",
   "metadata": {},
   "source": [
    "### Selección del material"
   ]
  },
  {
   "cell_type": "code",
   "execution_count": 190,
   "metadata": {},
   "outputs": [
    {
     "data": {
      "text/html": [
       "<div>\n",
       "<style scoped>\n",
       "    .dataframe tbody tr th:only-of-type {\n",
       "        vertical-align: middle;\n",
       "    }\n",
       "\n",
       "    .dataframe tbody tr th {\n",
       "        vertical-align: top;\n",
       "    }\n",
       "\n",
       "    .dataframe thead th {\n",
       "        text-align: right;\n",
       "    }\n",
       "</style>\n",
       "<table border=\"1\" class=\"dataframe\">\n",
       "  <thead>\n",
       "    <tr style=\"text-align: right;\">\n",
       "      <th></th>\n",
       "      <th>Material</th>\n",
       "      <th>Limite tension</th>\n",
       "      <th>limite torsion</th>\n",
       "      <th>Diámetro in</th>\n",
       "      <th>E M-psi</th>\n",
       "      <th>E GPa</th>\n",
       "      <th>G M-psi</th>\n",
       "      <th>G GPa</th>\n",
       "    </tr>\n",
       "  </thead>\n",
       "  <tbody>\n",
       "    <tr>\n",
       "      <th>0</th>\n",
       "      <td>Alambre de piano A228</td>\n",
       "      <td>65-75</td>\n",
       "      <td>45-60</td>\n",
       "      <td>&lt;0.032</td>\n",
       "      <td>29.5</td>\n",
       "      <td>203.4</td>\n",
       "      <td>12.00</td>\n",
       "      <td>82.7</td>\n",
       "    </tr>\n",
       "    <tr>\n",
       "      <th>1</th>\n",
       "      <td>Alambre de piano A228</td>\n",
       "      <td>65-75</td>\n",
       "      <td>45-60</td>\n",
       "      <td>0.033-0.063</td>\n",
       "      <td>29.0</td>\n",
       "      <td>200.0</td>\n",
       "      <td>11.85</td>\n",
       "      <td>81.7</td>\n",
       "    </tr>\n",
       "    <tr>\n",
       "      <th>2</th>\n",
       "      <td>Alambre de piano A228</td>\n",
       "      <td>65-75</td>\n",
       "      <td>45-60</td>\n",
       "      <td>0.064-0.125</td>\n",
       "      <td>28.5</td>\n",
       "      <td>196.5</td>\n",
       "      <td>11.75</td>\n",
       "      <td>81.0</td>\n",
       "    </tr>\n",
       "    <tr>\n",
       "      <th>3</th>\n",
       "      <td>Alambre de piano A228</td>\n",
       "      <td>65-75</td>\n",
       "      <td>45-60</td>\n",
       "      <td>&gt;0.125</td>\n",
       "      <td>28.0</td>\n",
       "      <td>193.0</td>\n",
       "      <td>11.60</td>\n",
       "      <td>80.0</td>\n",
       "    </tr>\n",
       "    <tr>\n",
       "      <th>4</th>\n",
       "      <td>Resorte estirado duro A227</td>\n",
       "      <td>60-70</td>\n",
       "      <td>45-55</td>\n",
       "      <td>&lt;0.032</td>\n",
       "      <td>28.8</td>\n",
       "      <td>198.6</td>\n",
       "      <td>11.70</td>\n",
       "      <td>80.7</td>\n",
       "    </tr>\n",
       "  </tbody>\n",
       "</table>\n",
       "</div>"
      ],
      "text/plain": [
       "                     Material Limite tension limite torsion  Diámetro in   \n",
       "0       Alambre de piano A228          65-75          45-60       <0.032  \\\n",
       "1       Alambre de piano A228          65-75          45-60  0.033-0.063   \n",
       "2       Alambre de piano A228          65-75          45-60  0.064-0.125   \n",
       "3       Alambre de piano A228          65-75          45-60       >0.125   \n",
       "4  Resorte estirado duro A227          60-70          45-55       <0.032   \n",
       "\n",
       "   E M-psi  E GPa  G M-psi  G GPa  \n",
       "0     29.5  203.4    12.00   82.7  \n",
       "1     29.0  200.0    11.85   81.7  \n",
       "2     28.5  196.5    11.75   81.0  \n",
       "3     28.0  193.0    11.60   80.0  \n",
       "4     28.8  198.6    11.70   80.7  "
      ]
     },
     "execution_count": 190,
     "metadata": {},
     "output_type": "execute_result"
    }
   ],
   "source": [
    "table_10_5 = pd.read_csv('tables/table_10_5.csv')\n",
    "table_10_5.head()"
   ]
  },
  {
   "cell_type": "code",
   "execution_count": 191,
   "metadata": {},
   "outputs": [
    {
     "data": {
      "text/plain": [
       "(array(['65-75', '45-60', '0.064-0.125', 28.5, 196.5, 11.75, 81.0],\n",
       "       dtype=object),\n",
       " 0.45,\n",
       " 11.75)"
      ]
     },
     "execution_count": 191,
     "metadata": {},
     "output_type": "execute_result"
    }
   ],
   "source": [
    "# Search Cromo-vanadio A231\t\n",
    "count = 2\n",
    "material  = table_10_5[table_10_5['Material'] == 'Alambre de piano A228'].\\\n",
    "    values[count][1:]\n",
    "\n",
    "G = material[-2]\n",
    "\n",
    "porcentaje_sut = int(material[1].split('-')[0])/100\n",
    "material, porcentaje_sut, G"
   ]
  },
  {
   "cell_type": "markdown",
   "metadata": {},
   "source": [
    "### Encontrar Fuerza alternante y media"
   ]
  },
  {
   "cell_type": "code",
   "execution_count": 192,
   "metadata": {},
   "outputs": [
    {
     "name": "stdout",
     "output_type": "stream",
     "text": [
      "Fuerza alternante \u001b[94m 7.5 lb \u001b[39m\n",
      "Fuerza media \u001b[94m 12.5 lb \u001b[39m\n"
     ]
    }
   ],
   "source": [
    "F_a = (F_max - F_min) / 2 \n",
    "F_m = (F_max + F_min) / 2\n",
    "\n",
    "print('Fuerza alternante', Fore.LIGHTBLUE_EX, F_a, 'lb', Fore.RESET)\n",
    "print('Fuerza media', Fore.LIGHTBLUE_EX, F_m, 'lb', Fore.RESET)"
   ]
  },
  {
   "attachments": {},
   "cell_type": "markdown",
   "metadata": {},
   "source": [
    "### Encontrar k"
   ]
  },
  {
   "cell_type": "code",
   "execution_count": 193,
   "metadata": {},
   "outputs": [
    {
     "name": "stdout",
     "output_type": "stream",
     "text": [
      "indice de resorte k \u001b[96m 10.0 lb/ln \u001b[39m\n"
     ]
    }
   ],
   "source": [
    "k = F_max / y_max\n",
    "print('indice de resorte k', Fore.LIGHTCYAN_EX, k, 'lb/ln', Fore.RESET)"
   ]
  },
  {
   "attachments": {},
   "cell_type": "markdown",
   "metadata": {},
   "source": [
    "### Encontrar la resistencia ultima a la tracción"
   ]
  },
  {
   "cell_type": "code",
   "execution_count": 194,
   "metadata": {},
   "outputs": [
    {
     "data": {
      "text/html": [
       "<div>\n",
       "<style scoped>\n",
       "    .dataframe tbody tr th:only-of-type {\n",
       "        vertical-align: middle;\n",
       "    }\n",
       "\n",
       "    .dataframe tbody tr th {\n",
       "        vertical-align: top;\n",
       "    }\n",
       "\n",
       "    .dataframe thead th {\n",
       "        text-align: right;\n",
       "    }\n",
       "</style>\n",
       "<table border=\"1\" class=\"dataframe\">\n",
       "  <thead>\n",
       "    <tr style=\"text-align: right;\">\n",
       "      <th></th>\n",
       "      <th>Material</th>\n",
       "      <th>ASTM num</th>\n",
       "      <th>exponente m</th>\n",
       "      <th>diametro in</th>\n",
       "      <th>A kpsi * in^m</th>\n",
       "      <th>Diametro mm</th>\n",
       "      <th>A Mpa * mm^m</th>\n",
       "      <th>Costo relativo</th>\n",
       "      <th>diametro bajo</th>\n",
       "      <th>diametro alto</th>\n",
       "    </tr>\n",
       "  </thead>\n",
       "  <tbody>\n",
       "    <tr>\n",
       "      <th>0</th>\n",
       "      <td>Alambre de piano</td>\n",
       "      <td>A228</td>\n",
       "      <td>0.145</td>\n",
       "      <td>0.004-0.256</td>\n",
       "      <td>201</td>\n",
       "      <td>0.10-6.5</td>\n",
       "      <td>2211</td>\n",
       "      <td>2.6</td>\n",
       "      <td>0.004</td>\n",
       "      <td>0.256</td>\n",
       "    </tr>\n",
       "    <tr>\n",
       "      <th>1</th>\n",
       "      <td>Alambre T y R en aceite</td>\n",
       "      <td>A229</td>\n",
       "      <td>0.187</td>\n",
       "      <td>0.020-0.500</td>\n",
       "      <td>147</td>\n",
       "      <td>0.5-12.7</td>\n",
       "      <td>1 855</td>\n",
       "      <td>1.3</td>\n",
       "      <td>0.020</td>\n",
       "      <td>0.500</td>\n",
       "    </tr>\n",
       "    <tr>\n",
       "      <th>2</th>\n",
       "      <td>Alambre estirado duro</td>\n",
       "      <td>A227</td>\n",
       "      <td>0.190</td>\n",
       "      <td>0.028-0.500</td>\n",
       "      <td>140</td>\n",
       "      <td>0.7-12.7</td>\n",
       "      <td>1 783</td>\n",
       "      <td>1.0</td>\n",
       "      <td>0.028</td>\n",
       "      <td>0.500</td>\n",
       "    </tr>\n",
       "    <tr>\n",
       "      <th>3</th>\n",
       "      <td>Alambre al cromo- vanadio</td>\n",
       "      <td>A232</td>\n",
       "      <td>0.168</td>\n",
       "      <td>0.032-0.437</td>\n",
       "      <td>169</td>\n",
       "      <td>0.8-11.1</td>\n",
       "      <td>2 005</td>\n",
       "      <td>3.1</td>\n",
       "      <td>0.032</td>\n",
       "      <td>0.437</td>\n",
       "    </tr>\n",
       "    <tr>\n",
       "      <th>4</th>\n",
       "      <td>Alambre al cromo- silicio</td>\n",
       "      <td>A401</td>\n",
       "      <td>0.108</td>\n",
       "      <td>0.063-0.375</td>\n",
       "      <td>202</td>\n",
       "      <td>1.6-95</td>\n",
       "      <td>1974</td>\n",
       "      <td>40</td>\n",
       "      <td>0.063</td>\n",
       "      <td>0.375</td>\n",
       "    </tr>\n",
       "  </tbody>\n",
       "</table>\n",
       "</div>"
      ],
      "text/plain": [
       "                    Material ASTM num  exponente m  diametro in   \n",
       "0           Alambre de piano     A228        0.145  0.004-0.256  \\\n",
       "1    Alambre T y R en aceite     A229        0.187  0.020-0.500   \n",
       "2      Alambre estirado duro     A227        0.190  0.028-0.500   \n",
       "3  Alambre al cromo- vanadio     A232        0.168  0.032-0.437   \n",
       "4  Alambre al cromo- silicio     A401        0.108  0.063-0.375   \n",
       "\n",
       "   A kpsi * in^m Diametro mm A Mpa * mm^m Costo relativo  diametro bajo   \n",
       "0            201    0.10-6.5         2211            2.6          0.004  \\\n",
       "1            147    0.5-12.7        1 855            1.3          0.020   \n",
       "2            140    0.7-12.7        1 783            1.0          0.028   \n",
       "3            169    0.8-11.1        2 005            3.1          0.032   \n",
       "4            202      1.6-95         1974             40          0.063   \n",
       "\n",
       "   diametro alto  \n",
       "0          0.256  \n",
       "1          0.500  \n",
       "2          0.500  \n",
       "3          0.437  \n",
       "4          0.375  "
      ]
     },
     "execution_count": 194,
     "metadata": {},
     "output_type": "execute_result"
    }
   ],
   "source": [
    "table_10_4 = pd.read_csv('tables/table_10_4.csv')\n",
    "table_10_4.head()"
   ]
  },
  {
   "cell_type": "code",
   "execution_count": 195,
   "metadata": {},
   "outputs": [],
   "source": [
    "seleccion = table_10_4[\n",
    "    (table_10_4['ASTM num'] == 'A228' )\n",
    "    & (diameter < table_10_4['diametro alto']) \n",
    "    & (diameter > table_10_4['diametro bajo'])\n",
    "].values[0]"
   ]
  },
  {
   "cell_type": "code",
   "execution_count": 196,
   "metadata": {},
   "outputs": [
    {
     "name": "stdout",
     "output_type": "stream",
     "text": [
      "m = 0.145  A = 201.00 kpi * in^m\n",
      "S_ut = 276.09557 kpsi\n"
     ]
    }
   ],
   "source": [
    "m = seleccion[2]\n",
    "A = seleccion[4]\n",
    "print(f'm = {m :,.3f} ', f'A = {A :,.2f} kpi * in^m')\n",
    "\n",
    "S_ut = A / pow(diameter, m)\n",
    "# print(S_ut)\n",
    "print(f'S_ut = {S_ut :,.5f} kpsi')"
   ]
  },
  {
   "attachments": {},
   "cell_type": "markdown",
   "metadata": {},
   "source": [
    "### Encontrar la resistencia ultima al cortante y el modulo de ruptura por torsion"
   ]
  },
  {
   "cell_type": "code",
   "execution_count": 197,
   "metadata": {},
   "outputs": [
    {
     "name": "stdout",
     "output_type": "stream",
     "text": [
      "Resistencia al cortante S_sy \u001b[96m 184.98403435613903 ksi \u001b[39m\n"
     ]
    }
   ],
   "source": [
    "S_su = 0.67 * S_ut\n",
    "print('Resistencia al cortante S_sy', Fore.LIGHTCYAN_EX, S_su, 'ksi', Fore.RESET)"
   ]
  },
  {
   "cell_type": "code",
   "execution_count": 198,
   "metadata": {},
   "outputs": [
    {
     "name": "stdout",
     "output_type": "stream",
     "text": [
      "Resistencia al cortante S_sy \u001b[96m 124.24300814964562 ksi \u001b[39m\n"
     ]
    }
   ],
   "source": [
    "S_sy = porcentaje_sut * S_ut\n",
    "print('Resistencia al cortante S_sy', Fore.LIGHTCYAN_EX, S_sy, 'ksi', Fore.RESET)"
   ]
  },
  {
   "attachments": {},
   "cell_type": "markdown",
   "metadata": {},
   "source": [
    "### Método Sines"
   ]
  },
  {
   "cell_type": "code",
   "execution_count": 199,
   "metadata": {},
   "outputs": [],
   "source": [
    "S_se = 35e3 # psi"
   ]
  },
  {
   "attachments": {},
   "cell_type": "markdown",
   "metadata": {},
   "source": [
    "### Calculo de C  de 5 a 12"
   ]
  },
  {
   "cell_type": "code",
   "execution_count": 200,
   "metadata": {},
   "outputs": [
    {
     "name": "stdout",
     "output_type": "stream",
     "text": [
      "alfa \u001b[95m 23333.333333333332 psi \u001b[39m\n"
     ]
    }
   ],
   "source": [
    "alfa  = S_se / nf\n",
    "print('alfa', Fore.LIGHTMAGENTA_EX, alfa, 'psi', Fore.RESET)"
   ]
  },
  {
   "cell_type": "code",
   "execution_count": 201,
   "metadata": {},
   "outputs": [
    {
     "name": "stdout",
     "output_type": "stream",
     "text": [
      "beta =  \u001b[93m 1522.5281545780801 psi \u001b[39m\n"
     ]
    }
   ],
   "source": [
    "beta = 8 * F_a / (np.pi * pow(diameter, 2))\n",
    "print('beta = ', Fore.LIGHTYELLOW_EX, beta, 'psi', Fore.RESET)"
   ]
  },
  {
   "cell_type": "code",
   "execution_count": 202,
   "metadata": {},
   "outputs": [
    {
     "name": "stdout",
     "output_type": "stream",
     "text": [
      "c = \u001b[92m 14.004657239753158 \u001b[39m\n"
     ]
    }
   ],
   "source": [
    "c = c_func(alfa, beta)\n",
    "print('c =', Fore.LIGHTGREEN_EX, c, Fore.RESET)"
   ]
  },
  {
   "attachments": {},
   "cell_type": "markdown",
   "metadata": {},
   "source": [
    "### Calculo del diámetro medio"
   ]
  },
  {
   "cell_type": "code",
   "execution_count": 203,
   "metadata": {},
   "outputs": [
    {
     "name": "stdout",
     "output_type": "stream",
     "text": [
      "Diámetro medio \u001b[96m 1.5685216108523536 in \u001b[39m\n"
     ]
    }
   ],
   "source": [
    "Dm = c * diameter\n",
    "print('Diámetro medio', Fore.LIGHTCYAN_EX,  Dm, 'in', Fore.RESET)"
   ]
  },
  {
   "attachments": {},
   "cell_type": "markdown",
   "metadata": {},
   "source": [
    "### Encontrar la fuerza solida"
   ]
  },
  {
   "cell_type": "code",
   "execution_count": 204,
   "metadata": {},
   "outputs": [
    {
     "name": "stdout",
     "output_type": "stream",
     "text": [
      "Fuerza solida\n"
     ]
    }
   ],
   "source": [
    "F_s = (1 + eta) * F_max\n",
    "print('Fuerza solida')"
   ]
  },
  {
   "attachments": {},
   "cell_type": "markdown",
   "metadata": {},
   "source": [
    "### Encontrar numero de espiras activas"
   ]
  },
  {
   "cell_type": "code",
   "execution_count": 205,
   "metadata": {},
   "outputs": [
    {
     "name": "stdout",
     "output_type": "stream",
     "text": [
      "Numero de espiras activas:  \u001b[96m 5.98891914949793 \u001b[39m\n"
     ]
    }
   ],
   "source": [
    "Na = na_func(diameter, G*1E6, Dm, k)\n",
    "print('Numero de espiras activas: ', Fore.LIGHTCYAN_EX, Na, Fore.RESET)"
   ]
  },
  {
   "attachments": {},
   "cell_type": "markdown",
   "metadata": {},
   "source": [
    "### Calculo de longitud solida"
   ]
  },
  {
   "cell_type": "code",
   "execution_count": 206,
   "metadata": {},
   "outputs": [
    {
     "name": "stdout",
     "output_type": "stream",
     "text": [
      "Longitud solida L s \u001b[96m 0.6707589447437682 in \u001b[39m\n"
     ]
    }
   ],
   "source": [
    "L_s = (Na) * diameter\n",
    "print('Longitud solida L s', Fore.LIGHTCYAN_EX, L_s , 'in', Fore.RESET)"
   ]
  },
  {
   "attachments": {},
   "cell_type": "markdown",
   "metadata": {},
   "source": [
    "### Calculo de la longitud libre"
   ]
  },
  {
   "cell_type": "code",
   "execution_count": 207,
   "metadata": {},
   "outputs": [
    {
     "name": "stdout",
     "output_type": "stream",
     "text": [
      "longitud libre \u001b[92m 2.970758944743768 in \u001b[39m\n"
     ]
    }
   ],
   "source": [
    "L_f = F_s/k + L_s\n",
    "print('longitud libre', Fore.LIGHTGREEN_EX, L_f, 'in', Fore.RESET)"
   ]
  },
  {
   "attachments": {},
   "cell_type": "markdown",
   "metadata": {},
   "source": [
    "### Cálculos tipos"
   ]
  },
  {
   "cell_type": "code",
   "execution_count": 210,
   "metadata": {},
   "outputs": [
    {
     "name": "stdout",
     "output_type": "stream",
     "text": [
      "Diámetro menor Di \u001b[96m 1.4565216108523535 in \u001b[39m\n",
      "Diámetro mayor De \u001b[96m 1.6805216108523537 in \u001b[39m\n"
     ]
    }
   ],
   "source": [
    "Di = Dm - diameter\n",
    "print('Diámetro menor Di', Fore.LIGHTCYAN_EX, Di, 'in', Fore.RESET)\n",
    "\n",
    "De = Dm + diameter\n",
    "print('Diámetro mayor De', Fore.LIGHTCYAN_EX, De, 'in', Fore.RESET)"
   ]
  },
  {
   "attachments": {},
   "cell_type": "markdown",
   "metadata": {},
   "source": [
    "### Calculo de la deflection"
   ]
  },
  {
   "cell_type": "code",
   "execution_count": null,
   "metadata": {},
   "outputs": [],
   "source": [
    "y_s = L_f - L_s\n",
    "print('delta')"
   ]
  },
  {
   "attachments": {},
   "cell_type": "markdown",
   "metadata": {},
   "source": [
    "### Calculo de longitud critica"
   ]
  },
  {
   "cell_type": "code",
   "execution_count": 214,
   "metadata": {},
   "outputs": [
    {
     "name": "stdout",
     "output_type": "stream",
     "text": [
      "L_f \u001b[96m 2.970758944743768 \u001b[39m 5.26 * D_m \u001b[96m 8.25042367308338 \u001b[39m True\n"
     ]
    }
   ],
   "source": [
    "# relación de pandeo\n",
    "pandeo_relation = 5.26 * Dm\n",
    "print('L_f', Fore.LIGHTCYAN_EX, L_f, Fore.RESET, '5.26 * D_m', Fore.LIGHTCYAN_EX, pandeo_relation, Fore.RESET, L_f < pandeo_relation,)\n"
   ]
  },
  {
   "attachments": {},
   "cell_type": "markdown",
   "metadata": {},
   "source": [
    "### Encontrar k_b"
   ]
  },
  {
   "cell_type": "code",
   "execution_count": 209,
   "metadata": {},
   "outputs": [
    {
     "name": "stdout",
     "output_type": "stream",
     "text": [
      "indice de resorte k_b \u001b[96m 1.094306474878205 \u001b[39m\n"
     ]
    }
   ],
   "source": [
    "k_b = k_b_func(c)\n",
    "print('indice de resorte k_b', Fore.LIGHTCYAN_EX, k_b, Fore.RESET)"
   ]
  },
  {
   "cell_type": "code",
   "execution_count": null,
   "metadata": {},
   "outputs": [],
   "source": []
  }
 ],
 "metadata": {
  "kernelspec": {
   "display_name": "design",
   "language": "python",
   "name": "python3"
  },
  "language_info": {
   "codemirror_mode": {
    "name": "ipython",
    "version": 3
   },
   "file_extension": ".py",
   "mimetype": "text/x-python",
   "name": "python",
   "nbconvert_exporter": "python",
   "pygments_lexer": "ipython3",
   "version": "3.10.11"
  },
  "orig_nbformat": 4
 },
 "nbformat": 4,
 "nbformat_minor": 2
}
