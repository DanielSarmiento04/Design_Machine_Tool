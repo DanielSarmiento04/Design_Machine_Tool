{
 "cells": [
  {
   "cell_type": "code",
   "execution_count": 109,
   "metadata": {},
   "outputs": [],
   "source": [
    "import numpy as np\n",
    "import pandas as pd\n",
    "\n",
    "from sympy import *"
   ]
  },
  {
   "cell_type": "code",
   "execution_count": 110,
   "metadata": {},
   "outputs": [],
   "source": [
    "F_1 = 1.5 # lb\n",
    "F_0 = 14 # lb\n",
    "\n",
    "L_0 = 1.5 # in\n",
    "L_1 = 2 # in"
   ]
  },
  {
   "cell_type": "code",
   "execution_count": 111,
   "metadata": {},
   "outputs": [
    {
     "name": "stdout",
     "output_type": "stream",
     "text": [
      "k = 25.0\n"
     ]
    }
   ],
   "source": [
    "k = (F_0 - F_1) / (L_1 - L_0)\n",
    "print(f'{k = }')"
   ]
  },
  {
   "cell_type": "code",
   "execution_count": 112,
   "metadata": {},
   "outputs": [
    {
     "name": "stdout",
     "output_type": "stream",
     "text": [
      "L_f = 2.06000000000000\n"
     ]
    }
   ],
   "source": [
    "L_f = Symbol('L_f')\n",
    "eqt = Eq(k, (F_0 ) / (L_f - L_0))\n",
    "L_f = solve(eqt)[0]\n",
    "print(f'{L_f = }')"
   ]
  },
  {
   "cell_type": "code",
   "execution_count": 113,
   "metadata": {},
   "outputs": [
    {
     "name": "stdout",
     "output_type": "stream",
     "text": [
      "d = 0.00499703124276558\n"
     ]
    }
   ],
   "source": [
    "d = Symbol('d')\n",
    "tau = 120e6 # psi\n",
    "\n",
    "D_m = 0.42 # in\n",
    "eqt = Eq(tau, (F_0 * D_m * 8) / (np.pi * pow(d, 3)))\n",
    "\n",
    "d = solve(eqt)[0]\n",
    "\n",
    "print(f'{d = }')"
   ]
  },
  {
   "cell_type": "code",
   "execution_count": 114,
   "metadata": {},
   "outputs": [],
   "source": [
    "d = 0.0625"
   ]
  },
  {
   "cell_type": "code",
   "execution_count": 115,
   "metadata": {},
   "outputs": [
    {
     "name": "stdout",
     "output_type": "stream",
     "text": [
      "c = 6.72\n"
     ]
    }
   ],
   "source": [
    "c = D_m / d\n",
    "print(f'{c = }')"
   ]
  },
  {
   "cell_type": "code",
   "execution_count": 116,
   "metadata": {},
   "outputs": [
    {
     "name": "stdout",
     "output_type": "stream",
     "text": [
      "K_b = 1.2093802345058626\n"
     ]
    }
   ],
   "source": [
    "K_b = (4 * c + 2) / (4 * c - 3)\n",
    "print(f'{K_b = }')"
   ]
  },
  {
   "cell_type": "code",
   "execution_count": 117,
   "metadata": {},
   "outputs": [
    {
     "name": "stdout",
     "output_type": "stream",
     "text": [
      "tau_real = 69303.60591186587\n",
      "N_a = 10.2977466408190\n"
     ]
    }
   ],
   "source": [
    "\n",
    "tau_real = 1.13 * (8 * F_0 * D_m) / (np.pi * pow(d, 3))\n",
    "print(f'{tau_real = }')\n",
    "\n",
    "N_a = Symbol('N_a')\n",
    "\n",
    "eqt = Eq(k, (10e6/8) * (pow(d, 4)) / ((pow(D_m, 3) * N_a)))\n",
    "N_a = solve(eqt)[0]\n",
    "print(f'{N_a = }')"
   ]
  },
  {
   "cell_type": "code",
   "execution_count": 118,
   "metadata": {},
   "outputs": [
    {
     "name": "stdout",
     "output_type": "stream",
     "text": [
      "L_s = 0.643609165051189\n",
      "F_s = 35.4097708737201\n"
     ]
    }
   ],
   "source": [
    "L_s = N_a * d\n",
    "print(f'{L_s = }')\n",
    "\n",
    "F_s = Symbol('F_s')\n",
    "eqt = Eq(k, (F_s - F_0) / (L_0 - L_s))\n",
    "F_s = solve(eqt)[0]\n",
    "print(f'{F_s = }')"
   ]
  },
  {
   "cell_type": "code",
   "execution_count": 119,
   "metadata": {},
   "outputs": [
    {
     "name": "stdout",
     "output_type": "stream",
     "text": [
      "tau_solido = 175287.486147269\n"
     ]
    }
   ],
   "source": [
    "tau_solido = tau_real * (F_s / F_0)\n",
    "print(f'{tau_solido = }')"
   ]
  },
  {
   "cell_type": "code",
   "execution_count": 120,
   "metadata": {},
   "outputs": [
    {
     "name": "stdout",
     "output_type": "stream",
     "text": [
      "S_ut = 253330.93269668752\n"
     ]
    }
   ],
   "source": [
    "A, m = 169, 0.146\n",
    "\n",
    "S_ut =  A / pow(d, m) * 1e3 # psi\n",
    "print(f'{S_ut = }')"
   ]
  },
  {
   "cell_type": "code",
   "execution_count": 121,
   "metadata": {},
   "outputs": [
    {
     "name": "stdout",
     "output_type": "stream",
     "text": [
      "S_sy = 113998.91971350939\n",
      "N_sy = 0.650354011111394\n"
     ]
    }
   ],
   "source": [
    "S_sy = 0.45 * S_ut\n",
    "print(f'{S_sy = }')\n",
    "\n",
    "N_sy = S_sy / tau_solido\n",
    "print(f'{N_sy = }')"
   ]
  },
  {
   "cell_type": "code",
   "execution_count": 122,
   "metadata": {},
   "outputs": [
    {
     "data": {
      "text/plain": [
       "3.419"
      ]
     },
     "execution_count": 122,
     "metadata": {},
     "output_type": "execute_result"
    }
   ],
   "source": [
    "5.26 * 0.65"
   ]
  },
  {
   "cell_type": "code",
   "execution_count": 123,
   "metadata": {},
   "outputs": [
    {
     "name": "stdout",
     "output_type": "stream",
     "text": [
      "cc = 0.0831629350400000\n"
     ]
    }
   ],
   "source": [
    "cc = (L_0 - L_s) / N_a\n",
    "print(f'{cc = }')"
   ]
  }
 ],
 "metadata": {
  "kernelspec": {
   "display_name": "design",
   "language": "python",
   "name": "python3"
  },
  "language_info": {
   "codemirror_mode": {
    "name": "ipython",
    "version": 3
   },
   "file_extension": ".py",
   "mimetype": "text/x-python",
   "name": "python",
   "nbconvert_exporter": "python",
   "pygments_lexer": "ipython3",
   "version": "3.10.11"
  },
  "orig_nbformat": 4
 },
 "nbformat": 4,
 "nbformat_minor": 2
}
