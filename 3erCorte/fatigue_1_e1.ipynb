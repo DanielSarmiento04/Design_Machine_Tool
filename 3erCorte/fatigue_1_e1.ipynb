{
 "cells": [
  {
   "attachments": {},
   "cell_type": "markdown",
   "metadata": {},
   "source": [
    "# Enunciado \n",
    "\n",
    "Un resorte helicoidal de compresión fabricado, hecho de alambre de piano, tiene un tamaño de alambre de 0.092 in, un diámetro exterior de la espira de 9/16 in, una longitud libre de 4 3/8 in, 21 espiras activas y ambos extremos a escuadra y esmerilados. El resorte está sin granallar, habrá de ensamblarse con una precarga de 5 lb y operará sometido a una carga máxima de 35 lb durante el servicio.\n",
    "\n",
    "1. Calcule el factor de seguridad que protege contra la falla por fatiga, mediante un lugar geométrico de fatiga por torsión de Gerber y datos de Zimmerli.\n",
    "\n",
    "2. Repita el inciso *1* usando el lugar geométrico de fatiga por torsión de Sines (la componente del esfuerzo constante no tiene efecto) y los datos de Zimmerli.\n",
    "\n",
    "3. Repita utilizando el lugar geométrico de falla por torsión de Goodman y datos de Zimmerli\n",
    "\n",
    "4. Repita utilizando el lugar geométrico de falla de Whal, con datos de Zimmerli.\n",
    "5. Determine la frecuencia crítica del resorte"
   ]
  },
  {
   "attachments": {},
   "cell_type": "markdown",
   "metadata": {},
   "source": [
    "### Import necessary libraries"
   ]
  },
  {
   "cell_type": "code",
   "execution_count": 78,
   "metadata": {},
   "outputs": [],
   "source": [
    "import pandas as pd\n",
    "from sympy import Eq, solve, Symbol\n",
    "import numpy as np\n",
    "from colorama import Fore"
   ]
  },
  {
   "attachments": {},
   "cell_type": "markdown",
   "metadata": {},
   "source": [
    "### Establecer datos conocidos"
   ]
  },
  {
   "cell_type": "code",
   "execution_count": 103,
   "metadata": {},
   "outputs": [],
   "source": [
    "d = 0.092 # in\n",
    "De = 9 / 16  # in\n",
    "L_f = (4 * 8 + 3) / 8\n",
    "F_max = 35 #lb\n",
    "F_min = 5 #lb\n",
    "Na = 21\n"
   ]
  },
  {
   "attachments": {},
   "cell_type": "markdown",
   "metadata": {},
   "source": [
    "### Selección del material"
   ]
  },
  {
   "cell_type": "code",
   "execution_count": 80,
   "metadata": {},
   "outputs": [
    {
     "data": {
      "text/html": [
       "<div>\n",
       "<style scoped>\n",
       "    .dataframe tbody tr th:only-of-type {\n",
       "        vertical-align: middle;\n",
       "    }\n",
       "\n",
       "    .dataframe tbody tr th {\n",
       "        vertical-align: top;\n",
       "    }\n",
       "\n",
       "    .dataframe thead th {\n",
       "        text-align: right;\n",
       "    }\n",
       "</style>\n",
       "<table border=\"1\" class=\"dataframe\">\n",
       "  <thead>\n",
       "    <tr style=\"text-align: right;\">\n",
       "      <th></th>\n",
       "      <th>Material</th>\n",
       "      <th>Limite tension</th>\n",
       "      <th>limite torsion</th>\n",
       "      <th>Diámetro in</th>\n",
       "      <th>E M-psi</th>\n",
       "      <th>E GPa</th>\n",
       "      <th>G M-psi</th>\n",
       "      <th>G GPa</th>\n",
       "    </tr>\n",
       "  </thead>\n",
       "  <tbody>\n",
       "    <tr>\n",
       "      <th>0</th>\n",
       "      <td>Alambre de piano A228</td>\n",
       "      <td>65-75</td>\n",
       "      <td>45-60</td>\n",
       "      <td>&lt;0.032</td>\n",
       "      <td>29.5</td>\n",
       "      <td>203.4</td>\n",
       "      <td>12.00</td>\n",
       "      <td>82.7</td>\n",
       "    </tr>\n",
       "    <tr>\n",
       "      <th>1</th>\n",
       "      <td>Alambre de piano A228</td>\n",
       "      <td>65-75</td>\n",
       "      <td>45-60</td>\n",
       "      <td>0.033-0.063</td>\n",
       "      <td>29.0</td>\n",
       "      <td>200.0</td>\n",
       "      <td>11.85</td>\n",
       "      <td>81.7</td>\n",
       "    </tr>\n",
       "    <tr>\n",
       "      <th>2</th>\n",
       "      <td>Alambre de piano A228</td>\n",
       "      <td>65-75</td>\n",
       "      <td>45-60</td>\n",
       "      <td>0.064-0.125</td>\n",
       "      <td>28.5</td>\n",
       "      <td>196.5</td>\n",
       "      <td>11.75</td>\n",
       "      <td>81.0</td>\n",
       "    </tr>\n",
       "    <tr>\n",
       "      <th>3</th>\n",
       "      <td>Alambre de piano A228</td>\n",
       "      <td>65-75</td>\n",
       "      <td>45-60</td>\n",
       "      <td>&gt;0.125</td>\n",
       "      <td>28.0</td>\n",
       "      <td>193.0</td>\n",
       "      <td>11.60</td>\n",
       "      <td>80.0</td>\n",
       "    </tr>\n",
       "    <tr>\n",
       "      <th>4</th>\n",
       "      <td>Resorte estirado duro A227</td>\n",
       "      <td>60-70</td>\n",
       "      <td>45-55</td>\n",
       "      <td>&lt;0.032</td>\n",
       "      <td>28.8</td>\n",
       "      <td>198.6</td>\n",
       "      <td>11.70</td>\n",
       "      <td>80.7</td>\n",
       "    </tr>\n",
       "  </tbody>\n",
       "</table>\n",
       "</div>"
      ],
      "text/plain": [
       "                     Material Limite tension limite torsion  Diámetro in   \n",
       "0       Alambre de piano A228          65-75          45-60       <0.032  \\\n",
       "1       Alambre de piano A228          65-75          45-60  0.033-0.063   \n",
       "2       Alambre de piano A228          65-75          45-60  0.064-0.125   \n",
       "3       Alambre de piano A228          65-75          45-60       >0.125   \n",
       "4  Resorte estirado duro A227          60-70          45-55       <0.032   \n",
       "\n",
       "   E M-psi  E GPa  G M-psi  G GPa  \n",
       "0     29.5  203.4    12.00   82.7  \n",
       "1     29.0  200.0    11.85   81.7  \n",
       "2     28.5  196.5    11.75   81.0  \n",
       "3     28.0  193.0    11.60   80.0  \n",
       "4     28.8  198.6    11.70   80.7  "
      ]
     },
     "execution_count": 80,
     "metadata": {},
     "output_type": "execute_result"
    }
   ],
   "source": [
    "table_10_5 = pd.read_csv('tables/table_10_5.csv')\n",
    "table_10_5.head()"
   ]
  },
  {
   "cell_type": "code",
   "execution_count": 81,
   "metadata": {},
   "outputs": [
    {
     "data": {
      "text/plain": [
       "(array(['65-75', '45-60', '0.064-0.125', 28.5, 196.5, 11.75, 81.0],\n",
       "       dtype=object),\n",
       " 0.45,\n",
       " 11.75)"
      ]
     },
     "execution_count": 81,
     "metadata": {},
     "output_type": "execute_result"
    }
   ],
   "source": [
    "# Search Cromo-vanadio A231\t\n",
    "count = 2\n",
    "material  = table_10_5[table_10_5['Material'] == 'Alambre de piano A228'].\\\n",
    "    values[count][1:]\n",
    "G = material[-2]\n",
    "porcentaje_sut = int(material[1].split('-')[0])/100\n",
    "material, porcentaje_sut, G"
   ]
  },
  {
   "attachments": {},
   "cell_type": "markdown",
   "metadata": {},
   "source": [
    "### Encontrar c"
   ]
  },
  {
   "cell_type": "code",
   "execution_count": 82,
   "metadata": {},
   "outputs": [
    {
     "name": "stdout",
     "output_type": "stream",
     "text": [
      "\u001b[96mDm =  0.47050000000000003 in \u001b[39m\n",
      "\u001b[92mc =  5.114130434782609 \u001b[39m\n"
     ]
    }
   ],
   "source": [
    "Dm = De - d # in\n",
    "print(Fore.LIGHTCYAN_EX + 'Dm = ', Dm, 'in', Fore.RESET)\n",
    "\n",
    "c = Dm/d \n",
    "print(Fore.LIGHTGREEN_EX + 'c = ', c, Fore.RESET)\n"
   ]
  },
  {
   "attachments": {},
   "cell_type": "markdown",
   "metadata": {},
   "source": [
    "### Encontrar el valor de K_b"
   ]
  },
  {
   "cell_type": "code",
   "execution_count": 83,
   "metadata": {},
   "outputs": [
    {
     "name": "stdout",
     "output_type": "stream",
     "text": [
      "\u001b[97mk_b =  1.286425902864259 \u001b[39m\n"
     ]
    }
   ],
   "source": [
    "k_b = (4 * c + 2) / (4 * c - 3)\n",
    "print(Fore.LIGHTWHITE_EX + 'k_b = ', k_b, Fore.RESET)"
   ]
  },
  {
   "attachments": {},
   "cell_type": "markdown",
   "metadata": {},
   "source": [
    "### Encontrar las fuerzas estándares"
   ]
  },
  {
   "cell_type": "code",
   "execution_count": 84,
   "metadata": {},
   "outputs": [
    {
     "name": "stdout",
     "output_type": "stream",
     "text": [
      "F_a\u001b[94m =  15.0 lb \u001b[39m\n",
      "F_m\u001b[94m =  20.0 lb \u001b[39m\n"
     ]
    }
   ],
   "source": [
    "F_a = (F_max - F_min) / 2\n",
    "\n",
    "F_m = (F_max + F_min) /2\n",
    "\n",
    "print('F_a' + Fore.LIGHTBLUE_EX + ' = ', F_a, 'lb', Fore.RESET)\n",
    "print('F_m' + Fore.LIGHTBLUE_EX + ' = ', F_m, 'lb', Fore.RESET)"
   ]
  },
  {
   "attachments": {},
   "cell_type": "markdown",
   "metadata": {},
   "source": [
    "### Encontrar los esfuerzos alternates y medio"
   ]
  },
  {
   "cell_type": "code",
   "execution_count": 85,
   "metadata": {},
   "outputs": [
    {
     "name": "stdout",
     "output_type": "stream",
     "text": [
      "tau_a\u001b[94m =  29690.1434086965 psi \u001b[39m\n",
      "tau_m\u001b[94m =  39586.857878261995 psi \u001b[39m\n"
     ]
    }
   ],
   "source": [
    "tau = lambda K_b, F, D_m, d : 8 * K_b * F * D_m / (np.pi * pow(d,3))\n",
    "\n",
    "tau_a = tau(k_b, F_a, Dm, d)\n",
    "tau_m = tau(k_b, F_m, Dm, d)\n",
    "\n",
    "print('tau_a' + Fore.LIGHTBLUE_EX + ' = ', tau_a, 'psi', Fore.RESET)\n",
    "print('tau_m' + Fore.LIGHTBLUE_EX + ' = ', tau_m, 'psi', Fore.RESET)"
   ]
  },
  {
   "attachments": {},
   "cell_type": "markdown",
   "metadata": {},
   "source": [
    "### Encontrar la resistencia ultima a la tracción"
   ]
  },
  {
   "cell_type": "code",
   "execution_count": 86,
   "metadata": {},
   "outputs": [
    {
     "data": {
      "text/html": [
       "<div>\n",
       "<style scoped>\n",
       "    .dataframe tbody tr th:only-of-type {\n",
       "        vertical-align: middle;\n",
       "    }\n",
       "\n",
       "    .dataframe tbody tr th {\n",
       "        vertical-align: top;\n",
       "    }\n",
       "\n",
       "    .dataframe thead th {\n",
       "        text-align: right;\n",
       "    }\n",
       "</style>\n",
       "<table border=\"1\" class=\"dataframe\">\n",
       "  <thead>\n",
       "    <tr style=\"text-align: right;\">\n",
       "      <th></th>\n",
       "      <th>Material</th>\n",
       "      <th>ASTM num</th>\n",
       "      <th>exponente m</th>\n",
       "      <th>diametro in</th>\n",
       "      <th>A kpsi * in^m</th>\n",
       "      <th>Diametro mm</th>\n",
       "      <th>A Mpa * mm^m</th>\n",
       "      <th>Costo relativo</th>\n",
       "      <th>diametro bajo</th>\n",
       "      <th>diametro alto</th>\n",
       "    </tr>\n",
       "  </thead>\n",
       "  <tbody>\n",
       "    <tr>\n",
       "      <th>0</th>\n",
       "      <td>Alambre de piano</td>\n",
       "      <td>A228</td>\n",
       "      <td>0.145</td>\n",
       "      <td>0.004-0.256</td>\n",
       "      <td>201</td>\n",
       "      <td>0.10-6.5</td>\n",
       "      <td>2211</td>\n",
       "      <td>2.6</td>\n",
       "      <td>0.004</td>\n",
       "      <td>0.256</td>\n",
       "    </tr>\n",
       "    <tr>\n",
       "      <th>1</th>\n",
       "      <td>Alambre T y R en aceite</td>\n",
       "      <td>A229</td>\n",
       "      <td>0.187</td>\n",
       "      <td>0.020-0.500</td>\n",
       "      <td>147</td>\n",
       "      <td>0.5-12.7</td>\n",
       "      <td>1 855</td>\n",
       "      <td>1.3</td>\n",
       "      <td>0.020</td>\n",
       "      <td>0.500</td>\n",
       "    </tr>\n",
       "    <tr>\n",
       "      <th>2</th>\n",
       "      <td>Alambre estirado duro</td>\n",
       "      <td>A227</td>\n",
       "      <td>0.190</td>\n",
       "      <td>0.028-0.500</td>\n",
       "      <td>140</td>\n",
       "      <td>0.7-12.7</td>\n",
       "      <td>1 783</td>\n",
       "      <td>1.0</td>\n",
       "      <td>0.028</td>\n",
       "      <td>0.500</td>\n",
       "    </tr>\n",
       "    <tr>\n",
       "      <th>3</th>\n",
       "      <td>Alambre al cromo- vanadio</td>\n",
       "      <td>A232</td>\n",
       "      <td>0.168</td>\n",
       "      <td>0.032-0.437</td>\n",
       "      <td>169</td>\n",
       "      <td>0.8-11.1</td>\n",
       "      <td>2 005</td>\n",
       "      <td>3.1</td>\n",
       "      <td>0.032</td>\n",
       "      <td>0.437</td>\n",
       "    </tr>\n",
       "    <tr>\n",
       "      <th>4</th>\n",
       "      <td>Alambre al cromo- silicio</td>\n",
       "      <td>A401</td>\n",
       "      <td>0.108</td>\n",
       "      <td>0.063-0.375</td>\n",
       "      <td>202</td>\n",
       "      <td>1.6-95</td>\n",
       "      <td>1974</td>\n",
       "      <td>40</td>\n",
       "      <td>0.063</td>\n",
       "      <td>0.375</td>\n",
       "    </tr>\n",
       "  </tbody>\n",
       "</table>\n",
       "</div>"
      ],
      "text/plain": [
       "                    Material ASTM num  exponente m  diametro in   \n",
       "0           Alambre de piano     A228        0.145  0.004-0.256  \\\n",
       "1    Alambre T y R en aceite     A229        0.187  0.020-0.500   \n",
       "2      Alambre estirado duro     A227        0.190  0.028-0.500   \n",
       "3  Alambre al cromo- vanadio     A232        0.168  0.032-0.437   \n",
       "4  Alambre al cromo- silicio     A401        0.108  0.063-0.375   \n",
       "\n",
       "   A kpsi * in^m Diametro mm A Mpa * mm^m Costo relativo  diametro bajo   \n",
       "0            201    0.10-6.5         2211            2.6          0.004  \\\n",
       "1            147    0.5-12.7        1 855            1.3          0.020   \n",
       "2            140    0.7-12.7        1 783            1.0          0.028   \n",
       "3            169    0.8-11.1        2 005            3.1          0.032   \n",
       "4            202      1.6-95         1974             40          0.063   \n",
       "\n",
       "   diametro alto  \n",
       "0          0.256  \n",
       "1          0.500  \n",
       "2          0.500  \n",
       "3          0.437  \n",
       "4          0.375  "
      ]
     },
     "execution_count": 86,
     "metadata": {},
     "output_type": "execute_result"
    }
   ],
   "source": [
    "table_10_4 = pd.read_csv('tables/table_10_4.csv')\n",
    "table_10_4.head()"
   ]
  },
  {
   "cell_type": "code",
   "execution_count": 87,
   "metadata": {},
   "outputs": [],
   "source": [
    "seleccion = table_10_4[\n",
    "    (table_10_4['ASTM num'] == 'A228' )\n",
    "    & (d < table_10_4['diametro alto']) \n",
    "    & (d > table_10_4['diametro bajo'])\n",
    "].values[0]"
   ]
  },
  {
   "cell_type": "code",
   "execution_count": 88,
   "metadata": {},
   "outputs": [
    {
     "name": "stdout",
     "output_type": "stream",
     "text": [
      "m = 0.145  A = 201.00 kpi * in^m\n",
      "S_ut = 284.08403 kpsi\n"
     ]
    }
   ],
   "source": [
    "m = seleccion[2]\n",
    "A = seleccion[4]\n",
    "print(f'm = {m :,.3f} ', f'A = {A :,.2f} kpi * in^m')\n",
    "\n",
    "S_ut = A / pow(d, m)\n",
    "print(f'S_ut = {S_ut :,.5f} kpsi')"
   ]
  },
  {
   "attachments": {},
   "cell_type": "markdown",
   "metadata": {},
   "source": [
    "### Encontrar la resistencia ultima al cortante"
   ]
  },
  {
   "cell_type": "code",
   "execution_count": 89,
   "metadata": {},
   "outputs": [
    {
     "name": "stdout",
     "output_type": "stream",
     "text": [
      "S_su = 190.33630 kpsi\n"
     ]
    }
   ],
   "source": [
    "S_su = 0.67 * S_ut\n",
    "print(f'S_su = {S_su :,.5f} kpsi')"
   ]
  },
  {
   "attachments": {},
   "cell_type": "markdown",
   "metadata": {},
   "source": [
    "### Encontrar la pendiente r"
   ]
  },
  {
   "cell_type": "code",
   "execution_count": 90,
   "metadata": {},
   "outputs": [
    {
     "name": "stdout",
     "output_type": "stream",
     "text": [
      "r = 0.750\n"
     ]
    }
   ],
   "source": [
    "r = tau_a / tau_m\n",
    "print(f'r = {r :,.3f}')"
   ]
  },
  {
   "attachments": {},
   "cell_type": "markdown",
   "metadata": {},
   "source": [
    "### Establecer resistencia constructiva"
   ]
  },
  {
   "cell_type": "code",
   "execution_count": 91,
   "metadata": {},
   "outputs": [
    {
     "name": "stdout",
     "output_type": "stream",
     "text": [
      "S_se\u001b[95m 38.18872676946134 kpsi \u001b[39m\n"
     ]
    }
   ],
   "source": [
    "S_se = 35 / (1 - pow(55 / S_su, 2))\n",
    "print('S_se' + Fore.LIGHTMAGENTA_EX, S_se, 'kpsi', Fore.RESET)"
   ]
  },
  {
   "cell_type": "code",
   "execution_count": 92,
   "metadata": {},
   "outputs": [
    {
     "name": "stdout",
     "output_type": "stream",
     "text": [
      "S_sa = \u001b[96m 35788.47992618446 psi \u001b[39m\n"
     ]
    }
   ],
   "source": [
    "S_sa = (pow(r * S_su , 2) /(2 * S_se)) * \\\n",
    "    (-1 + pow( 1 + pow(2 * S_se/ (r * S_su) ,2), 1/2)) * 1e3\n",
    "\n",
    "print('S_sa = ' + Fore.LIGHTCYAN_EX , S_sa, 'psi', Fore.RESET)"
   ]
  },
  {
   "cell_type": "code",
   "execution_count": 93,
   "metadata": {},
   "outputs": [
    {
     "name": "stdout",
     "output_type": "stream",
     "text": [
      "factor de seguridad n_f = \u001b[93m 1.205399362123044 \u001b[39m\n"
     ]
    }
   ],
   "source": [
    "n_f = S_sa / tau_a\n",
    "\n",
    "print('factor de seguridad n_f = ' + Fore.LIGHTYELLOW_EX , n_f, Fore.RESET)"
   ]
  },
  {
   "attachments": {},
   "cell_type": "markdown",
   "metadata": {},
   "source": [
    "### método de Sines"
   ]
  },
  {
   "cell_type": "code",
   "execution_count": 94,
   "metadata": {},
   "outputs": [
    {
     "name": "stdout",
     "output_type": "stream",
     "text": [
      "factor de seguridad n_f = \u001b[93m 1.1788424029554603 \u001b[39m\n"
     ]
    }
   ],
   "source": [
    "S_sa = 35e3 #psi\n",
    "n_f = S_sa / tau_a\n",
    "\n",
    "print('factor de seguridad n_f = ' + Fore.LIGHTYELLOW_EX , n_f, Fore.RESET)"
   ]
  },
  {
   "attachments": {},
   "cell_type": "markdown",
   "metadata": {},
   "source": [
    "### método de goodman"
   ]
  },
  {
   "cell_type": "code",
   "execution_count": 96,
   "metadata": {},
   "outputs": [
    {
     "name": "stdout",
     "output_type": "stream",
     "text": [
      "factor de seguridad n_f = \u001b[93m 1.2328178233170104 \u001b[39m\n"
     ]
    }
   ],
   "source": [
    "S_se = 35 / (1 - 55/S_su)\n",
    "\n",
    "S_sa = 1 / (1/S_se + 1/ (r*S_su)) * 1e3\n",
    "n_f = S_sa / tau_a\n",
    "\n",
    "print('factor de seguridad n_f = ' + Fore.LIGHTYELLOW_EX , n_f, Fore.RESET)"
   ]
  },
  {
   "attachments": {},
   "cell_type": "markdown",
   "metadata": {},
   "source": [
    "### Encontrar el valor del indice del resorte"
   ]
  },
  {
   "cell_type": "code",
   "execution_count": 106,
   "metadata": {},
   "outputs": [
    {
     "name": "stdout",
     "output_type": "stream",
     "text": [
      "indice del resorte \u001b[93m 48.106195398879855 Lb/in2 \u001b[39m\n"
     ]
    }
   ],
   "source": [
    "k = pow(d, 4) * G /(8 * pow(Dm, 3) * Na) * 1e6\n",
    "print('indice del resorte', Fore.LIGHTYELLOW_EX, k, 'Lb/in2', Fore.RESET)"
   ]
  },
  {
   "attachments": {},
   "cell_type": "markdown",
   "metadata": {},
   "source": [
    "### Encontrar el valor del peso"
   ]
  },
  {
   "cell_type": "code",
   "execution_count": 108,
   "metadata": {},
   "outputs": [
    {
     "name": "stdout",
     "output_type": "stream",
     "text": [
      "W\u001b[96m 0.0581274375493874 lb \u001b[39m\n"
     ]
    }
   ],
   "source": [
    "weight = (pow(d * np.pi, 2) * Dm * Na * 0.2817) / (4)\n",
    "print('W' + Fore.LIGHTCYAN_EX, weight, 'lb', Fore.RESET)"
   ]
  },
  {
   "attachments": {},
   "cell_type": "markdown",
   "metadata": {},
   "source": [
    "### Encontrar la frecuencia"
   ]
  },
  {
   "cell_type": "code",
   "execution_count": 109,
   "metadata": {},
   "outputs": [
    {
     "name": "stdout",
     "output_type": "stream",
     "text": [
      "f\u001b[96m 282.67412429416095 Hz \u001b[39m\n"
     ]
    }
   ],
   "source": [
    "f = 1/2 * pow( k * 386.2 /weight, 1/2)\n",
    "print('f' + Fore.LIGHTCYAN_EX, f, 'Hz', Fore.RESET)"
   ]
  },
  {
   "cell_type": "code",
   "execution_count": 110,
   "metadata": {},
   "outputs": [
    {
     "data": {
      "text/plain": [
       "14.133706214708047"
      ]
     },
     "execution_count": 110,
     "metadata": {},
     "output_type": "execute_result"
    }
   ],
   "source": [
    "f/F_m"
   ]
  }
 ],
 "metadata": {
  "kernelspec": {
   "display_name": "design",
   "language": "python",
   "name": "python3"
  },
  "language_info": {
   "codemirror_mode": {
    "name": "ipython",
    "version": 3
   },
   "file_extension": ".py",
   "mimetype": "text/x-python",
   "name": "python",
   "nbconvert_exporter": "python",
   "pygments_lexer": "ipython3",
   "version": "3.10.11"
  },
  "orig_nbformat": 4
 },
 "nbformat": 4,
 "nbformat_minor": 2
}
