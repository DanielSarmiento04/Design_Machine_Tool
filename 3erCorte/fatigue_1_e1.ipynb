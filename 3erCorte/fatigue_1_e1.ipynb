{
 "cells": [
  {
   "attachments": {},
   "cell_type": "markdown",
   "metadata": {},
   "source": [
    "# Enunciado \n",
    "\n",
    "Un resorte helicoidal de compresión fabricado, hecho de alambre de piano, tiene un tamaño de alambre de 0.092 in, un diámetro exterior de la espira de 9/16 in, una longitud libre de 4 3/8 in, 21 espiras activas y ambos extremos a escuadra y esmerilados. El resorte está sin granallar, habrá de ensamblarse con una precarga de 5 lb y operará sometido a una carga máxima de 35 lb durante el servicio.\n",
    "\n",
    "1. Calcule el factor de seguridad que protege contra la falla por fatiga, mediante un lugar geométrico de fatiga por torsión de Gerber y datos de Zimmerli.\n",
    "\n",
    "2. Repita el inciso *1* usando el lugar geométrico de fatiga por torsión de Sines (la componente del esfuerzo constante no tiene efecto) y los datos de Zimmerli.\n",
    "\n",
    "3. Repita utilizando el lugar geométrico de falla por torsión de Goodman y datos de Zimmerli\n",
    "\n",
    "4. Repita utilizando el lugar geométrico de falla de Whal, con datos de Zimmerli.\n",
    "5. Determine la frecuencia crítica del resorte"
   ]
  },
  {
   "attachments": {},
   "cell_type": "markdown",
   "metadata": {},
   "source": [
    "### Import necessary libraries"
   ]
  },
  {
   "cell_type": "code",
   "execution_count": 1,
   "metadata": {},
   "outputs": [],
   "source": [
    "import pandas as pd\n",
    "from sympy import Eq, solve, Symbol\n",
    "import numpy as np\n",
    "from colorama import Fore"
   ]
  },
  {
   "attachments": {},
   "cell_type": "markdown",
   "metadata": {},
   "source": [
    "### Establecer datos conocidos"
   ]
  },
  {
   "cell_type": "code",
   "execution_count": 23,
   "metadata": {},
   "outputs": [],
   "source": [
    "d = 0.092 # in\n",
    "De = 9 / 16  # in\n",
    "L_f = (4 * 8 + 3) / 8\n",
    "F_max = 35 #lb\n",
    "F_min = 5 #lb\n"
   ]
  },
  {
   "attachments": {},
   "cell_type": "markdown",
   "metadata": {},
   "source": [
    "### Selección del material"
   ]
  },
  {
   "cell_type": "code",
   "execution_count": 5,
   "metadata": {},
   "outputs": [
    {
     "data": {
      "text/html": [
       "<div>\n",
       "<style scoped>\n",
       "    .dataframe tbody tr th:only-of-type {\n",
       "        vertical-align: middle;\n",
       "    }\n",
       "\n",
       "    .dataframe tbody tr th {\n",
       "        vertical-align: top;\n",
       "    }\n",
       "\n",
       "    .dataframe thead th {\n",
       "        text-align: right;\n",
       "    }\n",
       "</style>\n",
       "<table border=\"1\" class=\"dataframe\">\n",
       "  <thead>\n",
       "    <tr style=\"text-align: right;\">\n",
       "      <th></th>\n",
       "      <th>Material</th>\n",
       "      <th>Limite tension</th>\n",
       "      <th>limite torsion</th>\n",
       "      <th>Diámetro in</th>\n",
       "      <th>E M-psi</th>\n",
       "      <th>E GPa</th>\n",
       "      <th>G M-psi</th>\n",
       "      <th>G GPa</th>\n",
       "    </tr>\n",
       "  </thead>\n",
       "  <tbody>\n",
       "    <tr>\n",
       "      <th>0</th>\n",
       "      <td>Alambre de piano A228</td>\n",
       "      <td>65-75</td>\n",
       "      <td>45-60</td>\n",
       "      <td>&lt;0.032</td>\n",
       "      <td>29.5</td>\n",
       "      <td>203.4</td>\n",
       "      <td>12.00</td>\n",
       "      <td>82.7</td>\n",
       "    </tr>\n",
       "    <tr>\n",
       "      <th>1</th>\n",
       "      <td>Alambre de piano A228</td>\n",
       "      <td>65-75</td>\n",
       "      <td>45-60</td>\n",
       "      <td>0.033-0.063</td>\n",
       "      <td>29.0</td>\n",
       "      <td>200.0</td>\n",
       "      <td>11.85</td>\n",
       "      <td>81.7</td>\n",
       "    </tr>\n",
       "    <tr>\n",
       "      <th>2</th>\n",
       "      <td>Alambre de piano A228</td>\n",
       "      <td>65-75</td>\n",
       "      <td>45-60</td>\n",
       "      <td>0.064-0.125</td>\n",
       "      <td>28.5</td>\n",
       "      <td>196.5</td>\n",
       "      <td>11.75</td>\n",
       "      <td>81.0</td>\n",
       "    </tr>\n",
       "    <tr>\n",
       "      <th>3</th>\n",
       "      <td>Alambre de piano A228</td>\n",
       "      <td>65-75</td>\n",
       "      <td>45-60</td>\n",
       "      <td>&gt;0.125</td>\n",
       "      <td>28.0</td>\n",
       "      <td>193.0</td>\n",
       "      <td>11.60</td>\n",
       "      <td>80.0</td>\n",
       "    </tr>\n",
       "    <tr>\n",
       "      <th>4</th>\n",
       "      <td>Resorte estirado duro A227</td>\n",
       "      <td>60-70</td>\n",
       "      <td>45-55</td>\n",
       "      <td>&lt;0.032</td>\n",
       "      <td>28.8</td>\n",
       "      <td>198.6</td>\n",
       "      <td>11.70</td>\n",
       "      <td>80.7</td>\n",
       "    </tr>\n",
       "  </tbody>\n",
       "</table>\n",
       "</div>"
      ],
      "text/plain": [
       "                     Material Limite tension limite torsion  Diámetro in   \n",
       "0       Alambre de piano A228          65-75          45-60       <0.032  \\\n",
       "1       Alambre de piano A228          65-75          45-60  0.033-0.063   \n",
       "2       Alambre de piano A228          65-75          45-60  0.064-0.125   \n",
       "3       Alambre de piano A228          65-75          45-60       >0.125   \n",
       "4  Resorte estirado duro A227          60-70          45-55       <0.032   \n",
       "\n",
       "   E M-psi  E GPa  G M-psi  G GPa  \n",
       "0     29.5  203.4    12.00   82.7  \n",
       "1     29.0  200.0    11.85   81.7  \n",
       "2     28.5  196.5    11.75   81.0  \n",
       "3     28.0  193.0    11.60   80.0  \n",
       "4     28.8  198.6    11.70   80.7  "
      ]
     },
     "execution_count": 5,
     "metadata": {},
     "output_type": "execute_result"
    }
   ],
   "source": [
    "table_10_5 = pd.read_csv('tables/table_10_5.csv')\n",
    "table_10_5.head()"
   ]
  },
  {
   "cell_type": "code",
   "execution_count": 10,
   "metadata": {},
   "outputs": [
    {
     "data": {
      "text/plain": [
       "(array(['65-75', '45-60', '0.064-0.125', 28.5, 196.5, 11.75, 81.0],\n",
       "       dtype=object),\n",
       " 0.45,\n",
       " 11.75)"
      ]
     },
     "execution_count": 10,
     "metadata": {},
     "output_type": "execute_result"
    }
   ],
   "source": [
    "# Search Cromo-vanadio A231\t\n",
    "count = 2\n",
    "material  = table_10_5[table_10_5['Material'] == 'Alambre de piano A228'].\\\n",
    "    values[count][1:]\n",
    "G = material[-2]\n",
    "porcentaje_sut = int(material[1].split('-')[0])/100\n",
    "material, porcentaje_sut, G"
   ]
  },
  {
   "attachments": {},
   "cell_type": "markdown",
   "metadata": {},
   "source": [
    "### Encontrar c"
   ]
  },
  {
   "cell_type": "code",
   "execution_count": 21,
   "metadata": {},
   "outputs": [
    {
     "name": "stdout",
     "output_type": "stream",
     "text": [
      "\u001b[96mDm =  0.47050000000000003 in \u001b[39m\n",
      "\u001b[92mc =  5.114130434782609 \u001b[39m\n"
     ]
    }
   ],
   "source": [
    "Dm = De - d # in\n",
    "print(Fore.LIGHTCYAN_EX + 'Dm = ', Dm, 'in', Fore.RESET)\n",
    "\n",
    "c = Dm/d \n",
    "print(Fore.LIGHTGREEN_EX + 'c = ', c, Fore.RESET)\n"
   ]
  },
  {
   "attachments": {},
   "cell_type": "markdown",
   "metadata": {},
   "source": [
    "### Encontrar el valor de K_b"
   ]
  },
  {
   "cell_type": "code",
   "execution_count": 22,
   "metadata": {},
   "outputs": [
    {
     "name": "stdout",
     "output_type": "stream",
     "text": [
      "\u001b[97mk_b =  1.286425902864259 \u001b[39m\n"
     ]
    }
   ],
   "source": [
    "k_b = (4 * c + 2) / (4 * c - 3)\n",
    "print(Fore.LIGHTWHITE_EX + 'k_b = ', k_b, Fore.RESET)"
   ]
  },
  {
   "attachments": {},
   "cell_type": "markdown",
   "metadata": {},
   "source": [
    "### Encontrar las fuerzas estándares"
   ]
  },
  {
   "cell_type": "code",
   "execution_count": 24,
   "metadata": {},
   "outputs": [
    {
     "name": "stdout",
     "output_type": "stream",
     "text": [
      "F_a\u001b[94m =  15.0 lb \u001b[39m\n",
      "F_m\u001b[94m =  20.0 lb \u001b[39m\n"
     ]
    }
   ],
   "source": [
    "F_a = (F_max - F_min) / 2\n",
    "\n",
    "F_m = (F_max + F_min) /2\n",
    "\n",
    "print('F_a' + Fore.LIGHTBLUE_EX + ' = ', F_a, 'lb', Fore.RESET)\n",
    "print('F_m' + Fore.LIGHTBLUE_EX + ' = ', F_m, 'lb', Fore.RESET)"
   ]
  },
  {
   "attachments": {},
   "cell_type": "markdown",
   "metadata": {},
   "source": [
    "### Encontrar los esfuerzos"
   ]
  },
  {
   "cell_type": "code",
   "execution_count": 26,
   "metadata": {},
   "outputs": [
    {
     "name": "stdout",
     "output_type": "stream",
     "text": [
      "tau_a\u001b[94m =  29690.1434086965 psi \u001b[39m\n",
      "tau_m\u001b[94m =  39586.857878261995 psi \u001b[39m\n"
     ]
    }
   ],
   "source": [
    "tau = lambda K_b, F, D_m, d : 8 * K_b * F * D_m / (np.pi * pow(d,3))\n",
    "\n",
    "tau_a = tau(k_b, F_a, Dm, d)\n",
    "tau_m = tau(k_b, F_m, Dm, d)\n",
    "\n",
    "print('tau_a' + Fore.LIGHTBLUE_EX + ' = ', tau_a, 'psi', Fore.RESET)\n",
    "print('tau_m' + Fore.LIGHTBLUE_EX + ' = ', tau_m, 'psi', Fore.RESET)"
   ]
  },
  {
   "cell_type": "code",
   "execution_count": null,
   "metadata": {},
   "outputs": [],
   "source": []
  }
 ],
 "metadata": {
  "kernelspec": {
   "display_name": "design",
   "language": "python",
   "name": "python3"
  },
  "language_info": {
   "codemirror_mode": {
    "name": "ipython",
    "version": 3
   },
   "file_extension": ".py",
   "mimetype": "text/x-python",
   "name": "python",
   "nbconvert_exporter": "python",
   "pygments_lexer": "ipython3",
   "version": "3.10.11"
  },
  "orig_nbformat": 4
 },
 "nbformat": 4,
 "nbformat_minor": 2
}
